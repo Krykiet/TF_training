{
  "nbformat": 4,
  "nbformat_minor": 0,
  "metadata": {
    "colab": {
      "provenance": [],
      "include_colab_link": true
    },
    "kernelspec": {
      "name": "python3",
      "display_name": "Python 3"
    },
    "language_info": {
      "name": "python"
    }
  },
  "cells": [
    {
      "cell_type": "markdown",
      "metadata": {
        "id": "view-in-github",
        "colab_type": "text"
      },
      "source": [
        "<a href=\"https://colab.research.google.com/github/Krykiet/TF_training/blob/main/01_neural_network_regression_with_tensorflow.ipynb\" target=\"_parent\"><img src=\"https://colab.research.google.com/assets/colab-badge.svg\" alt=\"Open In Colab\"/></a>"
      ]
    },
    {
      "cell_type": "markdown",
      "source": [
        "# Regression with Neural Networks in TF\n",
        "\n",
        "Simplified: predicting a number based on other numbers"
      ],
      "metadata": {
        "id": "XCPOjd3m9B9i"
      }
    },
    {
      "cell_type": "code",
      "source": [
        "# Import TensorFlow\n",
        "import tensorflow as tf\n",
        "print(tf.__version__)"
      ],
      "metadata": {
        "colab": {
          "base_uri": "https://localhost:8080/"
        },
        "id": "y9wYOieO_Qzs",
        "outputId": "b7695d58-6c97-4f73-e38d-8ca5d73ff294"
      },
      "execution_count": 1,
      "outputs": [
        {
          "output_type": "stream",
          "name": "stdout",
          "text": [
            "2.9.2\n"
          ]
        }
      ]
    },
    {
      "cell_type": "markdown",
      "source": [
        "## Creating some data to view and fit"
      ],
      "metadata": {
        "id": "q30n5-iI_UcM"
      }
    },
    {
      "cell_type": "code",
      "source": [
        "import numpy as np\n",
        "import matplotlib.pyplot as plt\n",
        "\n",
        "# Create features\n",
        "X = np.array([-7.0, -4.0, -1.0, 2.0, 5.0, 8.0, 11.0, 14.0])\n",
        "\n",
        "# Create labels\n",
        "y = np.array([3.0, 6.0, 9.0, 12.0, 15.0, 18.0, 21.0, 24.0])\n",
        "\n",
        "# Visualize it\n",
        "plt.scatter(X, y)"
      ],
      "metadata": {
        "colab": {
          "base_uri": "https://localhost:8080/",
          "height": 286
        },
        "id": "HlIdCE31_lsb",
        "outputId": "5f7a8fc6-3da9-4699-b04a-489fd834bb8e"
      },
      "execution_count": 2,
      "outputs": [
        {
          "output_type": "execute_result",
          "data": {
            "text/plain": [
              "<matplotlib.collections.PathCollection at 0x7fb8897d7590>"
            ]
          },
          "metadata": {},
          "execution_count": 2
        },
        {
          "output_type": "display_data",
          "data": {
            "text/plain": [
              "<Figure size 432x288 with 1 Axes>"
            ],
            "image/png": "[encoded data removed]"
          },
          "metadata": {
            "needs_background": "light"
          }
        }
      ]
    },
    {
      "cell_type": "code",
      "source": [
        "y == X + 10"
      ],
      "metadata": {
        "colab": {
          "base_uri": "https://localhost:8080/"
        },
        "id": "S1sHTew8_67t",
        "outputId": "1f6762c8-b928-469a-d64c-c47f76dd4448"
      },
      "execution_count": 3,
      "outputs": [
        {
          "output_type": "execute_result",
          "data": {
            "text/plain": [
              "array([ True,  True,  True,  True,  True,  True,  True,  True])"
            ]
          },
          "metadata": {},
          "execution_count": 3
        }
      ]
    },
    {
      "cell_type": "markdown",
      "source": [
        "## Input and output shapes\n",
        "\n",
        "Shapes will vary depending on the problem"
      ],
      "metadata": {
        "id": "yBPoCbmyANMj"
      }
    },
    {
      "cell_type": "code",
      "source": [
        "# Create a demo tensor for price prediction problem\n",
        "house_info = tf.constant([\"bedroom\", \"bathroom\", \"garage\"])\n",
        "house_price = tf.constant([939700])\n",
        "house_info, house_price"
      ],
      "metadata": {
        "colab": {
          "base_uri": "https://localhost:8080/"
        },
        "id": "0FDFJyNAAVbb",
        "outputId": "62fa890d-cf4a-4c17-b7be-32d65be6641d"
      },
      "execution_count": 4,
      "outputs": [
        {
          "output_type": "execute_result",
          "data": {
            "text/plain": [
              "(<tf.Tensor: shape=(3,), dtype=string, numpy=array([b'bedroom', b'bathroom', b'garage'], dtype=object)>,\n",
              " <tf.Tensor: shape=(1,), dtype=int32, numpy=array([939700], dtype=int32)>)"
            ]
          },
          "metadata": {},
          "execution_count": 4
        }
      ]
    },
    {
      "cell_type": "code",
      "source": [
        "input_shape= X[0].shape\n",
        "output_shape = y[0].shape\n",
        "input_shape, output_shape"
      ],
      "metadata": {
        "colab": {
          "base_uri": "https://localhost:8080/"
        },
        "id": "QYLXnl9hAwyE",
        "outputId": "6dbb510b-53c1-4047-c3f4-806d14769117"
      },
      "execution_count": 5,
      "outputs": [
        {
          "output_type": "execute_result",
          "data": {
            "text/plain": [
              "((), ())"
            ]
          },
          "metadata": {},
          "execution_count": 5
        }
      ]
    },
    {
      "cell_type": "markdown",
      "source": [
        "These are scalars, rank 0 tensors - no shape"
      ],
      "metadata": {
        "id": "I_uafpFFA998"
      }
    },
    {
      "cell_type": "code",
      "source": [
        "X[0].ndim"
      ],
      "metadata": {
        "colab": {
          "base_uri": "https://localhost:8080/"
        },
        "id": "qRSpT07NBbis",
        "outputId": "4a638a9a-f5dd-4a64-85a9-a6af8c198e27"
      },
      "execution_count": 6,
      "outputs": [
        {
          "output_type": "execute_result",
          "data": {
            "text/plain": [
              "0"
            ]
          },
          "metadata": {},
          "execution_count": 6
        }
      ]
    },
    {
      "cell_type": "code",
      "source": [
        "X_reshaped = X.reshape(-1, 1)\n",
        "X_reshaped, X_reshaped.ndim"
      ],
      "metadata": {
        "colab": {
          "base_uri": "https://localhost:8080/"
        },
        "id": "VPRDum67Be3U",
        "outputId": "52df2470-fe77-4454-a204-01c321b2e63c"
      },
      "execution_count": 7,
      "outputs": [
        {
          "output_type": "execute_result",
          "data": {
            "text/plain": [
              "(array([[-7.],\n",
              "        [-4.],\n",
              "        [-1.],\n",
              "        [ 2.],\n",
              "        [ 5.],\n",
              "        [ 8.],\n",
              "        [11.],\n",
              "        [14.]]), 2)"
            ]
          },
          "metadata": {},
          "execution_count": 7
        }
      ]
    },
    {
      "cell_type": "code",
      "source": [
        "# Turn NumPy arrays into tensors\n",
        "X = tf.cast(tf.constant(X), dtype=tf.float32)\n",
        "y = tf.cast(tf.constant(y), dtype=tf.float32)\n",
        "X, y"
      ],
      "metadata": {
        "colab": {
          "base_uri": "https://localhost:8080/"
        },
        "id": "GAIw9nGhCNWM",
        "outputId": "2892adc0-f5cf-4104-8227-dac010cdc917"
      },
      "execution_count": 8,
      "outputs": [
        {
          "output_type": "execute_result",
          "data": {
            "text/plain": [
              "(<tf.Tensor: shape=(8,), dtype=float32, numpy=array([-7., -4., -1.,  2.,  5.,  8., 11., 14.], dtype=float32)>,\n",
              " <tf.Tensor: shape=(8,), dtype=float32, numpy=array([ 3.,  6.,  9., 12., 15., 18., 21., 24.], dtype=float32)>)"
            ]
          },
          "metadata": {},
          "execution_count": 8
        }
      ]
    },
    {
      "cell_type": "code",
      "source": [
        "input_shape = X[0].shape\n",
        "output_shape = y[0].shape\n",
        "input_shape, output_shape"
      ],
      "metadata": {
        "colab": {
          "base_uri": "https://localhost:8080/"
        },
        "id": "UhuKCTirDFet",
        "outputId": "c390ae1d-f7bf-4753-c95b-84f8c31f415a"
      },
      "execution_count": 9,
      "outputs": [
        {
          "output_type": "execute_result",
          "data": {
            "text/plain": [
              "(TensorShape([]), TensorShape([]))"
            ]
          },
          "metadata": {},
          "execution_count": 9
        }
      ]
    },
    {
      "cell_type": "code",
      "source": [
        "plt.scatter(X, y)"
      ],
      "metadata": {
        "colab": {
          "base_uri": "https://localhost:8080/",
          "height": 286
        },
        "id": "uDr2wYH-DNy8",
        "outputId": "0799535a-c436-4865-967c-1bc43a906d82"
      },
      "execution_count": 10,
      "outputs": [
        {
          "output_type": "execute_result",
          "data": {
            "text/plain": [
              "<matplotlib.collections.PathCollection at 0x7fb889754f90>"
            ]
          },
          "metadata": {},
          "execution_count": 10
        },
        {
          "output_type": "display_data",
          "data": {
            "text/plain": [
              "<Figure size 432x288 with 1 Axes>"
            ],
            "image/png": "[encoded data removed]"
          },
          "metadata": {
            "needs_background": "light"
          }
        }
      ]
    },
    {
      "cell_type": "markdown",
      "source": [
        "## Steps in modellling with TensorFlow\n",
        "\n",
        "1. **Creating a model** - define the input and output layers, as well as the hidden layers of a deep learning model.\n",
        "2. **Compiling a mode**l - define the loss function (how wrong the model is) and optimizer (tells model how to improve the patters its learning) and evaluation metrics(what we can use to interpret the performance of our model).\n",
        "3. **Fitting a model** - letting the model try to find patterns between X & y"
      ],
      "metadata": {
        "id": "1tZA_ctIDT6E"
      }
    },
    {
      "cell_type": "code",
      "source": [
        "# Set random seed\n",
        "tf.random.set_seed(42)\n",
        "\n",
        "# 1. Create a model using the Sequential API\n",
        "# model = tf.keras.Sequential([\n",
        "#     tf.keras.layers.Dense(1)\n",
        "# ])\n",
        "\n",
        "model = tf.keras.Sequential()\n",
        "model.add(tf.keras.layers.Dense(1))\n",
        "\n",
        "# 2. Compile the model\n",
        "model.compile(loss=tf.keras.losses.mae, # mae = mean absolute error \n",
        "              optimizer=tf.keras.optimizers.SGD(), # SGD = stochastic gradient descent\n",
        "              metrics=[\"mae\"])\n",
        "\n",
        "# 3. Fit the model\n",
        "model.fit(tf.expand_dims(X, axis=-1), y, epochs=200)"
      ],
      "metadata": {
        "colab": {
          "base_uri": "https://localhost:8080/"
        },
        "id": "hT0TNCvkDufE",
        "outputId": "ae7d82b7-bfc8-4d3b-e759-6822d3131485"
      },
      "execution_count": 11,
      "outputs": [
        {
          "output_type": "stream",
          "name": "stdout",
          "text": [
            "Epoch 1/200\n",
            "1/1 [==============================] - 1s 589ms/step - loss: 11.5048 - mae: 11.5048\n",
            "Epoch 2/200\n",
            "1/1 [==============================] - 0s 10ms/step - loss: 11.3723 - mae: 11.3723\n",
            "Epoch 3/200\n",
            "1/1 [==============================] - 0s 9ms/step - loss: 11.2398 - mae: 11.2398\n",
            "Epoch 4/200\n",
            "1/1 [==============================] - 0s 10ms/step - loss: 11.1073 - mae: 11.1073\n",
            "Epoch 5/200\n",
            "1/1 [==============================] - 0s 10ms/step - loss: 10.9748 - mae: 10.9748\n",
            "Epoch 6/200\n",
            "1/1 [==============================] - 0s 10ms/step - loss: 10.8423 - mae: 10.8423\n",
            "Epoch 7/200\n",
            "1/1 [==============================] - 0s 9ms/step - loss: 10.7098 - mae: 10.7098\n",
            "Epoch 8/200\n",
            "1/1 [==============================] - 0s 11ms/step - loss: 10.5773 - mae: 10.5773\n",
            "Epoch 9/200\n",
            "1/1 [==============================] - 0s 10ms/step - loss: 10.4448 - mae: 10.4448\n",
            "Epoch 10/200\n",
            "1/1 [==============================] - 0s 10ms/step - loss: 10.3123 - mae: 10.3123\n",
            "Epoch 11/200\n",
            "1/1 [==============================] - 0s 9ms/step - loss: 10.1798 - mae: 10.1798\n",
            "Epoch 12/200\n",
            "1/1 [==============================] - 0s 7ms/step - loss: 10.0473 - mae: 10.0473\n",
            "Epoch 13/200\n",
            "1/1 [==============================] - 0s 10ms/step - loss: 9.9148 - mae: 9.9148\n",
            "Epoch 14/200\n",
            "1/1 [==============================] - 0s 7ms/step - loss: 9.7823 - mae: 9.7823\n",
            "Epoch 15/200\n",
            "1/1 [==============================] - 0s 9ms/step - loss: 9.6498 - mae: 9.6498\n",
            "Epoch 16/200\n",
            "1/1 [==============================] - 0s 8ms/step - loss: 9.5173 - mae: 9.5173\n",
            "Epoch 17/200\n",
            "1/1 [==============================] - 0s 8ms/step - loss: 9.3848 - mae: 9.3848\n",
            "Epoch 18/200\n",
            "1/1 [==============================] - 0s 13ms/step - loss: 9.2523 - mae: 9.2523\n",
            "Epoch 19/200\n",
            "1/1 [==============================] - 0s 7ms/step - loss: 9.1198 - mae: 9.1198\n",
            "Epoch 20/200\n",
            "1/1 [==============================] - 0s 8ms/step - loss: 8.9873 - mae: 8.9873\n",
            "Epoch 21/200\n",
            "1/1 [==============================] - 0s 9ms/step - loss: 8.8548 - mae: 8.8548\n",
            "Epoch 22/200\n",
            "1/1 [==============================] - 0s 9ms/step - loss: 8.7223 - mae: 8.7223\n",
            "Epoch 23/200\n",
            "1/1 [==============================] - 0s 9ms/step - loss: 8.5898 - mae: 8.5898\n",
            "Epoch 24/200\n",
            "1/1 [==============================] - 0s 8ms/step - loss: 8.4573 - mae: 8.4573\n",
            "Epoch 25/200\n",
            "1/1 [==============================] - 0s 9ms/step - loss: 8.3248 - mae: 8.3248\n",
            "Epoch 26/200\n",
            "1/1 [==============================] - 0s 9ms/step - loss: 8.1923 - mae: 8.1923\n",
            "Epoch 27/200\n",
            "1/1 [==============================] - 0s 9ms/step - loss: 8.0598 - mae: 8.0598\n",
            "Epoch 28/200\n",
            "1/1 [==============================] - 0s 9ms/step - loss: 7.9273 - mae: 7.9273\n",
            "Epoch 29/200\n",
            "1/1 [==============================] - 0s 8ms/step - loss: 7.7948 - mae: 7.7948\n",
            "Epoch 30/200\n",
            "1/1 [==============================] - 0s 7ms/step - loss: 7.6623 - mae: 7.6623\n",
            "Epoch 31/200\n",
            "1/1 [==============================] - 0s 7ms/step - loss: 7.5298 - mae: 7.5298\n",
            "Epoch 32/200\n",
            "1/1 [==============================] - 0s 8ms/step - loss: 7.3973 - mae: 7.3973\n",
            "Epoch 33/200\n",
            "1/1 [==============================] - 0s 7ms/step - loss: 7.2648 - mae: 7.2648\n",
            "Epoch 34/200\n",
            "1/1 [==============================] - 0s 7ms/step - loss: 7.2525 - mae: 7.2525\n",
            "Epoch 35/200\n",
            "1/1 [==============================] - 0s 8ms/step - loss: 7.2469 - mae: 7.2469\n",
            "Epoch 36/200\n",
            "1/1 [==============================] - 0s 8ms/step - loss: 7.2413 - mae: 7.2413\n",
            "Epoch 37/200\n",
            "1/1 [==============================] - 0s 7ms/step - loss: 7.2356 - mae: 7.2356\n",
            "Epoch 38/200\n",
            "1/1 [==============================] - 0s 8ms/step - loss: 7.2300 - mae: 7.2300\n",
            "Epoch 39/200\n",
            "1/1 [==============================] - 0s 8ms/step - loss: 7.2244 - mae: 7.2244\n",
            "Epoch 40/200\n",
            "1/1 [==============================] - 0s 8ms/step - loss: 7.2188 - mae: 7.2188\n",
            "Epoch 41/200\n",
            "1/1 [==============================] - 0s 8ms/step - loss: 7.2131 - mae: 7.2131\n",
            "Epoch 42/200\n",
            "1/1 [==============================] - 0s 8ms/step - loss: 7.2075 - mae: 7.2075\n",
            "Epoch 43/200\n",
            "1/1 [==============================] - 0s 8ms/step - loss: 7.2019 - mae: 7.2019\n",
            "Epoch 44/200\n",
            "1/1 [==============================] - 0s 8ms/step - loss: 7.1963 - mae: 7.1963\n",
            "Epoch 45/200\n",
            "1/1 [==============================] - 0s 8ms/step - loss: 7.1906 - mae: 7.1906\n",
            "Epoch 46/200\n",
            "1/1 [==============================] - 0s 8ms/step - loss: 7.1850 - mae: 7.1850\n",
            "Epoch 47/200\n",
            "1/1 [==============================] - 0s 9ms/step - loss: 7.1794 - mae: 7.1794\n",
            "Epoch 48/200\n",
            "1/1 [==============================] - 0s 8ms/step - loss: 7.1738 - mae: 7.1738\n",
            "Epoch 49/200\n",
            "1/1 [==============================] - 0s 7ms/step - loss: 7.1681 - mae: 7.1681\n",
            "Epoch 50/200\n",
            "1/1 [==============================] - 0s 7ms/step - loss: 7.1625 - mae: 7.1625\n",
            "Epoch 51/200\n",
            "1/1 [==============================] - 0s 7ms/step - loss: 7.1569 - mae: 7.1569\n",
            "Epoch 52/200\n",
            "1/1 [==============================] - 0s 7ms/step - loss: 7.1512 - mae: 7.1512\n",
            "Epoch 53/200\n",
            "1/1 [==============================] - 0s 7ms/step - loss: 7.1456 - mae: 7.1456\n",
            "Epoch 54/200\n",
            "1/1 [==============================] - 0s 7ms/step - loss: 7.1400 - mae: 7.1400\n",
            "Epoch 55/200\n",
            "1/1 [==============================] - 0s 7ms/step - loss: 7.1344 - mae: 7.1344\n",
            "Epoch 56/200\n",
            "1/1 [==============================] - 0s 7ms/step - loss: 7.1287 - mae: 7.1287\n",
            "Epoch 57/200\n",
            "1/1 [==============================] - 0s 9ms/step - loss: 7.1231 - mae: 7.1231\n",
            "Epoch 58/200\n",
            "1/1 [==============================] - 0s 7ms/step - loss: 7.1175 - mae: 7.1175\n",
            "Epoch 59/200\n",
            "1/1 [==============================] - 0s 8ms/step - loss: 7.1119 - mae: 7.1119\n",
            "Epoch 60/200\n",
            "1/1 [==============================] - 0s 7ms/step - loss: 7.1063 - mae: 7.1063\n",
            "Epoch 61/200\n",
            "1/1 [==============================] - 0s 7ms/step - loss: 7.1006 - mae: 7.1006\n",
            "Epoch 62/200\n",
            "1/1 [==============================] - 0s 7ms/step - loss: 7.0950 - mae: 7.0950\n",
            "Epoch 63/200\n",
            "1/1 [==============================] - 0s 9ms/step - loss: 7.0894 - mae: 7.0894\n",
            "Epoch 64/200\n",
            "1/1 [==============================] - 0s 8ms/step - loss: 7.0838 - mae: 7.0838\n",
            "Epoch 65/200\n",
            "1/1 [==============================] - 0s 7ms/step - loss: 7.0781 - mae: 7.0781\n",
            "Epoch 66/200\n",
            "1/1 [==============================] - 0s 7ms/step - loss: 7.0725 - mae: 7.0725\n",
            "Epoch 67/200\n",
            "1/1 [==============================] - 0s 8ms/step - loss: 7.0669 - mae: 7.0669\n",
            "Epoch 68/200\n",
            "1/1 [==============================] - 0s 9ms/step - loss: 7.0613 - mae: 7.0613\n",
            "Epoch 69/200\n",
            "1/1 [==============================] - 0s 6ms/step - loss: 7.0556 - mae: 7.0556\n",
            "Epoch 70/200\n",
            "1/1 [==============================] - 0s 6ms/step - loss: 7.0500 - mae: 7.0500\n",
            "Epoch 71/200\n",
            "1/1 [==============================] - 0s 6ms/step - loss: 7.0444 - mae: 7.0444\n",
            "Epoch 72/200\n",
            "1/1 [==============================] - 0s 6ms/step - loss: 7.0388 - mae: 7.0388\n",
            "Epoch 73/200\n",
            "1/1 [==============================] - 0s 6ms/step - loss: 7.0331 - mae: 7.0331\n",
            "Epoch 74/200\n",
            "1/1 [==============================] - 0s 6ms/step - loss: 7.0275 - mae: 7.0275\n",
            "Epoch 75/200\n",
            "1/1 [==============================] - 0s 6ms/step - loss: 7.0219 - mae: 7.0219\n",
            "Epoch 76/200\n",
            "1/1 [==============================] - 0s 6ms/step - loss: 7.0163 - mae: 7.0163\n",
            "Epoch 77/200\n",
            "1/1 [==============================] - 0s 9ms/step - loss: 7.0106 - mae: 7.0106\n",
            "Epoch 78/200\n",
            "1/1 [==============================] - 0s 6ms/step - loss: 7.0050 - mae: 7.0050\n",
            "Epoch 79/200\n",
            "1/1 [==============================] - 0s 6ms/step - loss: 6.9994 - mae: 6.9994\n",
            "Epoch 80/200\n",
            "1/1 [==============================] - 0s 6ms/step - loss: 6.9938 - mae: 6.9938\n",
            "Epoch 81/200\n",
            "1/1 [==============================] - 0s 6ms/step - loss: 6.9881 - mae: 6.9881\n",
            "Epoch 82/200\n",
            "1/1 [==============================] - 0s 6ms/step - loss: 6.9825 - mae: 6.9825\n",
            "Epoch 83/200\n",
            "1/1 [==============================] - 0s 6ms/step - loss: 6.9769 - mae: 6.9769\n",
            "Epoch 84/200\n",
            "1/1 [==============================] - 0s 6ms/step - loss: 6.9713 - mae: 6.9713\n",
            "Epoch 85/200\n",
            "1/1 [==============================] - 0s 6ms/step - loss: 6.9656 - mae: 6.9656\n",
            "Epoch 86/200\n",
            "1/1 [==============================] - 0s 6ms/step - loss: 6.9600 - mae: 6.9600\n",
            "Epoch 87/200\n",
            "1/1 [==============================] - 0s 6ms/step - loss: 6.9544 - mae: 6.9544\n",
            "Epoch 88/200\n",
            "1/1 [==============================] - 0s 6ms/step - loss: 6.9488 - mae: 6.9488\n",
            "Epoch 89/200\n",
            "1/1 [==============================] - 0s 6ms/step - loss: 6.9431 - mae: 6.9431\n",
            "Epoch 90/200\n",
            "1/1 [==============================] - 0s 6ms/step - loss: 6.9375 - mae: 6.9375\n",
            "Epoch 91/200\n",
            "1/1 [==============================] - 0s 7ms/step - loss: 6.9319 - mae: 6.9319\n",
            "Epoch 92/200\n",
            "1/1 [==============================] - 0s 6ms/step - loss: 6.9263 - mae: 6.9263\n",
            "Epoch 93/200\n",
            "1/1 [==============================] - 0s 6ms/step - loss: 6.9206 - mae: 6.9206\n",
            "Epoch 94/200\n",
            "1/1 [==============================] - 0s 7ms/step - loss: 6.9150 - mae: 6.9150\n",
            "Epoch 95/200\n",
            "1/1 [==============================] - 0s 9ms/step - loss: 6.9094 - mae: 6.9094\n",
            "Epoch 96/200\n",
            "1/1 [==============================] - 0s 6ms/step - loss: 6.9038 - mae: 6.9038\n",
            "Epoch 97/200\n",
            "1/1 [==============================] - 0s 7ms/step - loss: 6.8981 - mae: 6.8981\n",
            "Epoch 98/200\n",
            "1/1 [==============================] - 0s 6ms/step - loss: 6.8925 - mae: 6.8925\n",
            "Epoch 99/200\n",
            "1/1 [==============================] - 0s 6ms/step - loss: 6.8869 - mae: 6.8869\n",
            "Epoch 100/200\n",
            "1/1 [==============================] - 0s 6ms/step - loss: 6.8813 - mae: 6.8813\n",
            "Epoch 101/200\n",
            "1/1 [==============================] - 0s 6ms/step - loss: 6.8756 - mae: 6.8756\n",
            "Epoch 102/200\n",
            "1/1 [==============================] - 0s 6ms/step - loss: 6.8700 - mae: 6.8700\n",
            "Epoch 103/200\n",
            "1/1 [==============================] - 0s 7ms/step - loss: 6.8644 - mae: 6.8644\n",
            "Epoch 104/200\n",
            "1/1 [==============================] - 0s 7ms/step - loss: 6.8588 - mae: 6.8588\n",
            "Epoch 105/200\n",
            "1/1 [==============================] - 0s 7ms/step - loss: 6.8531 - mae: 6.8531\n",
            "Epoch 106/200\n",
            "1/1 [==============================] - 0s 6ms/step - loss: 6.8475 - mae: 6.8475\n",
            "Epoch 107/200\n",
            "1/1 [==============================] - 0s 7ms/step - loss: 6.8419 - mae: 6.8419\n",
            "Epoch 108/200\n",
            "1/1 [==============================] - 0s 6ms/step - loss: 6.8363 - mae: 6.8363\n",
            "Epoch 109/200\n",
            "1/1 [==============================] - 0s 6ms/step - loss: 6.8306 - mae: 6.8306\n",
            "Epoch 110/200\n",
            "1/1 [==============================] - 0s 7ms/step - loss: 6.8250 - mae: 6.8250\n",
            "Epoch 111/200\n",
            "1/1 [==============================] - 0s 6ms/step - loss: 6.8194 - mae: 6.8194\n",
            "Epoch 112/200\n",
            "1/1 [==============================] - 0s 7ms/step - loss: 6.8138 - mae: 6.8138\n",
            "Epoch 113/200\n",
            "1/1 [==============================] - 0s 6ms/step - loss: 6.8081 - mae: 6.8081\n",
            "Epoch 114/200\n",
            "1/1 [==============================] - 0s 6ms/step - loss: 6.8025 - mae: 6.8025\n",
            "Epoch 115/200\n",
            "1/1 [==============================] - 0s 6ms/step - loss: 6.7969 - mae: 6.7969\n",
            "Epoch 116/200\n",
            "1/1 [==============================] - 0s 6ms/step - loss: 6.7913 - mae: 6.7913\n",
            "Epoch 117/200\n",
            "1/1 [==============================] - 0s 6ms/step - loss: 6.7856 - mae: 6.7856\n",
            "Epoch 118/200\n",
            "1/1 [==============================] - 0s 7ms/step - loss: 6.7800 - mae: 6.7800\n",
            "Epoch 119/200\n",
            "1/1 [==============================] - 0s 6ms/step - loss: 6.7744 - mae: 6.7744\n",
            "Epoch 120/200\n",
            "1/1 [==============================] - 0s 6ms/step - loss: 6.7688 - mae: 6.7688\n",
            "Epoch 121/200\n",
            "1/1 [==============================] - 0s 6ms/step - loss: 6.7631 - mae: 6.7631\n",
            "Epoch 122/200\n",
            "1/1 [==============================] - 0s 6ms/step - loss: 6.7575 - mae: 6.7575\n",
            "Epoch 123/200\n",
            "1/1 [==============================] - 0s 6ms/step - loss: 6.7519 - mae: 6.7519\n",
            "Epoch 124/200\n",
            "1/1 [==============================] - 0s 6ms/step - loss: 6.7463 - mae: 6.7463\n",
            "Epoch 125/200\n",
            "1/1 [==============================] - 0s 6ms/step - loss: 6.7406 - mae: 6.7406\n",
            "Epoch 126/200\n",
            "1/1 [==============================] - 0s 6ms/step - loss: 6.7350 - mae: 6.7350\n",
            "Epoch 127/200\n",
            "1/1 [==============================] - 0s 8ms/step - loss: 6.7294 - mae: 6.7294\n",
            "Epoch 128/200\n",
            "1/1 [==============================] - 0s 6ms/step - loss: 6.7238 - mae: 6.7238\n",
            "Epoch 129/200\n",
            "1/1 [==============================] - 0s 6ms/step - loss: 6.7181 - mae: 6.7181\n",
            "Epoch 130/200\n",
            "1/1 [==============================] - 0s 6ms/step - loss: 6.7125 - mae: 6.7125\n",
            "Epoch 131/200\n",
            "1/1 [==============================] - 0s 6ms/step - loss: 6.7069 - mae: 6.7069\n",
            "Epoch 132/200\n",
            "1/1 [==============================] - 0s 6ms/step - loss: 6.7013 - mae: 6.7013\n",
            "Epoch 133/200\n",
            "1/1 [==============================] - 0s 45ms/step - loss: 6.6956 - mae: 6.6956\n",
            "Epoch 134/200\n",
            "1/1 [==============================] - 0s 6ms/step - loss: 6.6900 - mae: 6.6900\n",
            "Epoch 135/200\n",
            "1/1 [==============================] - 0s 6ms/step - loss: 6.6844 - mae: 6.6844\n",
            "Epoch 136/200\n",
            "1/1 [==============================] - 0s 6ms/step - loss: 6.6788 - mae: 6.6788\n",
            "Epoch 137/200\n",
            "1/1 [==============================] - 0s 6ms/step - loss: 6.6731 - mae: 6.6731\n",
            "Epoch 138/200\n",
            "1/1 [==============================] - 0s 6ms/step - loss: 6.6675 - mae: 6.6675\n",
            "Epoch 139/200\n",
            "1/1 [==============================] - 0s 6ms/step - loss: 6.6619 - mae: 6.6619\n",
            "Epoch 140/200\n",
            "1/1 [==============================] - 0s 6ms/step - loss: 6.6562 - mae: 6.6562\n",
            "Epoch 141/200\n",
            "1/1 [==============================] - 0s 6ms/step - loss: 6.6506 - mae: 6.6506\n",
            "Epoch 142/200\n",
            "1/1 [==============================] - 0s 6ms/step - loss: 6.6450 - mae: 6.6450\n",
            "Epoch 143/200\n",
            "1/1 [==============================] - 0s 6ms/step - loss: 6.6394 - mae: 6.6394\n",
            "Epoch 144/200\n",
            "1/1 [==============================] - 0s 6ms/step - loss: 6.6337 - mae: 6.6337\n",
            "Epoch 145/200\n",
            "1/1 [==============================] - 0s 6ms/step - loss: 6.6281 - mae: 6.6281\n",
            "Epoch 146/200\n",
            "1/1 [==============================] - 0s 7ms/step - loss: 6.6225 - mae: 6.6225\n",
            "Epoch 147/200\n",
            "1/1 [==============================] - 0s 6ms/step - loss: 6.6169 - mae: 6.6169\n",
            "Epoch 148/200\n",
            "1/1 [==============================] - 0s 7ms/step - loss: 6.6112 - mae: 6.6112\n",
            "Epoch 149/200\n",
            "1/1 [==============================] - 0s 8ms/step - loss: 6.6056 - mae: 6.6056\n",
            "Epoch 150/200\n",
            "1/1 [==============================] - 0s 7ms/step - loss: 6.6000 - mae: 6.6000\n",
            "Epoch 151/200\n",
            "1/1 [==============================] - 0s 6ms/step - loss: 6.5944 - mae: 6.5944\n",
            "Epoch 152/200\n",
            "1/1 [==============================] - 0s 6ms/step - loss: 6.5887 - mae: 6.5887\n",
            "Epoch 153/200\n",
            "1/1 [==============================] - 0s 7ms/step - loss: 6.5831 - mae: 6.5831\n",
            "Epoch 154/200\n",
            "1/1 [==============================] - 0s 7ms/step - loss: 6.5775 - mae: 6.5775\n",
            "Epoch 155/200\n",
            "1/1 [==============================] - 0s 7ms/step - loss: 6.5719 - mae: 6.5719\n",
            "Epoch 156/200\n",
            "1/1 [==============================] - 0s 7ms/step - loss: 6.5662 - mae: 6.5662\n",
            "Epoch 157/200\n",
            "1/1 [==============================] - 0s 7ms/step - loss: 6.5606 - mae: 6.5606\n",
            "Epoch 158/200\n",
            "1/1 [==============================] - 0s 9ms/step - loss: 6.5550 - mae: 6.5550\n",
            "Epoch 159/200\n",
            "1/1 [==============================] - 0s 7ms/step - loss: 6.5494 - mae: 6.5494\n",
            "Epoch 160/200\n",
            "1/1 [==============================] - 0s 7ms/step - loss: 6.5437 - mae: 6.5437\n",
            "Epoch 161/200\n",
            "1/1 [==============================] - 0s 7ms/step - loss: 6.5381 - mae: 6.5381\n",
            "Epoch 162/200\n",
            "1/1 [==============================] - 0s 7ms/step - loss: 6.5325 - mae: 6.5325\n",
            "Epoch 163/200\n",
            "1/1 [==============================] - 0s 7ms/step - loss: 6.5269 - mae: 6.5269\n",
            "Epoch 164/200\n",
            "1/1 [==============================] - 0s 8ms/step - loss: 6.5212 - mae: 6.5212\n",
            "Epoch 165/200\n",
            "1/1 [==============================] - 0s 7ms/step - loss: 6.5156 - mae: 6.5156\n",
            "Epoch 166/200\n",
            "1/1 [==============================] - 0s 8ms/step - loss: 6.5100 - mae: 6.5100\n",
            "Epoch 167/200\n",
            "1/1 [==============================] - 0s 8ms/step - loss: 6.5044 - mae: 6.5044\n",
            "Epoch 168/200\n",
            "1/1 [==============================] - 0s 8ms/step - loss: 6.4987 - mae: 6.4987\n",
            "Epoch 169/200\n",
            "1/1 [==============================] - 0s 8ms/step - loss: 6.4931 - mae: 6.4931\n",
            "Epoch 170/200\n",
            "1/1 [==============================] - 0s 8ms/step - loss: 6.4875 - mae: 6.4875\n",
            "Epoch 171/200\n",
            "1/1 [==============================] - 0s 7ms/step - loss: 6.4819 - mae: 6.4819\n",
            "Epoch 172/200\n",
            "1/1 [==============================] - 0s 8ms/step - loss: 6.4762 - mae: 6.4762\n",
            "Epoch 173/200\n",
            "1/1 [==============================] - 0s 8ms/step - loss: 6.4706 - mae: 6.4706\n",
            "Epoch 174/200\n",
            "1/1 [==============================] - 0s 7ms/step - loss: 6.4650 - mae: 6.4650\n",
            "Epoch 175/200\n",
            "1/1 [==============================] - 0s 8ms/step - loss: 6.4594 - mae: 6.4594\n",
            "Epoch 176/200\n",
            "1/1 [==============================] - 0s 7ms/step - loss: 6.4537 - mae: 6.4537\n",
            "Epoch 177/200\n",
            "1/1 [==============================] - 0s 7ms/step - loss: 6.4481 - mae: 6.4481\n",
            "Epoch 178/200\n",
            "1/1 [==============================] - 0s 7ms/step - loss: 6.4425 - mae: 6.4425\n",
            "Epoch 179/200\n",
            "1/1 [==============================] - 0s 7ms/step - loss: 6.4369 - mae: 6.4369\n",
            "Epoch 180/200\n",
            "1/1 [==============================] - 0s 7ms/step - loss: 6.4312 - mae: 6.4312\n",
            "Epoch 181/200\n",
            "1/1 [==============================] - 0s 8ms/step - loss: 6.4256 - mae: 6.4256\n",
            "Epoch 182/200\n",
            "1/1 [==============================] - 0s 8ms/step - loss: 6.4200 - mae: 6.4200\n",
            "Epoch 183/200\n",
            "1/1 [==============================] - 0s 7ms/step - loss: 6.4144 - mae: 6.4144\n",
            "Epoch 184/200\n",
            "1/1 [==============================] - 0s 7ms/step - loss: 6.4087 - mae: 6.4087\n",
            "Epoch 185/200\n",
            "1/1 [==============================] - 0s 7ms/step - loss: 6.4031 - mae: 6.4031\n",
            "Epoch 186/200\n",
            "1/1 [==============================] - 0s 8ms/step - loss: 6.3975 - mae: 6.3975\n",
            "Epoch 187/200\n",
            "1/1 [==============================] - 0s 8ms/step - loss: 6.3919 - mae: 6.3919\n",
            "Epoch 188/200\n",
            "1/1 [==============================] - 0s 7ms/step - loss: 6.3862 - mae: 6.3862\n",
            "Epoch 189/200\n",
            "1/1 [==============================] - 0s 7ms/step - loss: 6.3806 - mae: 6.3806\n",
            "Epoch 190/200\n",
            "1/1 [==============================] - 0s 7ms/step - loss: 6.3750 - mae: 6.3750\n",
            "Epoch 191/200\n",
            "1/1 [==============================] - 0s 7ms/step - loss: 6.3694 - mae: 6.3694\n",
            "Epoch 192/200\n",
            "1/1 [==============================] - 0s 7ms/step - loss: 6.3637 - mae: 6.3637\n",
            "Epoch 193/200\n",
            "1/1 [==============================] - 0s 7ms/step - loss: 6.3581 - mae: 6.3581\n",
            "Epoch 194/200\n",
            "1/1 [==============================] - 0s 7ms/step - loss: 6.3525 - mae: 6.3525\n",
            "Epoch 195/200\n",
            "1/1 [==============================] - 0s 8ms/step - loss: 6.3469 - mae: 6.3469\n",
            "Epoch 196/200\n",
            "1/1 [==============================] - 0s 7ms/step - loss: 6.3412 - mae: 6.3412\n",
            "Epoch 197/200\n",
            "1/1 [==============================] - 0s 7ms/step - loss: 6.3356 - mae: 6.3356\n",
            "Epoch 198/200\n",
            "1/1 [==============================] - 0s 7ms/step - loss: 6.3300 - mae: 6.3300\n",
            "Epoch 199/200\n",
            "1/1 [==============================] - 0s 6ms/step - loss: 6.3244 - mae: 6.3244\n",
            "Epoch 200/200\n",
            "1/1 [==============================] - 0s 6ms/step - loss: 6.3187 - mae: 6.3187\n"
          ]
        },
        {
          "output_type": "execute_result",
          "data": {
            "text/plain": [
              "<keras.callbacks.History at 0x7fb884f61c10>"
            ]
          },
          "metadata": {},
          "execution_count": 11
        }
      ]
    },
    {
      "cell_type": "code",
      "source": [
        "# Check out X and y\n",
        "X, y"
      ],
      "metadata": {
        "colab": {
          "base_uri": "https://localhost:8080/"
        },
        "id": "1KaP1rjnTFEX",
        "outputId": "85304088-3557-47be-ca72-62adfbe5ec27"
      },
      "execution_count": 12,
      "outputs": [
        {
          "output_type": "execute_result",
          "data": {
            "text/plain": [
              "(<tf.Tensor: shape=(8,), dtype=float32, numpy=array([-7., -4., -1.,  2.,  5.,  8., 11., 14.], dtype=float32)>,\n",
              " <tf.Tensor: shape=(8,), dtype=float32, numpy=array([ 3.,  6.,  9., 12., 15., 18., 21., 24.], dtype=float32)>)"
            ]
          },
          "metadata": {},
          "execution_count": 12
        }
      ]
    },
    {
      "cell_type": "code",
      "source": [
        "# Make a prediction\n",
        "y_pred = model.predict([17.0])"
      ],
      "metadata": {
        "colab": {
          "base_uri": "https://localhost:8080/"
        },
        "id": "KDC7bjlST8Zf",
        "outputId": "aed069bd-671f-4de1-a921-3668795920cc"
      },
      "execution_count": 13,
      "outputs": [
        {
          "output_type": "stream",
          "name": "stdout",
          "text": [
            "1/1 [==============================] - 0s 265ms/step\n"
          ]
        }
      ]
    },
    {
      "cell_type": "code",
      "source": [
        "y_pred"
      ],
      "metadata": {
        "colab": {
          "base_uri": "https://localhost:8080/"
        },
        "id": "5u3aNJccULbH",
        "outputId": "a7a644e4-ee7b-4014-ff6e-3e465c65dd0f"
      },
      "execution_count": 14,
      "outputs": [
        {
          "output_type": "execute_result",
          "data": {
            "text/plain": [
              "array([[30.908516]], dtype=float32)"
            ]
          },
          "metadata": {},
          "execution_count": 14
        }
      ]
    },
    {
      "cell_type": "markdown",
      "source": [
        "## Improving model\n",
        "\n",
        "We can improve our model, by altering the steps we took to create a model.\n",
        "\n",
        "1. **Creating a model** - here we can add more layers, increase the number of hidden units (all called neurons) within each of the hidden layers, change the activation function of each layer.\n",
        "2. **Compiling a model** - here we can change the optimization function or perhaps the **learning rate** of the optimization function.\n",
        "3. **Fitting a model** - here we might fit a model for morem **epochs** (leave it training for longer) or on more data (give the model more examples to learn from).\n"
      ],
      "metadata": {
        "id": "e6XCaZwjUXBf"
      }
    },
    {
      "cell_type": "code",
      "source": [],
      "metadata": {
        "id": "6dwzXT5PtREz"
      },
      "execution_count": 14,
      "outputs": []
    },
    {
      "cell_type": "code",
      "source": [
        "# 0. Set random seed\n",
        "tf.random.set_seed(42)\n",
        "\n",
        "# 1. Create a model\n",
        "model = tf.keras.Sequential([\n",
        "    tf.keras.layers.Dense(10),\n",
        "    tf.keras.layers.Dense(10),\n",
        "    tf.keras.layers.Dense(10),\n",
        "    tf.keras.layers.Dense(1)\n",
        "])\n",
        "\n",
        "# 2. Compile the model\n",
        "model.compile(loss=\"mae\",\n",
        "              optimizer=tf.optimizers.SGD(),\n",
        "              metrics=([\"mae\"]))\n",
        "\n",
        "# 3. Fit the model\n",
        "model.fit(tf.expand_dims(X, axis=-1), y, epochs=300, verbose=2)"
      ],
      "metadata": {
        "colab": {
          "base_uri": "https://localhost:8080/"
        },
        "id": "cu7_Z005mgGY",
        "outputId": "bf55f2ff-9902-43cf-9047-332b03e83517"
      },
      "execution_count": 15,
      "outputs": [
        {
          "output_type": "stream",
          "name": "stdout",
          "text": [
            "Epoch 1/300\n",
            "1/1 - 1s - loss: 16.1154 - mae: 16.1154 - 659ms/epoch - 659ms/step\n",
            "Epoch 2/300\n",
            "1/1 - 0s - loss: 14.9561 - mae: 14.9561 - 6ms/epoch - 6ms/step\n",
            "Epoch 3/300\n",
            "1/1 - 0s - loss: 14.5171 - mae: 14.5171 - 5ms/epoch - 5ms/step\n",
            "Epoch 4/300\n",
            "1/1 - 0s - loss: 14.1221 - mae: 14.1221 - 8ms/epoch - 8ms/step\n",
            "Epoch 5/300\n",
            "1/1 - 0s - loss: 13.7527 - mae: 13.7527 - 5ms/epoch - 5ms/step\n",
            "Epoch 6/300\n",
            "1/1 - 0s - loss: 13.3933 - mae: 13.3933 - 5ms/epoch - 5ms/step\n",
            "Epoch 7/300\n",
            "1/1 - 0s - loss: 13.0296 - mae: 13.0296 - 6ms/epoch - 6ms/step\n",
            "Epoch 8/300\n",
            "1/1 - 0s - loss: 12.6469 - mae: 12.6469 - 6ms/epoch - 6ms/step\n",
            "Epoch 9/300\n",
            "1/1 - 0s - loss: 12.2295 - mae: 12.2295 - 8ms/epoch - 8ms/step\n",
            "Epoch 10/300\n",
            "1/1 - 0s - loss: 11.7585 - mae: 11.7585 - 6ms/epoch - 6ms/step\n",
            "Epoch 11/300\n",
            "1/1 - 0s - loss: 11.2105 - mae: 11.2105 - 7ms/epoch - 7ms/step\n",
            "Epoch 12/300\n",
            "1/1 - 0s - loss: 10.5546 - mae: 10.5546 - 6ms/epoch - 6ms/step\n",
            "Epoch 13/300\n",
            "1/1 - 0s - loss: 9.7485 - mae: 9.7485 - 7ms/epoch - 7ms/step\n",
            "Epoch 14/300\n",
            "1/1 - 0s - loss: 8.7319 - mae: 8.7319 - 5ms/epoch - 5ms/step\n",
            "Epoch 15/300\n",
            "1/1 - 0s - loss: 7.4158 - mae: 7.4158 - 6ms/epoch - 6ms/step\n",
            "Epoch 16/300\n",
            "1/1 - 0s - loss: 7.4675 - mae: 7.4675 - 6ms/epoch - 6ms/step\n",
            "Epoch 17/300\n",
            "1/1 - 0s - loss: 7.1022 - mae: 7.1022 - 6ms/epoch - 6ms/step\n",
            "Epoch 18/300\n",
            "1/1 - 0s - loss: 7.6155 - mae: 7.6155 - 8ms/epoch - 8ms/step\n",
            "Epoch 19/300\n",
            "1/1 - 0s - loss: 6.8624 - mae: 6.8624 - 6ms/epoch - 6ms/step\n",
            "Epoch 20/300\n",
            "1/1 - 0s - loss: 6.8157 - mae: 6.8157 - 7ms/epoch - 7ms/step\n",
            "Epoch 21/300\n",
            "1/1 - 0s - loss: 6.7677 - mae: 6.7677 - 9ms/epoch - 9ms/step\n",
            "Epoch 22/300\n",
            "1/1 - 0s - loss: 6.7182 - mae: 6.7182 - 5ms/epoch - 5ms/step\n",
            "Epoch 23/300\n",
            "1/1 - 0s - loss: 6.6671 - mae: 6.6671 - 4ms/epoch - 4ms/step\n",
            "Epoch 24/300\n",
            "1/1 - 0s - loss: 6.6143 - mae: 6.6143 - 10ms/epoch - 10ms/step\n",
            "Epoch 25/300\n",
            "1/1 - 0s - loss: 6.5617 - mae: 6.5617 - 6ms/epoch - 6ms/step\n",
            "Epoch 26/300\n",
            "1/1 - 0s - loss: 7.2350 - mae: 7.2350 - 7ms/epoch - 7ms/step\n",
            "Epoch 27/300\n",
            "1/1 - 0s - loss: 6.7559 - mae: 6.7559 - 6ms/epoch - 6ms/step\n",
            "Epoch 28/300\n",
            "1/1 - 0s - loss: 6.8205 - mae: 6.8205 - 6ms/epoch - 6ms/step\n",
            "Epoch 29/300\n",
            "1/1 - 0s - loss: 6.9712 - mae: 6.9712 - 6ms/epoch - 6ms/step\n",
            "Epoch 30/300\n",
            "1/1 - 0s - loss: 6.3663 - mae: 6.3663 - 7ms/epoch - 7ms/step\n",
            "Epoch 31/300\n",
            "1/1 - 0s - loss: 7.4015 - mae: 7.4015 - 7ms/epoch - 7ms/step\n",
            "Epoch 32/300\n",
            "1/1 - 0s - loss: 7.0461 - mae: 7.0461 - 6ms/epoch - 6ms/step\n",
            "Epoch 33/300\n",
            "1/1 - 0s - loss: 6.4257 - mae: 6.4257 - 6ms/epoch - 6ms/step\n",
            "Epoch 34/300\n",
            "1/1 - 0s - loss: 6.5720 - mae: 6.5720 - 4ms/epoch - 4ms/step\n",
            "Epoch 35/300\n",
            "1/1 - 0s - loss: 6.6703 - mae: 6.6703 - 6ms/epoch - 6ms/step\n",
            "Epoch 36/300\n",
            "1/1 - 0s - loss: 6.0614 - mae: 6.0614 - 7ms/epoch - 7ms/step\n",
            "Epoch 37/300\n",
            "1/1 - 0s - loss: 5.9898 - mae: 5.9898 - 5ms/epoch - 5ms/step\n",
            "Epoch 38/300\n",
            "1/1 - 0s - loss: 5.9143 - mae: 5.9143 - 6ms/epoch - 6ms/step\n",
            "Epoch 39/300\n",
            "1/1 - 0s - loss: 5.8347 - mae: 5.8347 - 7ms/epoch - 7ms/step\n",
            "Epoch 40/300\n",
            "1/1 - 0s - loss: 5.8460 - mae: 5.8460 - 5ms/epoch - 5ms/step\n",
            "Epoch 41/300\n",
            "1/1 - 0s - loss: 6.4038 - mae: 6.4038 - 6ms/epoch - 6ms/step\n",
            "Epoch 42/300\n",
            "1/1 - 0s - loss: 6.1167 - mae: 6.1167 - 5ms/epoch - 5ms/step\n",
            "Epoch 43/300\n",
            "1/1 - 0s - loss: 5.7912 - mae: 5.7912 - 6ms/epoch - 6ms/step\n",
            "Epoch 44/300\n",
            "1/1 - 0s - loss: 6.7038 - mae: 6.7038 - 5ms/epoch - 5ms/step\n",
            "Epoch 45/300\n",
            "1/1 - 0s - loss: 6.3896 - mae: 6.3896 - 6ms/epoch - 6ms/step\n",
            "Epoch 46/300\n",
            "1/1 - 0s - loss: 5.7038 - mae: 5.7038 - 7ms/epoch - 7ms/step\n",
            "Epoch 47/300\n",
            "1/1 - 0s - loss: 5.7326 - mae: 5.7326 - 5ms/epoch - 5ms/step\n",
            "Epoch 48/300\n",
            "1/1 - 0s - loss: 6.2262 - mae: 6.2262 - 7ms/epoch - 7ms/step\n",
            "Epoch 49/300\n",
            "1/1 - 0s - loss: 6.2857 - mae: 6.2857 - 5ms/epoch - 5ms/step\n",
            "Epoch 50/300\n",
            "1/1 - 0s - loss: 5.3305 - mae: 5.3305 - 5ms/epoch - 5ms/step\n",
            "Epoch 51/300\n",
            "1/1 - 0s - loss: 5.5728 - mae: 5.5728 - 6ms/epoch - 6ms/step\n",
            "Epoch 52/300\n",
            "1/1 - 0s - loss: 5.8570 - mae: 5.8570 - 6ms/epoch - 6ms/step\n",
            "Epoch 53/300\n",
            "1/1 - 0s - loss: 6.0966 - mae: 6.0966 - 13ms/epoch - 13ms/step\n",
            "Epoch 54/300\n",
            "1/1 - 0s - loss: 4.9738 - mae: 4.9738 - 5ms/epoch - 5ms/step\n",
            "Epoch 55/300\n",
            "1/1 - 0s - loss: 5.3133 - mae: 5.3133 - 7ms/epoch - 7ms/step\n",
            "Epoch 56/300\n",
            "1/1 - 0s - loss: 5.5696 - mae: 5.5696 - 6ms/epoch - 6ms/step\n",
            "Epoch 57/300\n",
            "1/1 - 0s - loss: 5.8222 - mae: 5.8222 - 7ms/epoch - 7ms/step\n",
            "Epoch 58/300\n",
            "1/1 - 0s - loss: 4.6121 - mae: 4.6121 - 7ms/epoch - 7ms/step\n",
            "Epoch 59/300\n",
            "1/1 - 0s - loss: 4.9496 - mae: 4.9496 - 7ms/epoch - 7ms/step\n",
            "Epoch 60/300\n",
            "1/1 - 0s - loss: 5.3423 - mae: 5.3423 - 6ms/epoch - 6ms/step\n",
            "Epoch 61/300\n",
            "1/1 - 0s - loss: 5.4584 - mae: 5.4584 - 8ms/epoch - 8ms/step\n",
            "Epoch 62/300\n",
            "1/1 - 0s - loss: 4.2213 - mae: 4.2213 - 7ms/epoch - 7ms/step\n",
            "Epoch 63/300\n",
            "1/1 - 0s - loss: 4.4716 - mae: 4.4716 - 7ms/epoch - 7ms/step\n",
            "Epoch 64/300\n",
            "1/1 - 0s - loss: 5.1556 - mae: 5.1556 - 7ms/epoch - 7ms/step\n",
            "Epoch 65/300\n",
            "1/1 - 0s - loss: 4.9969 - mae: 4.9969 - 8ms/epoch - 8ms/step\n",
            "Epoch 66/300\n",
            "1/1 - 0s - loss: 3.9079 - mae: 3.9079 - 5ms/epoch - 5ms/step\n",
            "Epoch 67/300\n",
            "1/1 - 0s - loss: 5.4525 - mae: 5.4525 - 6ms/epoch - 6ms/step\n",
            "Epoch 68/300\n",
            "1/1 - 0s - loss: 3.0098 - mae: 3.0098 - 5ms/epoch - 5ms/step\n",
            "Epoch 69/300\n",
            "1/1 - 0s - loss: 4.3119 - mae: 4.3119 - 6ms/epoch - 6ms/step\n",
            "Epoch 70/300\n",
            "1/1 - 0s - loss: 3.7876 - mae: 3.7876 - 6ms/epoch - 6ms/step\n",
            "Epoch 71/300\n",
            "1/1 - 0s - loss: 4.8221 - mae: 4.8221 - 6ms/epoch - 6ms/step\n",
            "Epoch 72/300\n",
            "1/1 - 0s - loss: 2.4497 - mae: 2.4497 - 5ms/epoch - 5ms/step\n",
            "Epoch 73/300\n",
            "1/1 - 0s - loss: 5.5485 - mae: 5.5485 - 13ms/epoch - 13ms/step\n",
            "Epoch 74/300\n",
            "1/1 - 0s - loss: 2.6909 - mae: 2.6909 - 5ms/epoch - 5ms/step\n",
            "Epoch 75/300\n",
            "1/1 - 0s - loss: 5.0894 - mae: 5.0894 - 5ms/epoch - 5ms/step\n",
            "Epoch 76/300\n",
            "1/1 - 0s - loss: 3.0242 - mae: 3.0242 - 6ms/epoch - 6ms/step\n",
            "Epoch 77/300\n",
            "1/1 - 0s - loss: 6.2723 - mae: 6.2723 - 5ms/epoch - 5ms/step\n",
            "Epoch 78/300\n",
            "1/1 - 0s - loss: 2.2627 - mae: 2.2627 - 6ms/epoch - 6ms/step\n",
            "Epoch 79/300\n",
            "1/1 - 0s - loss: 4.9444 - mae: 4.9444 - 5ms/epoch - 5ms/step\n",
            "Epoch 80/300\n",
            "1/1 - 0s - loss: 2.5645 - mae: 2.5645 - 7ms/epoch - 7ms/step\n",
            "Epoch 81/300\n",
            "1/1 - 0s - loss: 6.0621 - mae: 6.0621 - 5ms/epoch - 5ms/step\n",
            "Epoch 82/300\n",
            "1/1 - 0s - loss: 1.9421 - mae: 1.9421 - 6ms/epoch - 6ms/step\n",
            "Epoch 83/300\n",
            "1/1 - 0s - loss: 4.7759 - mae: 4.7759 - 5ms/epoch - 5ms/step\n",
            "Epoch 84/300\n",
            "1/1 - 0s - loss: 2.2533 - mae: 2.2533 - 4ms/epoch - 4ms/step\n",
            "Epoch 85/300\n",
            "1/1 - 0s - loss: 5.8778 - mae: 5.8778 - 6ms/epoch - 6ms/step\n",
            "Epoch 86/300\n",
            "1/1 - 0s - loss: 1.6937 - mae: 1.6937 - 5ms/epoch - 5ms/step\n",
            "Epoch 87/300\n",
            "1/1 - 0s - loss: 4.5807 - mae: 4.5807 - 6ms/epoch - 6ms/step\n",
            "Epoch 88/300\n",
            "1/1 - 0s - loss: 2.0485 - mae: 2.0485 - 6ms/epoch - 6ms/step\n",
            "Epoch 89/300\n",
            "1/1 - 0s - loss: 5.7062 - mae: 5.7062 - 5ms/epoch - 5ms/step\n",
            "Epoch 90/300\n",
            "1/1 - 0s - loss: 1.4954 - mae: 1.4954 - 5ms/epoch - 5ms/step\n",
            "Epoch 91/300\n",
            "1/1 - 0s - loss: 4.4349 - mae: 4.4349 - 6ms/epoch - 6ms/step\n",
            "Epoch 92/300\n",
            "1/1 - 0s - loss: 2.7311 - mae: 2.7311 - 5ms/epoch - 5ms/step\n",
            "Epoch 93/300\n",
            "1/1 - 0s - loss: 4.7334 - mae: 4.7334 - 6ms/epoch - 6ms/step\n",
            "Epoch 94/300\n",
            "1/1 - 0s - loss: 2.0078 - mae: 2.0078 - 5ms/epoch - 5ms/step\n",
            "Epoch 95/300\n",
            "1/1 - 0s - loss: 4.9800 - mae: 4.9800 - 7ms/epoch - 7ms/step\n",
            "Epoch 96/300\n",
            "1/1 - 0s - loss: 1.4939 - mae: 1.4939 - 5ms/epoch - 5ms/step\n",
            "Epoch 97/300\n",
            "1/1 - 0s - loss: 3.8689 - mae: 3.8689 - 5ms/epoch - 5ms/step\n",
            "Epoch 98/300\n",
            "1/1 - 0s - loss: 2.6728 - mae: 2.6728 - 5ms/epoch - 5ms/step\n",
            "Epoch 99/300\n",
            "1/1 - 0s - loss: 4.1948 - mae: 4.1948 - 7ms/epoch - 7ms/step\n",
            "Epoch 100/300\n",
            "1/1 - 0s - loss: 2.0123 - mae: 2.0123 - 5ms/epoch - 5ms/step\n",
            "Epoch 101/300\n",
            "1/1 - 0s - loss: 4.4677 - mae: 4.4677 - 6ms/epoch - 6ms/step\n",
            "Epoch 102/300\n",
            "1/1 - 0s - loss: 1.4795 - mae: 1.4795 - 6ms/epoch - 6ms/step\n",
            "Epoch 103/300\n",
            "1/1 - 0s - loss: 3.4345 - mae: 3.4345 - 5ms/epoch - 5ms/step\n",
            "Epoch 104/300\n",
            "1/1 - 0s - loss: 2.6874 - mae: 2.6874 - 5ms/epoch - 5ms/step\n",
            "Epoch 105/300\n",
            "1/1 - 0s - loss: 4.4045 - mae: 4.4045 - 5ms/epoch - 5ms/step\n",
            "Epoch 106/300\n",
            "1/1 - 0s - loss: 1.2513 - mae: 1.2513 - 6ms/epoch - 6ms/step\n",
            "Epoch 107/300\n",
            "1/1 - 0s - loss: 3.4270 - mae: 3.4270 - 6ms/epoch - 6ms/step\n",
            "Epoch 108/300\n",
            "1/1 - 0s - loss: 2.3437 - mae: 2.3437 - 6ms/epoch - 6ms/step\n",
            "Epoch 109/300\n",
            "1/1 - 0s - loss: 3.7393 - mae: 3.7393 - 5ms/epoch - 5ms/step\n",
            "Epoch 110/300\n",
            "1/1 - 0s - loss: 1.7895 - mae: 1.7895 - 5ms/epoch - 5ms/step\n",
            "Epoch 111/300\n",
            "1/1 - 0s - loss: 4.0058 - mae: 4.0058 - 7ms/epoch - 7ms/step\n",
            "Epoch 112/300\n",
            "1/1 - 0s - loss: 1.3134 - mae: 1.3134 - 4ms/epoch - 4ms/step\n",
            "Epoch 113/300\n",
            "1/1 - 0s - loss: 4.2348 - mae: 4.2348 - 5ms/epoch - 5ms/step\n",
            "Epoch 114/300\n",
            "1/1 - 0s - loss: 0.9516 - mae: 0.9516 - 11ms/epoch - 11ms/step\n",
            "Epoch 115/300\n",
            "1/1 - 0s - loss: 3.2870 - mae: 3.2870 - 11ms/epoch - 11ms/step\n",
            "Epoch 116/300\n",
            "1/1 - 0s - loss: 2.1145 - mae: 2.1145 - 9ms/epoch - 9ms/step\n",
            "Epoch 117/300\n",
            "1/1 - 0s - loss: 4.1735 - mae: 4.1735 - 5ms/epoch - 5ms/step\n",
            "Epoch 118/300\n",
            "1/1 - 0s - loss: 0.7986 - mae: 0.7986 - 6ms/epoch - 6ms/step\n",
            "Epoch 119/300\n",
            "1/1 - 0s - loss: 3.2476 - mae: 3.2476 - 3ms/epoch - 3ms/step\n",
            "Epoch 120/300\n",
            "1/1 - 0s - loss: 1.9482 - mae: 1.9482 - 5ms/epoch - 5ms/step\n",
            "Epoch 121/300\n",
            "1/1 - 0s - loss: 4.1090 - mae: 4.1090 - 5ms/epoch - 5ms/step\n",
            "Epoch 122/300\n",
            "1/1 - 0s - loss: 0.6638 - mae: 0.6638 - 5ms/epoch - 5ms/step\n",
            "Epoch 123/300\n",
            "1/1 - 0s - loss: 3.1969 - mae: 3.1969 - 9ms/epoch - 9ms/step\n",
            "Epoch 124/300\n",
            "1/1 - 0s - loss: 1.8345 - mae: 1.8345 - 8ms/epoch - 8ms/step\n",
            "Epoch 125/300\n",
            "1/1 - 0s - loss: 4.0406 - mae: 4.0406 - 4ms/epoch - 4ms/step\n",
            "Epoch 126/300\n",
            "1/1 - 0s - loss: 0.5420 - mae: 0.5420 - 8ms/epoch - 8ms/step\n",
            "Epoch 127/300\n",
            "1/1 - 0s - loss: 3.1359 - mae: 3.1359 - 5ms/epoch - 5ms/step\n",
            "Epoch 128/300\n",
            "1/1 - 0s - loss: 1.7628 - mae: 1.7628 - 10ms/epoch - 10ms/step\n",
            "Epoch 129/300\n",
            "1/1 - 0s - loss: 3.9679 - mae: 3.9679 - 5ms/epoch - 5ms/step\n",
            "Epoch 130/300\n",
            "1/1 - 0s - loss: 0.4295 - mae: 0.4295 - 5ms/epoch - 5ms/step\n",
            "Epoch 131/300\n",
            "1/1 - 0s - loss: 3.0657 - mae: 3.0657 - 4ms/epoch - 4ms/step\n",
            "Epoch 132/300\n",
            "1/1 - 0s - loss: 1.7253 - mae: 1.7253 - 5ms/epoch - 5ms/step\n",
            "Epoch 133/300\n",
            "1/1 - 0s - loss: 3.8910 - mae: 3.8910 - 5ms/epoch - 5ms/step\n",
            "Epoch 134/300\n",
            "1/1 - 0s - loss: 0.3607 - mae: 0.3607 - 6ms/epoch - 6ms/step\n",
            "Epoch 135/300\n",
            "1/1 - 0s - loss: 4.0486 - mae: 4.0486 - 4ms/epoch - 4ms/step\n",
            "Epoch 136/300\n",
            "1/1 - 0s - loss: 0.0934 - mae: 0.0934 - 4ms/epoch - 4ms/step\n",
            "Epoch 137/300\n",
            "1/1 - 0s - loss: 3.1810 - mae: 3.1810 - 8ms/epoch - 8ms/step\n",
            "Epoch 138/300\n",
            "1/1 - 0s - loss: 1.3504 - mae: 1.3504 - 6ms/epoch - 6ms/step\n",
            "Epoch 139/300\n",
            "1/1 - 0s - loss: 3.9354 - mae: 3.9354 - 6ms/epoch - 6ms/step\n",
            "Epoch 140/300\n",
            "1/1 - 0s - loss: 0.3009 - mae: 0.3009 - 7ms/epoch - 7ms/step\n",
            "Epoch 141/300\n",
            "1/1 - 0s - loss: 4.0322 - mae: 4.0322 - 6ms/epoch - 6ms/step\n",
            "Epoch 142/300\n",
            "1/1 - 0s - loss: 2.5899 - mae: 2.5899 - 7ms/epoch - 7ms/step\n",
            "Epoch 143/300\n",
            "1/1 - 0s - loss: 1.9455 - mae: 1.9455 - 6ms/epoch - 6ms/step\n",
            "Epoch 144/300\n",
            "1/1 - 0s - loss: 3.4664 - mae: 3.4664 - 6ms/epoch - 6ms/step\n",
            "Epoch 145/300\n",
            "1/1 - 0s - loss: 0.4033 - mae: 0.4033 - 7ms/epoch - 7ms/step\n",
            "Epoch 146/300\n",
            "1/1 - 0s - loss: 4.1093 - mae: 4.1093 - 5ms/epoch - 5ms/step\n",
            "Epoch 147/300\n",
            "1/1 - 0s - loss: 0.7026 - mae: 0.7026 - 8ms/epoch - 8ms/step\n",
            "Epoch 148/300\n",
            "1/1 - 0s - loss: 4.1148 - mae: 4.1148 - 5ms/epoch - 5ms/step\n",
            "Epoch 149/300\n",
            "1/1 - 0s - loss: 2.1758 - mae: 2.1758 - 6ms/epoch - 6ms/step\n",
            "Epoch 150/300\n",
            "1/1 - 0s - loss: 2.1018 - mae: 2.1018 - 6ms/epoch - 6ms/step\n",
            "Epoch 151/300\n",
            "1/1 - 0s - loss: 3.0651 - mae: 3.0651 - 6ms/epoch - 6ms/step\n",
            "Epoch 152/300\n",
            "1/1 - 0s - loss: 0.6510 - mae: 0.6510 - 6ms/epoch - 6ms/step\n",
            "Epoch 153/300\n",
            "1/1 - 0s - loss: 3.2071 - mae: 3.2071 - 5ms/epoch - 5ms/step\n",
            "Epoch 154/300\n",
            "1/1 - 0s - loss: 0.4271 - mae: 0.4271 - 6ms/epoch - 6ms/step\n",
            "Epoch 155/300\n",
            "1/1 - 0s - loss: 3.8259 - mae: 3.8259 - 6ms/epoch - 6ms/step\n",
            "Epoch 156/300\n",
            "1/1 - 0s - loss: 0.6264 - mae: 0.6264 - 6ms/epoch - 6ms/step\n",
            "Epoch 157/300\n",
            "1/1 - 0s - loss: 4.0071 - mae: 4.0071 - 6ms/epoch - 6ms/step\n",
            "Epoch 158/300\n",
            "1/1 - 0s - loss: 2.0202 - mae: 2.0202 - 29ms/epoch - 29ms/step\n",
            "Epoch 159/300\n",
            "1/1 - 0s - loss: 2.0742 - mae: 2.0742 - 7ms/epoch - 7ms/step\n",
            "Epoch 160/300\n",
            "1/1 - 0s - loss: 2.8963 - mae: 2.8963 - 5ms/epoch - 5ms/step\n",
            "Epoch 161/300\n",
            "1/1 - 0s - loss: 0.6453 - mae: 0.6453 - 6ms/epoch - 6ms/step\n",
            "Epoch 162/300\n",
            "1/1 - 0s - loss: 3.5114 - mae: 3.5114 - 4ms/epoch - 4ms/step\n",
            "Epoch 163/300\n",
            "1/1 - 0s - loss: 0.5001 - mae: 0.5001 - 9ms/epoch - 9ms/step\n",
            "Epoch 164/300\n",
            "1/1 - 0s - loss: 3.2884 - mae: 3.2884 - 4ms/epoch - 4ms/step\n",
            "Epoch 165/300\n",
            "1/1 - 0s - loss: 2.3342 - mae: 2.3342 - 4ms/epoch - 4ms/step\n",
            "Epoch 166/300\n",
            "1/1 - 0s - loss: 1.5291 - mae: 1.5291 - 10ms/epoch - 10ms/step\n",
            "Epoch 167/300\n",
            "1/1 - 0s - loss: 3.1413 - mae: 3.1413 - 4ms/epoch - 4ms/step\n",
            "Epoch 168/300\n",
            "1/1 - 0s - loss: 0.1727 - mae: 0.1727 - 5ms/epoch - 5ms/step\n",
            "Epoch 169/300\n",
            "1/1 - 0s - loss: 3.7053 - mae: 3.7053 - 4ms/epoch - 4ms/step\n",
            "Epoch 170/300\n",
            "1/1 - 0s - loss: 0.7256 - mae: 0.7256 - 5ms/epoch - 5ms/step\n",
            "Epoch 171/300\n",
            "1/1 - 0s - loss: 3.8746 - mae: 3.8746 - 5ms/epoch - 5ms/step\n",
            "Epoch 172/300\n",
            "1/1 - 0s - loss: 1.7969 - mae: 1.7969 - 5ms/epoch - 5ms/step\n",
            "Epoch 173/300\n",
            "1/1 - 0s - loss: 2.0554 - mae: 2.0554 - 6ms/epoch - 6ms/step\n",
            "Epoch 174/300\n",
            "1/1 - 0s - loss: 2.6522 - mae: 2.6522 - 9ms/epoch - 9ms/step\n",
            "Epoch 175/300\n",
            "1/1 - 0s - loss: 0.6991 - mae: 0.6991 - 5ms/epoch - 5ms/step\n",
            "Epoch 176/300\n",
            "1/1 - 0s - loss: 3.2365 - mae: 3.2365 - 5ms/epoch - 5ms/step\n",
            "Epoch 177/300\n",
            "1/1 - 0s - loss: 0.4123 - mae: 0.4123 - 4ms/epoch - 4ms/step\n",
            "Epoch 178/300\n",
            "1/1 - 0s - loss: 3.3074 - mae: 3.3074 - 4ms/epoch - 4ms/step\n",
            "Epoch 179/300\n",
            "1/1 - 0s - loss: 2.0875 - mae: 2.0875 - 6ms/epoch - 6ms/step\n",
            "Epoch 180/300\n",
            "1/1 - 0s - loss: 1.6121 - mae: 1.6121 - 5ms/epoch - 5ms/step\n",
            "Epoch 181/300\n",
            "1/1 - 0s - loss: 2.8879 - mae: 2.8879 - 4ms/epoch - 4ms/step\n",
            "Epoch 182/300\n",
            "1/1 - 0s - loss: 0.2778 - mae: 0.2778 - 5ms/epoch - 5ms/step\n",
            "Epoch 183/300\n",
            "1/1 - 0s - loss: 3.5442 - mae: 3.5442 - 8ms/epoch - 8ms/step\n",
            "Epoch 184/300\n",
            "1/1 - 0s - loss: 0.7979 - mae: 0.7979 - 7ms/epoch - 7ms/step\n",
            "Epoch 185/300\n",
            "1/1 - 0s - loss: 3.4769 - mae: 3.4769 - 4ms/epoch - 4ms/step\n",
            "Epoch 186/300\n",
            "1/1 - 0s - loss: 1.7996 - mae: 1.7996 - 8ms/epoch - 8ms/step\n",
            "Epoch 187/300\n",
            "1/1 - 0s - loss: 1.8084 - mae: 1.8084 - 5ms/epoch - 5ms/step\n",
            "Epoch 188/300\n",
            "1/1 - 0s - loss: 2.6083 - mae: 2.6083 - 4ms/epoch - 4ms/step\n",
            "Epoch 189/300\n",
            "1/1 - 0s - loss: 0.5642 - mae: 0.5642 - 9ms/epoch - 9ms/step\n",
            "Epoch 190/300\n",
            "1/1 - 0s - loss: 2.6759 - mae: 2.6759 - 5ms/epoch - 5ms/step\n",
            "Epoch 191/300\n",
            "1/1 - 0s - loss: 0.4455 - mae: 0.4455 - 10ms/epoch - 10ms/step\n",
            "Epoch 192/300\n",
            "1/1 - 0s - loss: 3.2148 - mae: 3.2148 - 5ms/epoch - 5ms/step\n",
            "Epoch 193/300\n",
            "1/1 - 0s - loss: 0.4018 - mae: 0.4018 - 9ms/epoch - 9ms/step\n",
            "Epoch 194/300\n",
            "1/1 - 0s - loss: 4.0237 - mae: 4.0237 - 5ms/epoch - 5ms/step\n",
            "Epoch 195/300\n",
            "1/1 - 0s - loss: 1.4585 - mae: 1.4585 - 5ms/epoch - 5ms/step\n",
            "Epoch 196/300\n",
            "1/1 - 0s - loss: 2.2629 - mae: 2.2629 - 9ms/epoch - 9ms/step\n",
            "Epoch 197/300\n",
            "1/1 - 0s - loss: 2.3084 - mae: 2.3084 - 5ms/epoch - 5ms/step\n",
            "Epoch 198/300\n",
            "1/1 - 0s - loss: 0.9044 - mae: 0.9044 - 5ms/epoch - 5ms/step\n",
            "Epoch 199/300\n",
            "1/1 - 0s - loss: 2.8717 - mae: 2.8717 - 4ms/epoch - 4ms/step\n",
            "Epoch 200/300\n",
            "1/1 - 0s - loss: 0.1231 - mae: 0.1231 - 5ms/epoch - 5ms/step\n",
            "Epoch 201/300\n",
            "1/1 - 0s - loss: 1.0692 - mae: 1.0692 - 5ms/epoch - 5ms/step\n",
            "Epoch 202/300\n",
            "1/1 - 0s - loss: 2.8237 - mae: 2.8237 - 4ms/epoch - 4ms/step\n",
            "Epoch 203/300\n",
            "1/1 - 0s - loss: 0.1282 - mae: 0.1282 - 5ms/epoch - 5ms/step\n",
            "Epoch 204/300\n",
            "1/1 - 0s - loss: 3.2621 - mae: 3.2621 - 5ms/epoch - 5ms/step\n",
            "Epoch 205/300\n",
            "1/1 - 0s - loss: 0.6854 - mae: 0.6854 - 4ms/epoch - 4ms/step\n",
            "Epoch 206/300\n",
            "1/1 - 0s - loss: 3.2584 - mae: 3.2584 - 5ms/epoch - 5ms/step\n",
            "Epoch 207/300\n",
            "1/1 - 0s - loss: 1.7636 - mae: 1.7636 - 5ms/epoch - 5ms/step\n",
            "Epoch 208/300\n",
            "1/1 - 0s - loss: 1.6909 - mae: 1.6909 - 5ms/epoch - 5ms/step\n",
            "Epoch 209/300\n",
            "1/1 - 0s - loss: 2.5384 - mae: 2.5384 - 4ms/epoch - 4ms/step\n",
            "Epoch 210/300\n",
            "1/1 - 0s - loss: 0.4649 - mae: 0.4649 - 5ms/epoch - 5ms/step\n",
            "Epoch 211/300\n",
            "1/1 - 0s - loss: 3.0472 - mae: 3.0472 - 5ms/epoch - 5ms/step\n",
            "Epoch 212/300\n",
            "1/1 - 0s - loss: 0.3476 - mae: 0.3476 - 4ms/epoch - 4ms/step\n",
            "Epoch 213/300\n",
            "1/1 - 0s - loss: 3.7141 - mae: 3.7141 - 72ms/epoch - 72ms/step\n",
            "Epoch 214/300\n",
            "1/1 - 0s - loss: 1.5125 - mae: 1.5125 - 8ms/epoch - 8ms/step\n",
            "Epoch 215/300\n",
            "1/1 - 0s - loss: 2.0626 - mae: 2.0626 - 6ms/epoch - 6ms/step\n",
            "Epoch 216/300\n",
            "1/1 - 0s - loss: 2.3217 - mae: 2.3217 - 6ms/epoch - 6ms/step\n",
            "Epoch 217/300\n",
            "1/1 - 0s - loss: 0.7508 - mae: 0.7508 - 8ms/epoch - 8ms/step\n",
            "Epoch 218/300\n",
            "1/1 - 0s - loss: 2.9907 - mae: 2.9907 - 7ms/epoch - 7ms/step\n",
            "Epoch 219/300\n",
            "1/1 - 0s - loss: 0.3287 - mae: 0.3287 - 10ms/epoch - 10ms/step\n",
            "Epoch 220/300\n",
            "1/1 - 0s - loss: 3.6956 - mae: 3.6956 - 6ms/epoch - 6ms/step\n",
            "Epoch 221/300\n",
            "1/1 - 0s - loss: 1.4678 - mae: 1.4678 - 4ms/epoch - 4ms/step\n",
            "Epoch 222/300\n",
            "1/1 - 0s - loss: 2.0705 - mae: 2.0705 - 4ms/epoch - 4ms/step\n",
            "Epoch 223/300\n",
            "1/1 - 0s - loss: 2.2696 - mae: 2.2696 - 5ms/epoch - 5ms/step\n",
            "Epoch 224/300\n",
            "1/1 - 0s - loss: 0.7762 - mae: 0.7762 - 5ms/epoch - 5ms/step\n",
            "Epoch 225/300\n",
            "1/1 - 0s - loss: 2.9338 - mae: 2.9338 - 5ms/epoch - 5ms/step\n",
            "Epoch 226/300\n",
            "1/1 - 0s - loss: 0.2915 - mae: 0.2915 - 4ms/epoch - 4ms/step\n",
            "Epoch 227/300\n",
            "1/1 - 0s - loss: 3.7060 - mae: 3.7060 - 10ms/epoch - 10ms/step\n",
            "Epoch 228/300\n",
            "1/1 - 0s - loss: 1.4171 - mae: 1.4171 - 7ms/epoch - 7ms/step\n",
            "Epoch 229/300\n",
            "1/1 - 0s - loss: 2.0988 - mae: 2.0988 - 6ms/epoch - 6ms/step\n",
            "Epoch 230/300\n",
            "1/1 - 0s - loss: 2.2142 - mae: 2.2142 - 4ms/epoch - 4ms/step\n",
            "Epoch 231/300\n",
            "1/1 - 0s - loss: 0.8160 - mae: 0.8160 - 6ms/epoch - 6ms/step\n",
            "Epoch 232/300\n",
            "1/1 - 0s - loss: 2.8756 - mae: 2.8756 - 7ms/epoch - 7ms/step\n",
            "Epoch 233/300\n",
            "1/1 - 0s - loss: 0.2400 - mae: 0.2400 - 5ms/epoch - 5ms/step\n",
            "Epoch 234/300\n",
            "1/1 - 0s - loss: 3.7387 - mae: 3.7387 - 7ms/epoch - 7ms/step\n",
            "Epoch 235/300\n",
            "1/1 - 0s - loss: 1.3612 - mae: 1.3612 - 5ms/epoch - 5ms/step\n",
            "Epoch 236/300\n",
            "1/1 - 0s - loss: 2.1425 - mae: 2.1425 - 5ms/epoch - 5ms/step\n",
            "Epoch 237/300\n",
            "1/1 - 0s - loss: 2.1559 - mae: 2.1559 - 9ms/epoch - 9ms/step\n",
            "Epoch 238/300\n",
            "1/1 - 0s - loss: 0.8667 - mae: 0.8667 - 6ms/epoch - 6ms/step\n",
            "Epoch 239/300\n",
            "1/1 - 0s - loss: 2.8160 - mae: 2.8160 - 7ms/epoch - 7ms/step\n",
            "Epoch 240/300\n",
            "1/1 - 0s - loss: 0.1775 - mae: 0.1775 - 5ms/epoch - 5ms/step\n",
            "Epoch 241/300\n",
            "1/1 - 0s - loss: 3.7882 - mae: 3.7882 - 6ms/epoch - 6ms/step\n",
            "Epoch 242/300\n",
            "1/1 - 0s - loss: 1.3014 - mae: 1.3014 - 6ms/epoch - 6ms/step\n",
            "Epoch 243/300\n",
            "1/1 - 0s - loss: 2.1980 - mae: 2.1980 - 5ms/epoch - 5ms/step\n",
            "Epoch 244/300\n",
            "1/1 - 0s - loss: 2.0952 - mae: 2.0952 - 7ms/epoch - 7ms/step\n",
            "Epoch 245/300\n",
            "1/1 - 0s - loss: 0.9257 - mae: 0.9257 - 4ms/epoch - 4ms/step\n",
            "Epoch 246/300\n",
            "1/1 - 0s - loss: 2.7553 - mae: 2.7553 - 6ms/epoch - 6ms/step\n",
            "Epoch 247/300\n",
            "1/1 - 0s - loss: 0.1146 - mae: 0.1146 - 4ms/epoch - 4ms/step\n",
            "Epoch 248/300\n",
            "1/1 - 0s - loss: 4.0465 - mae: 4.0465 - 6ms/epoch - 6ms/step\n",
            "Epoch 249/300\n",
            "1/1 - 0s - loss: 1.1060 - mae: 1.1060 - 5ms/epoch - 5ms/step\n",
            "Epoch 250/300\n",
            "1/1 - 0s - loss: 2.4325 - mae: 2.4325 - 6ms/epoch - 6ms/step\n",
            "Epoch 251/300\n",
            "1/1 - 0s - loss: 1.9150 - mae: 1.9150 - 5ms/epoch - 5ms/step\n",
            "Epoch 252/300\n",
            "1/1 - 0s - loss: 1.1408 - mae: 1.1408 - 5ms/epoch - 5ms/step\n",
            "Epoch 253/300\n",
            "1/1 - 0s - loss: 2.5880 - mae: 2.5880 - 7ms/epoch - 7ms/step\n",
            "Epoch 254/300\n",
            "1/1 - 0s - loss: 0.1362 - mae: 0.1362 - 5ms/epoch - 5ms/step\n",
            "Epoch 255/300\n",
            "1/1 - 0s - loss: 1.8005 - mae: 1.8005 - 6ms/epoch - 6ms/step\n",
            "Epoch 256/300\n",
            "1/1 - 0s - loss: 1.3550 - mae: 1.3550 - 7ms/epoch - 7ms/step\n",
            "Epoch 257/300\n",
            "1/1 - 0s - loss: 2.3205 - mae: 2.3205 - 5ms/epoch - 5ms/step\n",
            "Epoch 258/300\n",
            "1/1 - 0s - loss: 0.4952 - mae: 0.4952 - 5ms/epoch - 5ms/step\n",
            "Epoch 259/300\n",
            "1/1 - 0s - loss: 2.9275 - mae: 2.9275 - 6ms/epoch - 6ms/step\n",
            "Epoch 260/300\n",
            "1/1 - 0s - loss: 0.4559 - mae: 0.4559 - 5ms/epoch - 5ms/step\n",
            "Epoch 261/300\n",
            "1/1 - 0s - loss: 3.2546 - mae: 3.2546 - 7ms/epoch - 7ms/step\n",
            "Epoch 262/300\n",
            "1/1 - 0s - loss: 1.4713 - mae: 1.4713 - 5ms/epoch - 5ms/step\n",
            "Epoch 263/300\n",
            "1/1 - 0s - loss: 1.8158 - mae: 1.8158 - 8ms/epoch - 8ms/step\n",
            "Epoch 264/300\n",
            "1/1 - 0s - loss: 2.2073 - mae: 2.2073 - 5ms/epoch - 5ms/step\n",
            "Epoch 265/300\n",
            "1/1 - 0s - loss: 0.6507 - mae: 0.6507 - 5ms/epoch - 5ms/step\n",
            "Epoch 266/300\n",
            "1/1 - 0s - loss: 2.8248 - mae: 2.8248 - 5ms/epoch - 5ms/step\n",
            "Epoch 267/300\n",
            "1/1 - 0s - loss: 0.3114 - mae: 0.3114 - 5ms/epoch - 5ms/step\n",
            "Epoch 268/300\n",
            "1/1 - 0s - loss: 3.6239 - mae: 3.6239 - 6ms/epoch - 6ms/step\n",
            "Epoch 269/300\n",
            "1/1 - 0s - loss: 1.2358 - mae: 1.2358 - 4ms/epoch - 4ms/step\n",
            "Epoch 270/300\n",
            "1/1 - 0s - loss: 2.1347 - mae: 2.1347 - 5ms/epoch - 5ms/step\n",
            "Epoch 271/300\n",
            "1/1 - 0s - loss: 1.9967 - mae: 1.9967 - 7ms/epoch - 7ms/step\n",
            "Epoch 272/300\n",
            "1/1 - 0s - loss: 0.9312 - mae: 0.9312 - 7ms/epoch - 7ms/step\n",
            "Epoch 273/300\n",
            "1/1 - 0s - loss: 2.6343 - mae: 2.6343 - 6ms/epoch - 6ms/step\n",
            "Epoch 274/300\n",
            "1/1 - 0s - loss: 0.1384 - mae: 0.1384 - 5ms/epoch - 5ms/step\n",
            "Epoch 275/300\n",
            "1/1 - 0s - loss: 3.1653 - mae: 3.1653 - 6ms/epoch - 6ms/step\n",
            "Epoch 276/300\n",
            "1/1 - 0s - loss: 1.4898 - mae: 1.4898 - 4ms/epoch - 4ms/step\n",
            "Epoch 277/300\n",
            "1/1 - 0s - loss: 1.7691 - mae: 1.7691 - 5ms/epoch - 5ms/step\n",
            "Epoch 278/300\n",
            "1/1 - 0s - loss: 2.0266 - mae: 2.0266 - 5ms/epoch - 5ms/step\n",
            "Epoch 279/300\n",
            "1/1 - 0s - loss: 0.8760 - mae: 0.8760 - 5ms/epoch - 5ms/step\n",
            "Epoch 280/300\n",
            "1/1 - 0s - loss: 2.6552 - mae: 2.6552 - 5ms/epoch - 5ms/step\n",
            "Epoch 281/300\n",
            "1/1 - 0s - loss: 0.1020 - mae: 0.1020 - 5ms/epoch - 5ms/step\n",
            "Epoch 282/300\n",
            "1/1 - 0s - loss: 3.8986 - mae: 3.8986 - 5ms/epoch - 5ms/step\n",
            "Epoch 283/300\n",
            "1/1 - 0s - loss: 1.0441 - mae: 1.0441 - 6ms/epoch - 6ms/step\n",
            "Epoch 284/300\n",
            "1/1 - 0s - loss: 2.3817 - mae: 2.3817 - 4ms/epoch - 4ms/step\n",
            "Epoch 285/300\n",
            "1/1 - 0s - loss: 1.8193 - mae: 1.8193 - 4ms/epoch - 4ms/step\n",
            "Epoch 286/300\n",
            "1/1 - 0s - loss: 1.1566 - mae: 1.1566 - 5ms/epoch - 5ms/step\n",
            "Epoch 287/300\n",
            "1/1 - 0s - loss: 2.4686 - mae: 2.4686 - 4ms/epoch - 4ms/step\n",
            "Epoch 288/300\n",
            "1/1 - 0s - loss: 0.1685 - mae: 0.1685 - 6ms/epoch - 6ms/step\n",
            "Epoch 289/300\n",
            "1/1 - 0s - loss: 2.4422 - mae: 2.4422 - 5ms/epoch - 5ms/step\n",
            "Epoch 290/300\n",
            "1/1 - 0s - loss: 0.2734 - mae: 0.2734 - 5ms/epoch - 5ms/step\n",
            "Epoch 291/300\n",
            "1/1 - 0s - loss: 2.4730 - mae: 2.4730 - 6ms/epoch - 6ms/step\n",
            "Epoch 292/300\n",
            "1/1 - 0s - loss: 0.0979 - mae: 0.0979 - 5ms/epoch - 5ms/step\n",
            "Epoch 293/300\n",
            "1/1 - 0s - loss: 1.7450 - mae: 1.7450 - 8ms/epoch - 8ms/step\n",
            "Epoch 294/300\n",
            "1/1 - 0s - loss: 1.3080 - mae: 1.3080 - 9ms/epoch - 9ms/step\n",
            "Epoch 295/300\n",
            "1/1 - 0s - loss: 2.2464 - mae: 2.2464 - 6ms/epoch - 6ms/step\n",
            "Epoch 296/300\n",
            "1/1 - 0s - loss: 0.4787 - mae: 0.4787 - 7ms/epoch - 7ms/step\n",
            "Epoch 297/300\n",
            "1/1 - 0s - loss: 2.8273 - mae: 2.8273 - 6ms/epoch - 6ms/step\n",
            "Epoch 298/300\n",
            "1/1 - 0s - loss: 0.4160 - mae: 0.4160 - 6ms/epoch - 6ms/step\n",
            "Epoch 299/300\n",
            "1/1 - 0s - loss: 3.3326 - mae: 3.3326 - 7ms/epoch - 7ms/step\n",
            "Epoch 300/300\n",
            "1/1 - 0s - loss: 1.2836 - mae: 1.2836 - 4ms/epoch - 4ms/step\n"
          ]
        },
        {
          "output_type": "execute_result",
          "data": {
            "text/plain": [
              "<keras.callbacks.History at 0x7fb884e8e090>"
            ]
          },
          "metadata": {},
          "execution_count": 15
        }
      ]
    },
    {
      "cell_type": "code",
      "source": [
        "X, y"
      ],
      "metadata": {
        "colab": {
          "base_uri": "https://localhost:8080/"
        },
        "id": "5Pa21vCmnTRG",
        "outputId": "f4c3d98f-997b-4ef6-a9e5-8ab0678e8f93"
      },
      "execution_count": 16,
      "outputs": [
        {
          "output_type": "execute_result",
          "data": {
            "text/plain": [
              "(<tf.Tensor: shape=(8,), dtype=float32, numpy=array([-7., -4., -1.,  2.,  5.,  8., 11., 14.], dtype=float32)>,\n",
              " <tf.Tensor: shape=(8,), dtype=float32, numpy=array([ 3.,  6.,  9., 12., 15., 18., 21., 24.], dtype=float32)>)"
            ]
          },
          "metadata": {},
          "execution_count": 16
        }
      ]
    },
    {
      "cell_type": "code",
      "source": [
        "X_expanded = tf.expand_dims(X, axis=1)\n",
        "X_expanded2 = tf.expand_dims(X, axis=-1)\n",
        "X_expanded == X_expanded2"
      ],
      "metadata": {
        "colab": {
          "base_uri": "https://localhost:8080/"
        },
        "id": "R3LMdWXCnfnW",
        "outputId": "1b4212bb-0d2f-41b9-9def-12e4159de919"
      },
      "execution_count": 17,
      "outputs": [
        {
          "output_type": "execute_result",
          "data": {
            "text/plain": [
              "<tf.Tensor: shape=(8, 1), dtype=bool, numpy=\n",
              "array([[ True],\n",
              "       [ True],\n",
              "       [ True],\n",
              "       [ True],\n",
              "       [ True],\n",
              "       [ True],\n",
              "       [ True],\n",
              "       [ True]])>"
            ]
          },
          "metadata": {},
          "execution_count": 17
        }
      ]
    },
    {
      "cell_type": "code",
      "source": [
        "X, X_expanded, X_expanded2"
      ],
      "metadata": {
        "colab": {
          "base_uri": "https://localhost:8080/"
        },
        "id": "0fkQ4Ba4nqkU",
        "outputId": "a35e773f-040b-41eb-e192-69ca0a7129a8"
      },
      "execution_count": 18,
      "outputs": [
        {
          "output_type": "execute_result",
          "data": {
            "text/plain": [
              "(<tf.Tensor: shape=(8,), dtype=float32, numpy=array([-7., -4., -1.,  2.,  5.,  8., 11., 14.], dtype=float32)>,\n",
              " <tf.Tensor: shape=(8, 1), dtype=float32, numpy=\n",
              " array([[-7.],\n",
              "        [-4.],\n",
              "        [-1.],\n",
              "        [ 2.],\n",
              "        [ 5.],\n",
              "        [ 8.],\n",
              "        [11.],\n",
              "        [14.]], dtype=float32)>,\n",
              " <tf.Tensor: shape=(8, 1), dtype=float32, numpy=\n",
              " array([[-7.],\n",
              "        [-4.],\n",
              "        [-1.],\n",
              "        [ 2.],\n",
              "        [ 5.],\n",
              "        [ 8.],\n",
              "        [11.],\n",
              "        [14.]], dtype=float32)>)"
            ]
          },
          "metadata": {},
          "execution_count": 18
        }
      ]
    },
    {
      "cell_type": "code",
      "source": [
        "X.shape, X_expanded.shape"
      ],
      "metadata": {
        "colab": {
          "base_uri": "https://localhost:8080/"
        },
        "id": "myGEy309nLg9",
        "outputId": "d33b20bc-0e36-4f24-ccc6-baf72506fb12"
      },
      "execution_count": 19,
      "outputs": [
        {
          "output_type": "execute_result",
          "data": {
            "text/plain": [
              "(TensorShape([8]), TensorShape([8, 1]))"
            ]
          },
          "metadata": {},
          "execution_count": 19
        }
      ]
    },
    {
      "cell_type": "code",
      "source": [
        "model.predict([1])"
      ],
      "metadata": {
        "colab": {
          "base_uri": "https://localhost:8080/"
        },
        "id": "WNZ9Ivg5nWes",
        "outputId": "ded634f5-e1fa-43b6-e0a3-e153f6ac1e6e"
      },
      "execution_count": 20,
      "outputs": [
        {
          "output_type": "stream",
          "name": "stdout",
          "text": [
            "1/1 [==============================] - 0s 122ms/step\n"
          ]
        },
        {
          "output_type": "execute_result",
          "data": {
            "text/plain": [
              "array([[11.8686]], dtype=float32)"
            ]
          },
          "metadata": {},
          "execution_count": 20
        }
      ]
    },
    {
      "cell_type": "code",
      "source": [
        "model.predict([10])"
      ],
      "metadata": {
        "colab": {
          "base_uri": "https://localhost:8080/"
        },
        "id": "axkOLHjupTUg",
        "outputId": "7dd3e3be-bd6a-48b8-a31d-31098732943e"
      },
      "execution_count": 21,
      "outputs": [
        {
          "output_type": "stream",
          "name": "stdout",
          "text": [
            "1/1 [==============================] - 0s 30ms/step\n"
          ]
        },
        {
          "output_type": "execute_result",
          "data": {
            "text/plain": [
              "array([[23.240662]], dtype=float32)"
            ]
          },
          "metadata": {},
          "execution_count": 21
        }
      ]
    },
    {
      "cell_type": "code",
      "source": [
        "# 0. Set random seed\n",
        "tf.random.set_seed(42)\n",
        "\n",
        "# 1. Create a model\n",
        "model_improved = tf.keras.Sequential([\n",
        "    tf.keras.layers.Dense(10, activation=\"relu\"),\n",
        "    tf.keras.layers.Dense(10, activation=\"relu\"),\n",
        "    tf.keras.layers.Dense(10, activation=\"relu\"),\n",
        "    tf.keras.layers.Dense(1)\n",
        "])\n",
        "\n",
        "# 2. Compile the model\n",
        "model_improved.compile(loss=\"mae\",\n",
        "              optimizer=tf.optimizers.SGD(),\n",
        "              metrics=([\"mae\"]))\n",
        "\n",
        "# 3. Fit the model\n",
        "model_improved.fit(tf.expand_dims(X, axis=-1), y, epochs=300, verbose=2)"
      ],
      "metadata": {
        "colab": {
          "base_uri": "https://localhost:8080/"
        },
        "id": "fkF3c5gqpX4o",
        "outputId": "3c45a02c-e6ba-47bb-f81f-c29f448eb2aa"
      },
      "execution_count": 22,
      "outputs": [
        {
          "output_type": "stream",
          "name": "stdout",
          "text": [
            "Epoch 1/300\n",
            "1/1 - 0s - loss: 13.2729 - mae: 13.2729 - 431ms/epoch - 431ms/step\n",
            "Epoch 2/300\n",
            "1/1 - 0s - loss: 13.0927 - mae: 13.0927 - 7ms/epoch - 7ms/step\n",
            "Epoch 3/300\n",
            "1/1 - 0s - loss: 12.9080 - mae: 12.9080 - 8ms/epoch - 8ms/step\n",
            "Epoch 4/300\n",
            "1/1 - 0s - loss: 12.7193 - mae: 12.7193 - 6ms/epoch - 6ms/step\n",
            "Epoch 5/300\n",
            "1/1 - 0s - loss: 12.5303 - mae: 12.5303 - 8ms/epoch - 8ms/step\n",
            "Epoch 6/300\n",
            "1/1 - 0s - loss: 12.3614 - mae: 12.3614 - 6ms/epoch - 6ms/step\n",
            "Epoch 7/300\n",
            "1/1 - 0s - loss: 12.2624 - mae: 12.2624 - 6ms/epoch - 6ms/step\n",
            "Epoch 8/300\n",
            "1/1 - 0s - loss: 12.1475 - mae: 12.1475 - 6ms/epoch - 6ms/step\n",
            "Epoch 9/300\n",
            "1/1 - 0s - loss: 12.0187 - mae: 12.0187 - 6ms/epoch - 6ms/step\n",
            "Epoch 10/300\n",
            "1/1 - 0s - loss: 11.8713 - mae: 11.8713 - 7ms/epoch - 7ms/step\n",
            "Epoch 11/300\n",
            "1/1 - 0s - loss: 11.6964 - mae: 11.6964 - 5ms/epoch - 5ms/step\n",
            "Epoch 12/300\n",
            "1/1 - 0s - loss: 11.4955 - mae: 11.4955 - 7ms/epoch - 7ms/step\n",
            "Epoch 13/300\n",
            "1/1 - 0s - loss: 11.2537 - mae: 11.2537 - 6ms/epoch - 6ms/step\n",
            "Epoch 14/300\n",
            "1/1 - 0s - loss: 10.9621 - mae: 10.9621 - 6ms/epoch - 6ms/step\n",
            "Epoch 15/300\n",
            "1/1 - 0s - loss: 10.6344 - mae: 10.6344 - 6ms/epoch - 6ms/step\n",
            "Epoch 16/300\n",
            "1/1 - 0s - loss: 10.2258 - mae: 10.2258 - 6ms/epoch - 6ms/step\n",
            "Epoch 17/300\n",
            "1/1 - 0s - loss: 9.7171 - mae: 9.7171 - 8ms/epoch - 8ms/step\n",
            "Epoch 18/300\n",
            "1/1 - 0s - loss: 9.0620 - mae: 9.0620 - 4ms/epoch - 4ms/step\n",
            "Epoch 19/300\n",
            "1/1 - 0s - loss: 8.2143 - mae: 8.2143 - 8ms/epoch - 8ms/step\n",
            "Epoch 20/300\n",
            "1/1 - 0s - loss: 7.0802 - mae: 7.0802 - 4ms/epoch - 4ms/step\n",
            "Epoch 21/300\n",
            "1/1 - 0s - loss: 5.5356 - mae: 5.5356 - 7ms/epoch - 7ms/step\n",
            "Epoch 22/300\n",
            "1/1 - 0s - loss: 4.0088 - mae: 4.0088 - 4ms/epoch - 4ms/step\n",
            "Epoch 23/300\n",
            "1/1 - 0s - loss: 4.2106 - mae: 4.2106 - 8ms/epoch - 8ms/step\n",
            "Epoch 24/300\n",
            "1/1 - 0s - loss: 4.0090 - mae: 4.0090 - 4ms/epoch - 4ms/step\n",
            "Epoch 25/300\n",
            "1/1 - 0s - loss: 4.1735 - mae: 4.1735 - 4ms/epoch - 4ms/step\n",
            "Epoch 26/300\n",
            "1/1 - 0s - loss: 4.0106 - mae: 4.0106 - 8ms/epoch - 8ms/step\n",
            "Epoch 27/300\n",
            "1/1 - 0s - loss: 4.1350 - mae: 4.1350 - 4ms/epoch - 4ms/step\n",
            "Epoch 28/300\n",
            "1/1 - 0s - loss: 4.0126 - mae: 4.0126 - 4ms/epoch - 4ms/step\n",
            "Epoch 29/300\n",
            "1/1 - 0s - loss: 4.0941 - mae: 4.0941 - 8ms/epoch - 8ms/step\n",
            "Epoch 30/300\n",
            "1/1 - 0s - loss: 4.0165 - mae: 4.0165 - 8ms/epoch - 8ms/step\n",
            "Epoch 31/300\n",
            "1/1 - 0s - loss: 4.0524 - mae: 4.0524 - 7ms/epoch - 7ms/step\n",
            "Epoch 32/300\n",
            "1/1 - 0s - loss: 4.0218 - mae: 4.0218 - 6ms/epoch - 6ms/step\n",
            "Epoch 33/300\n",
            "1/1 - 0s - loss: 4.0098 - mae: 4.0098 - 5ms/epoch - 5ms/step\n",
            "Epoch 34/300\n",
            "1/1 - 0s - loss: 4.0282 - mae: 4.0282 - 8ms/epoch - 8ms/step\n",
            "Epoch 35/300\n",
            "1/1 - 0s - loss: 3.9652 - mae: 3.9652 - 7ms/epoch - 7ms/step\n",
            "Epoch 36/300\n",
            "1/1 - 0s - loss: 4.0365 - mae: 4.0365 - 11ms/epoch - 11ms/step\n",
            "Epoch 37/300\n",
            "1/1 - 0s - loss: 3.9189 - mae: 3.9189 - 6ms/epoch - 6ms/step\n",
            "Epoch 38/300\n",
            "1/1 - 0s - loss: 4.0464 - mae: 4.0464 - 6ms/epoch - 6ms/step\n",
            "Epoch 39/300\n",
            "1/1 - 0s - loss: 3.8717 - mae: 3.8717 - 8ms/epoch - 8ms/step\n",
            "Epoch 40/300\n",
            "1/1 - 0s - loss: 4.0573 - mae: 4.0573 - 8ms/epoch - 8ms/step\n",
            "Epoch 41/300\n",
            "1/1 - 0s - loss: 3.8524 - mae: 3.8524 - 6ms/epoch - 6ms/step\n",
            "Epoch 42/300\n",
            "1/1 - 0s - loss: 4.0276 - mae: 4.0276 - 8ms/epoch - 8ms/step\n",
            "Epoch 43/300\n",
            "1/1 - 0s - loss: 3.8642 - mae: 3.8642 - 6ms/epoch - 6ms/step\n",
            "Epoch 44/300\n",
            "1/1 - 0s - loss: 3.9800 - mae: 3.9800 - 6ms/epoch - 6ms/step\n",
            "Epoch 45/300\n",
            "1/1 - 0s - loss: 3.8773 - mae: 3.8773 - 7ms/epoch - 7ms/step\n",
            "Epoch 46/300\n",
            "1/1 - 0s - loss: 3.9307 - mae: 3.9307 - 6ms/epoch - 6ms/step\n",
            "Epoch 47/300\n",
            "1/1 - 0s - loss: 3.8918 - mae: 3.8918 - 8ms/epoch - 8ms/step\n",
            "Epoch 48/300\n",
            "1/1 - 0s - loss: 3.8797 - mae: 3.8797 - 4ms/epoch - 4ms/step\n",
            "Epoch 49/300\n",
            "1/1 - 0s - loss: 3.9077 - mae: 3.9077 - 5ms/epoch - 5ms/step\n",
            "Epoch 50/300\n",
            "1/1 - 0s - loss: 3.8267 - mae: 3.8267 - 6ms/epoch - 6ms/step\n",
            "Epoch 51/300\n",
            "1/1 - 0s - loss: 3.9252 - mae: 3.9252 - 5ms/epoch - 5ms/step\n",
            "Epoch 52/300\n",
            "1/1 - 0s - loss: 3.7725 - mae: 3.7725 - 7ms/epoch - 7ms/step\n",
            "Epoch 53/300\n",
            "1/1 - 0s - loss: 3.9435 - mae: 3.9435 - 5ms/epoch - 5ms/step\n",
            "Epoch 54/300\n",
            "1/1 - 0s - loss: 3.7467 - mae: 3.7467 - 6ms/epoch - 6ms/step\n",
            "Epoch 55/300\n",
            "1/1 - 0s - loss: 3.9205 - mae: 3.9205 - 6ms/epoch - 6ms/step\n",
            "Epoch 56/300\n",
            "1/1 - 0s - loss: 3.7659 - mae: 3.7659 - 6ms/epoch - 6ms/step\n",
            "Epoch 57/300\n",
            "1/1 - 0s - loss: 3.8667 - mae: 3.8667 - 10ms/epoch - 10ms/step\n",
            "Epoch 58/300\n",
            "1/1 - 0s - loss: 3.7865 - mae: 3.7865 - 7ms/epoch - 7ms/step\n",
            "Epoch 59/300\n",
            "1/1 - 0s - loss: 3.8099 - mae: 3.8099 - 16ms/epoch - 16ms/step\n",
            "Epoch 60/300\n",
            "1/1 - 0s - loss: 3.8078 - mae: 3.8078 - 9ms/epoch - 9ms/step\n",
            "Epoch 61/300\n",
            "1/1 - 0s - loss: 3.7522 - mae: 3.7522 - 9ms/epoch - 9ms/step\n",
            "Epoch 62/300\n",
            "1/1 - 0s - loss: 3.8318 - mae: 3.8318 - 9ms/epoch - 9ms/step\n",
            "Epoch 63/300\n",
            "1/1 - 0s - loss: 3.6911 - mae: 3.6911 - 7ms/epoch - 7ms/step\n",
            "Epoch 64/300\n",
            "1/1 - 0s - loss: 3.8561 - mae: 3.8561 - 5ms/epoch - 5ms/step\n",
            "Epoch 65/300\n",
            "1/1 - 0s - loss: 3.6665 - mae: 3.6665 - 5ms/epoch - 5ms/step\n",
            "Epoch 66/300\n",
            "1/1 - 0s - loss: 3.8328 - mae: 3.8328 - 9ms/epoch - 9ms/step\n",
            "Epoch 67/300\n",
            "1/1 - 0s - loss: 3.6905 - mae: 3.6905 - 4ms/epoch - 4ms/step\n",
            "Epoch 68/300\n",
            "1/1 - 0s - loss: 3.7718 - mae: 3.7718 - 5ms/epoch - 5ms/step\n",
            "Epoch 69/300\n",
            "1/1 - 0s - loss: 3.7156 - mae: 3.7156 - 9ms/epoch - 9ms/step\n",
            "Epoch 70/300\n",
            "1/1 - 0s - loss: 3.7095 - mae: 3.7095 - 6ms/epoch - 6ms/step\n",
            "Epoch 71/300\n",
            "1/1 - 0s - loss: 3.7431 - mae: 3.7431 - 5ms/epoch - 5ms/step\n",
            "Epoch 72/300\n",
            "1/1 - 0s - loss: 3.6439 - mae: 3.6439 - 5ms/epoch - 5ms/step\n",
            "Epoch 73/300\n",
            "1/1 - 0s - loss: 3.7711 - mae: 3.7711 - 9ms/epoch - 9ms/step\n",
            "Epoch 74/300\n",
            "1/1 - 0s - loss: 3.5881 - mae: 3.5881 - 5ms/epoch - 5ms/step\n",
            "Epoch 75/300\n",
            "1/1 - 0s - loss: 3.7781 - mae: 3.7781 - 10ms/epoch - 10ms/step\n",
            "Epoch 76/300\n",
            "1/1 - 0s - loss: 3.6156 - mae: 3.6156 - 5ms/epoch - 5ms/step\n",
            "Epoch 77/300\n",
            "1/1 - 0s - loss: 3.7122 - mae: 3.7122 - 5ms/epoch - 5ms/step\n",
            "Epoch 78/300\n",
            "1/1 - 0s - loss: 3.6442 - mae: 3.6442 - 5ms/epoch - 5ms/step\n",
            "Epoch 79/300\n",
            "1/1 - 0s - loss: 3.6450 - mae: 3.6450 - 5ms/epoch - 5ms/step\n",
            "Epoch 80/300\n",
            "1/1 - 0s - loss: 3.6754 - mae: 3.6754 - 8ms/epoch - 8ms/step\n",
            "Epoch 81/300\n",
            "1/1 - 0s - loss: 3.5740 - mae: 3.5740 - 5ms/epoch - 5ms/step\n",
            "Epoch 82/300\n",
            "1/1 - 0s - loss: 3.7071 - mae: 3.7071 - 5ms/epoch - 5ms/step\n",
            "Epoch 83/300\n",
            "1/1 - 0s - loss: 3.5285 - mae: 3.5285 - 8ms/epoch - 8ms/step\n",
            "Epoch 84/300\n",
            "1/1 - 0s - loss: 3.7022 - mae: 3.7022 - 5ms/epoch - 5ms/step\n",
            "Epoch 85/300\n",
            "1/1 - 0s - loss: 3.5593 - mae: 3.5593 - 15ms/epoch - 15ms/step\n",
            "Epoch 86/300\n",
            "1/1 - 0s - loss: 3.6307 - mae: 3.6307 - 7ms/epoch - 7ms/step\n",
            "Epoch 87/300\n",
            "1/1 - 0s - loss: 3.5915 - mae: 3.5915 - 6ms/epoch - 6ms/step\n",
            "Epoch 88/300\n",
            "1/1 - 0s - loss: 3.5578 - mae: 3.5578 - 3ms/epoch - 3ms/step\n",
            "Epoch 89/300\n",
            "1/1 - 0s - loss: 3.6262 - mae: 3.6262 - 5ms/epoch - 5ms/step\n",
            "Epoch 90/300\n",
            "1/1 - 0s - loss: 3.4818 - mae: 3.4818 - 9ms/epoch - 9ms/step\n",
            "Epoch 91/300\n",
            "1/1 - 0s - loss: 3.6607 - mae: 3.6607 - 5ms/epoch - 5ms/step\n",
            "Epoch 92/300\n",
            "1/1 - 0s - loss: 3.4848 - mae: 3.4848 - 8ms/epoch - 8ms/step\n",
            "Epoch 93/300\n",
            "1/1 - 0s - loss: 3.6051 - mae: 3.6051 - 6ms/epoch - 6ms/step\n",
            "Epoch 94/300\n",
            "1/1 - 0s - loss: 3.5189 - mae: 3.5189 - 7ms/epoch - 7ms/step\n",
            "Epoch 95/300\n",
            "1/1 - 0s - loss: 3.5273 - mae: 3.5273 - 9ms/epoch - 9ms/step\n",
            "Epoch 96/300\n",
            "1/1 - 0s - loss: 3.5550 - mae: 3.5550 - 7ms/epoch - 7ms/step\n",
            "Epoch 97/300\n",
            "1/1 - 0s - loss: 3.4478 - mae: 3.4478 - 4ms/epoch - 4ms/step\n",
            "Epoch 98/300\n",
            "1/1 - 0s - loss: 3.5932 - mae: 3.5932 - 4ms/epoch - 4ms/step\n",
            "Epoch 99/300\n",
            "1/1 - 0s - loss: 3.4211 - mae: 3.4211 - 5ms/epoch - 5ms/step\n",
            "Epoch 100/300\n",
            "1/1 - 0s - loss: 3.5634 - mae: 3.5634 - 6ms/epoch - 6ms/step\n",
            "Epoch 101/300\n",
            "1/1 - 0s - loss: 3.4583 - mae: 3.4583 - 6ms/epoch - 6ms/step\n",
            "Epoch 102/300\n",
            "1/1 - 0s - loss: 3.4824 - mae: 3.4824 - 6ms/epoch - 6ms/step\n",
            "Epoch 103/300\n",
            "1/1 - 0s - loss: 3.4955 - mae: 3.4955 - 6ms/epoch - 6ms/step\n",
            "Epoch 104/300\n",
            "1/1 - 0s - loss: 3.3971 - mae: 3.3971 - 6ms/epoch - 6ms/step\n",
            "Epoch 105/300\n",
            "1/1 - 0s - loss: 3.5355 - mae: 3.5355 - 7ms/epoch - 7ms/step\n",
            "Epoch 106/300\n",
            "1/1 - 0s - loss: 3.3680 - mae: 3.3680 - 4ms/epoch - 4ms/step\n",
            "Epoch 107/300\n",
            "1/1 - 0s - loss: 3.5071 - mae: 3.5071 - 6ms/epoch - 6ms/step\n",
            "Epoch 108/300\n",
            "1/1 - 0s - loss: 3.4056 - mae: 3.4056 - 7ms/epoch - 7ms/step\n",
            "Epoch 109/300\n",
            "1/1 - 0s - loss: 3.4203 - mae: 3.4203 - 6ms/epoch - 6ms/step\n",
            "Epoch 110/300\n",
            "1/1 - 0s - loss: 3.4461 - mae: 3.4461 - 6ms/epoch - 6ms/step\n",
            "Epoch 111/300\n",
            "1/1 - 0s - loss: 3.3311 - mae: 3.3311 - 5ms/epoch - 5ms/step\n",
            "Epoch 112/300\n",
            "1/1 - 0s - loss: 3.4883 - mae: 3.4883 - 6ms/epoch - 6ms/step\n",
            "Epoch 113/300\n",
            "1/1 - 0s - loss: 3.3223 - mae: 3.3223 - 6ms/epoch - 6ms/step\n",
            "Epoch 114/300\n",
            "1/1 - 0s - loss: 3.4346 - mae: 3.4346 - 6ms/epoch - 6ms/step\n",
            "Epoch 115/300\n",
            "1/1 - 0s - loss: 3.3636 - mae: 3.3636 - 6ms/epoch - 6ms/step\n",
            "Epoch 116/300\n",
            "1/1 - 0s - loss: 3.3434 - mae: 3.3434 - 7ms/epoch - 7ms/step\n",
            "Epoch 117/300\n",
            "1/1 - 0s - loss: 3.4055 - mae: 3.4055 - 5ms/epoch - 5ms/step\n",
            "Epoch 118/300\n",
            "1/1 - 0s - loss: 3.2485 - mae: 3.2485 - 6ms/epoch - 6ms/step\n",
            "Epoch 119/300\n",
            "1/1 - 0s - loss: 3.4494 - mae: 3.4494 - 6ms/epoch - 6ms/step\n",
            "Epoch 120/300\n",
            "1/1 - 0s - loss: 3.2857 - mae: 3.2857 - 6ms/epoch - 6ms/step\n",
            "Epoch 121/300\n",
            "1/1 - 0s - loss: 3.3482 - mae: 3.3482 - 6ms/epoch - 6ms/step\n",
            "Epoch 122/300\n",
            "1/1 - 0s - loss: 3.3279 - mae: 3.3279 - 6ms/epoch - 6ms/step\n",
            "Epoch 123/300\n",
            "1/1 - 0s - loss: 3.2500 - mae: 3.2500 - 6ms/epoch - 6ms/step\n",
            "Epoch 124/300\n",
            "1/1 - 0s - loss: 3.3731 - mae: 3.3731 - 5ms/epoch - 5ms/step\n",
            "Epoch 125/300\n",
            "1/1 - 0s - loss: 3.2152 - mae: 3.2152 - 6ms/epoch - 6ms/step\n",
            "Epoch 126/300\n",
            "1/1 - 0s - loss: 3.3424 - mae: 3.3424 - 6ms/epoch - 6ms/step\n",
            "Epoch 127/300\n",
            "1/1 - 0s - loss: 3.2578 - mae: 3.2578 - 6ms/epoch - 6ms/step\n",
            "Epoch 128/300\n",
            "1/1 - 0s - loss: 3.2416 - mae: 3.2416 - 7ms/epoch - 7ms/step\n",
            "Epoch 129/300\n",
            "1/1 - 0s - loss: 3.3038 - mae: 3.3038 - 5ms/epoch - 5ms/step\n",
            "Epoch 130/300\n",
            "1/1 - 0s - loss: 3.1514 - mae: 3.1514 - 8ms/epoch - 8ms/step\n",
            "Epoch 131/300\n",
            "1/1 - 0s - loss: 3.3261 - mae: 3.3261 - 5ms/epoch - 5ms/step\n",
            "Epoch 132/300\n",
            "1/1 - 0s - loss: 3.1945 - mae: 3.1945 - 6ms/epoch - 6ms/step\n",
            "Epoch 133/300\n",
            "1/1 - 0s - loss: 3.2227 - mae: 3.2227 - 6ms/epoch - 6ms/step\n",
            "Epoch 134/300\n",
            "1/1 - 0s - loss: 3.2415 - mae: 3.2415 - 6ms/epoch - 6ms/step\n",
            "Epoch 135/300\n",
            "1/1 - 0s - loss: 3.1173 - mae: 3.1173 - 6ms/epoch - 6ms/step\n",
            "Epoch 136/300\n",
            "1/1 - 0s - loss: 3.2889 - mae: 3.2889 - 6ms/epoch - 6ms/step\n",
            "Epoch 137/300\n",
            "1/1 - 0s - loss: 3.1329 - mae: 3.1329 - 6ms/epoch - 6ms/step\n",
            "Epoch 138/300\n",
            "1/1 - 0s - loss: 3.1999 - mae: 3.1999 - 6ms/epoch - 6ms/step\n",
            "Epoch 139/300\n",
            "1/1 - 0s - loss: 3.1803 - mae: 3.1803 - 6ms/epoch - 6ms/step\n",
            "Epoch 140/300\n",
            "1/1 - 0s - loss: 3.0883 - mae: 3.0883 - 6ms/epoch - 6ms/step\n",
            "Epoch 141/300\n",
            "1/1 - 0s - loss: 3.2289 - mae: 3.2289 - 6ms/epoch - 6ms/step\n",
            "Epoch 142/300\n",
            "1/1 - 0s - loss: 3.0780 - mae: 3.0780 - 6ms/epoch - 6ms/step\n",
            "Epoch 143/300\n",
            "1/1 - 0s - loss: 3.1651 - mae: 3.1651 - 10ms/epoch - 10ms/step\n",
            "Epoch 144/300\n",
            "1/1 - 0s - loss: 3.1247 - mae: 3.1247 - 7ms/epoch - 7ms/step\n",
            "Epoch 145/300\n",
            "1/1 - 0s - loss: 3.0498 - mae: 3.0498 - 5ms/epoch - 5ms/step\n",
            "Epoch 146/300\n",
            "1/1 - 0s - loss: 3.1740 - mae: 3.1740 - 7ms/epoch - 7ms/step\n",
            "Epoch 147/300\n",
            "1/1 - 0s - loss: 3.0258 - mae: 3.0258 - 7ms/epoch - 7ms/step\n",
            "Epoch 148/300\n",
            "1/1 - 0s - loss: 3.1249 - mae: 3.1249 - 8ms/epoch - 8ms/step\n",
            "Epoch 149/300\n",
            "1/1 - 0s - loss: 3.0702 - mae: 3.0702 - 7ms/epoch - 7ms/step\n",
            "Epoch 150/300\n",
            "1/1 - 0s - loss: 3.0132 - mae: 3.0132 - 6ms/epoch - 6ms/step\n",
            "Epoch 151/300\n",
            "1/1 - 0s - loss: 3.1133 - mae: 3.1133 - 6ms/epoch - 6ms/step\n",
            "Epoch 152/300\n",
            "1/1 - 0s - loss: 2.9601 - mae: 2.9601 - 6ms/epoch - 6ms/step\n",
            "Epoch 153/300\n",
            "1/1 - 0s - loss: 3.0816 - mae: 3.0816 - 4ms/epoch - 4ms/step\n",
            "Epoch 154/300\n",
            "1/1 - 0s - loss: 3.0101 - mae: 3.0101 - 6ms/epoch - 6ms/step\n",
            "Epoch 155/300\n",
            "1/1 - 0s - loss: 2.9569 - mae: 2.9569 - 7ms/epoch - 7ms/step\n",
            "Epoch 156/300\n",
            "1/1 - 0s - loss: 3.0639 - mae: 3.0639 - 6ms/epoch - 6ms/step\n",
            "Epoch 157/300\n",
            "1/1 - 0s - loss: 2.9109 - mae: 2.9109 - 7ms/epoch - 7ms/step\n",
            "Epoch 158/300\n",
            "1/1 - 0s - loss: 3.0204 - mae: 3.0204 - 4ms/epoch - 4ms/step\n",
            "Epoch 159/300\n",
            "1/1 - 0s - loss: 2.9611 - mae: 2.9611 - 6ms/epoch - 6ms/step\n",
            "Epoch 160/300\n",
            "1/1 - 0s - loss: 2.8920 - mae: 2.8920 - 4ms/epoch - 4ms/step\n",
            "Epoch 161/300\n",
            "1/1 - 0s - loss: 3.0153 - mae: 3.0153 - 8ms/epoch - 8ms/step\n",
            "Epoch 162/300\n",
            "1/1 - 0s - loss: 2.8632 - mae: 2.8632 - 4ms/epoch - 4ms/step\n",
            "Epoch 163/300\n",
            "1/1 - 0s - loss: 2.9503 - mae: 2.9503 - 7ms/epoch - 7ms/step\n",
            "Epoch 164/300\n",
            "1/1 - 0s - loss: 2.9136 - mae: 2.9136 - 6ms/epoch - 6ms/step\n",
            "Epoch 165/300\n",
            "1/1 - 0s - loss: 2.8145 - mae: 2.8145 - 4ms/epoch - 4ms/step\n",
            "Epoch 166/300\n",
            "1/1 - 0s - loss: 2.9702 - mae: 2.9702 - 6ms/epoch - 6ms/step\n",
            "Epoch 167/300\n",
            "1/1 - 0s - loss: 2.8179 - mae: 2.8179 - 7ms/epoch - 7ms/step\n",
            "Epoch 168/300\n",
            "1/1 - 0s - loss: 2.8657 - mae: 2.8657 - 8ms/epoch - 8ms/step\n",
            "Epoch 169/300\n",
            "1/1 - 0s - loss: 2.8635 - mae: 2.8635 - 5ms/epoch - 5ms/step\n",
            "Epoch 170/300\n",
            "1/1 - 0s - loss: 2.7274 - mae: 2.7274 - 8ms/epoch - 8ms/step\n",
            "Epoch 171/300\n",
            "1/1 - 0s - loss: 2.9113 - mae: 2.9113 - 5ms/epoch - 5ms/step\n",
            "Epoch 172/300\n",
            "1/1 - 0s - loss: 2.7523 - mae: 2.7523 - 6ms/epoch - 6ms/step\n",
            "Epoch 173/300\n",
            "1/1 - 0s - loss: 2.7738 - mae: 2.7738 - 7ms/epoch - 7ms/step\n",
            "Epoch 174/300\n",
            "1/1 - 0s - loss: 2.7993 - mae: 2.7993 - 4ms/epoch - 4ms/step\n",
            "Epoch 175/300\n",
            "1/1 - 0s - loss: 2.6501 - mae: 2.6501 - 6ms/epoch - 6ms/step\n",
            "Epoch 176/300\n",
            "1/1 - 0s - loss: 2.8120 - mae: 2.8120 - 7ms/epoch - 7ms/step\n",
            "Epoch 177/300\n",
            "1/1 - 0s - loss: 2.6926 - mae: 2.6926 - 4ms/epoch - 4ms/step\n",
            "Epoch 178/300\n",
            "1/1 - 0s - loss: 2.6631 - mae: 2.6631 - 6ms/epoch - 6ms/step\n",
            "Epoch 179/300\n",
            "1/1 - 0s - loss: 2.7400 - mae: 2.7400 - 5ms/epoch - 5ms/step\n",
            "Epoch 180/300\n",
            "1/1 - 0s - loss: 2.5870 - mae: 2.5870 - 6ms/epoch - 6ms/step\n",
            "Epoch 181/300\n",
            "1/1 - 0s - loss: 2.6949 - mae: 2.6949 - 9ms/epoch - 9ms/step\n",
            "Epoch 182/300\n",
            "1/1 - 0s - loss: 2.6299 - mae: 2.6299 - 5ms/epoch - 5ms/step\n",
            "Epoch 183/300\n",
            "1/1 - 0s - loss: 2.5367 - mae: 2.5367 - 6ms/epoch - 6ms/step\n",
            "Epoch 184/300\n",
            "1/1 - 0s - loss: 2.6739 - mae: 2.6739 - 10ms/epoch - 10ms/step\n",
            "Epoch 185/300\n",
            "1/1 - 0s - loss: 2.5139 - mae: 2.5139 - 6ms/epoch - 6ms/step\n",
            "Epoch 186/300\n",
            "1/1 - 0s - loss: 2.5583 - mae: 2.5583 - 6ms/epoch - 6ms/step\n",
            "Epoch 187/300\n",
            "1/1 - 0s - loss: 2.5482 - mae: 2.5482 - 8ms/epoch - 8ms/step\n",
            "Epoch 188/300\n",
            "1/1 - 0s - loss: 2.3953 - mae: 2.3953 - 7ms/epoch - 7ms/step\n",
            "Epoch 189/300\n",
            "1/1 - 0s - loss: 2.6479 - mae: 2.6479 - 7ms/epoch - 7ms/step\n",
            "Epoch 190/300\n",
            "1/1 - 0s - loss: 2.9513 - mae: 2.9513 - 5ms/epoch - 5ms/step\n",
            "Epoch 191/300\n",
            "1/1 - 0s - loss: 3.2251 - mae: 3.2251 - 6ms/epoch - 6ms/step\n",
            "Epoch 192/300\n",
            "1/1 - 0s - loss: 2.3819 - mae: 2.3819 - 6ms/epoch - 6ms/step\n",
            "Epoch 193/300\n",
            "1/1 - 0s - loss: 2.4515 - mae: 2.4515 - 5ms/epoch - 5ms/step\n",
            "Epoch 194/300\n",
            "1/1 - 0s - loss: 2.2842 - mae: 2.2842 - 6ms/epoch - 6ms/step\n",
            "Epoch 195/300\n",
            "1/1 - 0s - loss: 2.3836 - mae: 2.3836 - 6ms/epoch - 6ms/step\n",
            "Epoch 196/300\n",
            "1/1 - 0s - loss: 2.3137 - mae: 2.3137 - 6ms/epoch - 6ms/step\n",
            "Epoch 197/300\n",
            "1/1 - 0s - loss: 2.1964 - mae: 2.1964 - 6ms/epoch - 6ms/step\n",
            "Epoch 198/300\n",
            "1/1 - 0s - loss: 2.4286 - mae: 2.4286 - 6ms/epoch - 6ms/step\n",
            "Epoch 199/300\n",
            "1/1 - 0s - loss: 2.8402 - mae: 2.8402 - 6ms/epoch - 6ms/step\n",
            "Epoch 200/300\n",
            "1/1 - 0s - loss: 3.0290 - mae: 3.0290 - 6ms/epoch - 6ms/step\n",
            "Epoch 201/300\n",
            "1/1 - 0s - loss: 2.1486 - mae: 2.1486 - 6ms/epoch - 6ms/step\n",
            "Epoch 202/300\n",
            "1/1 - 0s - loss: 2.2314 - mae: 2.2314 - 4ms/epoch - 4ms/step\n",
            "Epoch 203/300\n",
            "1/1 - 0s - loss: 2.9012 - mae: 2.9012 - 6ms/epoch - 6ms/step\n",
            "Epoch 204/300\n",
            "1/1 - 0s - loss: 2.8348 - mae: 2.8348 - 5ms/epoch - 5ms/step\n",
            "Epoch 205/300\n",
            "1/1 - 0s - loss: 2.0788 - mae: 2.0788 - 7ms/epoch - 7ms/step\n",
            "Epoch 206/300\n",
            "1/1 - 0s - loss: 2.0493 - mae: 2.0493 - 5ms/epoch - 5ms/step\n",
            "Epoch 207/300\n",
            "1/1 - 0s - loss: 2.9272 - mae: 2.9272 - 6ms/epoch - 6ms/step\n",
            "Epoch 208/300\n",
            "1/1 - 0s - loss: 2.6687 - mae: 2.6687 - 10ms/epoch - 10ms/step\n",
            "Epoch 209/300\n",
            "1/1 - 0s - loss: 2.0566 - mae: 2.0566 - 5ms/epoch - 5ms/step\n",
            "Epoch 210/300\n",
            "1/1 - 0s - loss: 3.6376 - mae: 3.6376 - 5ms/epoch - 5ms/step\n",
            "Epoch 211/300\n",
            "1/1 - 0s - loss: 2.2096 - mae: 2.2096 - 5ms/epoch - 5ms/step\n",
            "Epoch 212/300\n",
            "1/1 - 0s - loss: 3.3952 - mae: 3.3952 - 6ms/epoch - 6ms/step\n",
            "Epoch 213/300\n",
            "1/1 - 0s - loss: 2.3401 - mae: 2.3401 - 6ms/epoch - 6ms/step\n",
            "Epoch 214/300\n",
            "1/1 - 0s - loss: 3.1635 - mae: 3.1635 - 5ms/epoch - 5ms/step\n",
            "Epoch 215/300\n",
            "1/1 - 0s - loss: 2.4649 - mae: 2.4649 - 8ms/epoch - 8ms/step\n",
            "Epoch 216/300\n",
            "1/1 - 0s - loss: 2.9554 - mae: 2.9554 - 5ms/epoch - 5ms/step\n",
            "Epoch 217/300\n",
            "1/1 - 0s - loss: 2.5705 - mae: 2.5705 - 5ms/epoch - 5ms/step\n",
            "Epoch 218/300\n",
            "1/1 - 0s - loss: 2.7618 - mae: 2.7618 - 5ms/epoch - 5ms/step\n",
            "Epoch 219/300\n",
            "1/1 - 0s - loss: 2.6683 - mae: 2.6683 - 7ms/epoch - 7ms/step\n",
            "Epoch 220/300\n",
            "1/1 - 0s - loss: 2.5872 - mae: 2.5872 - 5ms/epoch - 5ms/step\n",
            "Epoch 221/300\n",
            "1/1 - 0s - loss: 2.7505 - mae: 2.7505 - 6ms/epoch - 6ms/step\n",
            "Epoch 222/300\n",
            "1/1 - 0s - loss: 2.3483 - mae: 2.3483 - 5ms/epoch - 5ms/step\n",
            "Epoch 223/300\n",
            "1/1 - 0s - loss: 2.8702 - mae: 2.8702 - 6ms/epoch - 6ms/step\n",
            "Epoch 224/300\n",
            "1/1 - 0s - loss: 2.1596 - mae: 2.1596 - 5ms/epoch - 5ms/step\n",
            "Epoch 225/300\n",
            "1/1 - 0s - loss: 1.9933 - mae: 1.9933 - 5ms/epoch - 5ms/step\n",
            "Epoch 226/300\n",
            "1/1 - 0s - loss: 3.2311 - mae: 3.2311 - 7ms/epoch - 7ms/step\n",
            "Epoch 227/300\n",
            "1/1 - 0s - loss: 2.1701 - mae: 2.1701 - 5ms/epoch - 5ms/step\n",
            "Epoch 228/300\n",
            "1/1 - 0s - loss: 2.8757 - mae: 2.8757 - 7ms/epoch - 7ms/step\n",
            "Epoch 229/300\n",
            "1/1 - 0s - loss: 2.3200 - mae: 2.3200 - 6ms/epoch - 6ms/step\n",
            "Epoch 230/300\n",
            "1/1 - 0s - loss: 2.5873 - mae: 2.5873 - 8ms/epoch - 8ms/step\n",
            "Epoch 231/300\n",
            "1/1 - 0s - loss: 2.4492 - mae: 2.4492 - 5ms/epoch - 5ms/step\n",
            "Epoch 232/300\n",
            "1/1 - 0s - loss: 2.3522 - mae: 2.3522 - 10ms/epoch - 10ms/step\n",
            "Epoch 233/300\n",
            "1/1 - 0s - loss: 2.5667 - mae: 2.5667 - 5ms/epoch - 5ms/step\n",
            "Epoch 234/300\n",
            "1/1 - 0s - loss: 2.2856 - mae: 2.2856 - 8ms/epoch - 8ms/step\n",
            "Epoch 235/300\n",
            "1/1 - 0s - loss: 2.5611 - mae: 2.5611 - 10ms/epoch - 10ms/step\n",
            "Epoch 236/300\n",
            "1/1 - 0s - loss: 2.2271 - mae: 2.2271 - 7ms/epoch - 7ms/step\n",
            "Epoch 237/300\n",
            "1/1 - 0s - loss: 2.5525 - mae: 2.5525 - 7ms/epoch - 7ms/step\n",
            "Epoch 238/300\n",
            "1/1 - 0s - loss: 2.1674 - mae: 2.1674 - 7ms/epoch - 7ms/step\n",
            "Epoch 239/300\n",
            "1/1 - 0s - loss: 2.5339 - mae: 2.5339 - 5ms/epoch - 5ms/step\n",
            "Epoch 240/300\n",
            "1/1 - 0s - loss: 2.1142 - mae: 2.1142 - 10ms/epoch - 10ms/step\n",
            "Epoch 241/300\n",
            "1/1 - 0s - loss: 2.6194 - mae: 2.6194 - 15ms/epoch - 15ms/step\n",
            "Epoch 242/300\n",
            "1/1 - 0s - loss: 2.0484 - mae: 2.0484 - 7ms/epoch - 7ms/step\n",
            "Epoch 243/300\n",
            "1/1 - 0s - loss: 2.5244 - mae: 2.5244 - 5ms/epoch - 5ms/step\n",
            "Epoch 244/300\n",
            "1/1 - 0s - loss: 1.9015 - mae: 1.9015 - 11ms/epoch - 11ms/step\n",
            "Epoch 245/300\n",
            "1/1 - 0s - loss: 2.6400 - mae: 2.6400 - 8ms/epoch - 8ms/step\n",
            "Epoch 246/300\n",
            "1/1 - 0s - loss: 1.8404 - mae: 1.8404 - 6ms/epoch - 6ms/step\n",
            "Epoch 247/300\n",
            "1/1 - 0s - loss: 2.5202 - mae: 2.5202 - 8ms/epoch - 8ms/step\n",
            "Epoch 248/300\n",
            "1/1 - 0s - loss: 1.7122 - mae: 1.7122 - 15ms/epoch - 15ms/step\n",
            "Epoch 249/300\n",
            "1/1 - 0s - loss: 2.6305 - mae: 2.6305 - 17ms/epoch - 17ms/step\n",
            "Epoch 250/300\n",
            "1/1 - 0s - loss: 1.6758 - mae: 1.6758 - 6ms/epoch - 6ms/step\n",
            "Epoch 251/300\n",
            "1/1 - 0s - loss: 2.4815 - mae: 2.4815 - 4ms/epoch - 4ms/step\n",
            "Epoch 252/300\n",
            "1/1 - 0s - loss: 1.5283 - mae: 1.5283 - 8ms/epoch - 8ms/step\n",
            "Epoch 253/300\n",
            "1/1 - 0s - loss: 2.5943 - mae: 2.5943 - 11ms/epoch - 11ms/step\n",
            "Epoch 254/300\n",
            "1/1 - 0s - loss: 1.6678 - mae: 1.6678 - 9ms/epoch - 9ms/step\n",
            "Epoch 255/300\n",
            "1/1 - 0s - loss: 2.9903 - mae: 2.9903 - 8ms/epoch - 8ms/step\n",
            "Epoch 256/300\n",
            "1/1 - 0s - loss: 0.7790 - mae: 0.7790 - 9ms/epoch - 9ms/step\n",
            "Epoch 257/300\n",
            "1/1 - 0s - loss: 2.2190 - mae: 2.2190 - 10ms/epoch - 10ms/step\n",
            "Epoch 258/300\n",
            "1/1 - 0s - loss: 2.1386 - mae: 2.1386 - 7ms/epoch - 7ms/step\n",
            "Epoch 259/300\n",
            "1/1 - 0s - loss: 2.5062 - mae: 2.5062 - 20ms/epoch - 20ms/step\n",
            "Epoch 260/300\n",
            "1/1 - 0s - loss: 1.2236 - mae: 1.2236 - 8ms/epoch - 8ms/step\n",
            "Epoch 261/300\n",
            "1/1 - 0s - loss: 3.1887 - mae: 3.1887 - 7ms/epoch - 7ms/step\n",
            "Epoch 262/300\n",
            "1/1 - 0s - loss: 0.7521 - mae: 0.7521 - 14ms/epoch - 14ms/step\n",
            "Epoch 263/300\n",
            "1/1 - 0s - loss: 2.0012 - mae: 2.0012 - 11ms/epoch - 11ms/step\n",
            "Epoch 264/300\n",
            "1/1 - 0s - loss: 1.7628 - mae: 1.7628 - 10ms/epoch - 10ms/step\n",
            "Epoch 265/300\n",
            "1/1 - 0s - loss: 2.9116 - mae: 2.9116 - 10ms/epoch - 10ms/step\n",
            "Epoch 266/300\n",
            "1/1 - 0s - loss: 0.9099 - mae: 0.9099 - 12ms/epoch - 12ms/step\n",
            "Epoch 267/300\n",
            "1/1 - 0s - loss: 3.2289 - mae: 3.2289 - 12ms/epoch - 12ms/step\n",
            "Epoch 268/300\n",
            "1/1 - 0s - loss: 0.5677 - mae: 0.5677 - 11ms/epoch - 11ms/step\n",
            "Epoch 269/300\n",
            "1/1 - 0s - loss: 0.8351 - mae: 0.8351 - 11ms/epoch - 11ms/step\n",
            "Epoch 270/300\n",
            "1/1 - 0s - loss: 3.5728 - mae: 3.5728 - 17ms/epoch - 17ms/step\n",
            "Epoch 271/300\n",
            "1/1 - 0s - loss: 1.7250 - mae: 1.7250 - 11ms/epoch - 11ms/step\n",
            "Epoch 272/300\n",
            "1/1 - 0s - loss: 2.2178 - mae: 2.2178 - 14ms/epoch - 14ms/step\n",
            "Epoch 273/300\n",
            "1/1 - 0s - loss: 2.3132 - mae: 2.3132 - 7ms/epoch - 7ms/step\n",
            "Epoch 274/300\n",
            "1/1 - 0s - loss: 1.0468 - mae: 1.0468 - 11ms/epoch - 11ms/step\n",
            "Epoch 275/300\n",
            "1/1 - 0s - loss: 2.9146 - mae: 2.9146 - 10ms/epoch - 10ms/step\n",
            "Epoch 276/300\n",
            "1/1 - 0s - loss: 0.4504 - mae: 0.4504 - 6ms/epoch - 6ms/step\n",
            "Epoch 277/300\n",
            "1/1 - 0s - loss: 0.8457 - mae: 0.8457 - 13ms/epoch - 13ms/step\n",
            "Epoch 278/300\n",
            "1/1 - 0s - loss: 3.1466 - mae: 3.1466 - 6ms/epoch - 6ms/step\n",
            "Epoch 279/300\n",
            "1/1 - 0s - loss: 1.7312 - mae: 1.7312 - 10ms/epoch - 10ms/step\n",
            "Epoch 280/300\n",
            "1/1 - 0s - loss: 1.8315 - mae: 1.8315 - 6ms/epoch - 6ms/step\n",
            "Epoch 281/300\n",
            "1/1 - 0s - loss: 2.5243 - mae: 2.5243 - 6ms/epoch - 6ms/step\n",
            "Epoch 282/300\n",
            "1/1 - 0s - loss: 0.7628 - mae: 0.7628 - 12ms/epoch - 12ms/step\n",
            "Epoch 283/300\n",
            "1/1 - 0s - loss: 3.1337 - mae: 3.1337 - 8ms/epoch - 8ms/step\n",
            "Epoch 284/300\n",
            "1/1 - 0s - loss: 0.5206 - mae: 0.5206 - 9ms/epoch - 9ms/step\n",
            "Epoch 285/300\n",
            "1/1 - 0s - loss: 3.7022 - mae: 3.7022 - 14ms/epoch - 14ms/step\n",
            "Epoch 286/300\n",
            "1/1 - 0s - loss: 1.3550 - mae: 1.3550 - 10ms/epoch - 10ms/step\n",
            "Epoch 287/300\n",
            "1/1 - 0s - loss: 2.3192 - mae: 2.3192 - 11ms/epoch - 11ms/step\n",
            "Epoch 288/300\n",
            "1/1 - 0s - loss: 2.1647 - mae: 2.1647 - 13ms/epoch - 13ms/step\n",
            "Epoch 289/300\n",
            "1/1 - 0s - loss: 1.1555 - mae: 1.1555 - 8ms/epoch - 8ms/step\n",
            "Epoch 290/300\n",
            "1/1 - 0s - loss: 2.8239 - mae: 2.8239 - 11ms/epoch - 11ms/step\n",
            "Epoch 291/300\n",
            "1/1 - 0s - loss: 0.3796 - mae: 0.3796 - 7ms/epoch - 7ms/step\n",
            "Epoch 292/300\n",
            "1/1 - 0s - loss: 0.8366 - mae: 0.8366 - 6ms/epoch - 6ms/step\n",
            "Epoch 293/300\n",
            "1/1 - 0s - loss: 2.9024 - mae: 2.9024 - 8ms/epoch - 8ms/step\n",
            "Epoch 294/300\n",
            "1/1 - 0s - loss: 1.7483 - mae: 1.7483 - 11ms/epoch - 11ms/step\n",
            "Epoch 295/300\n",
            "1/1 - 0s - loss: 1.6511 - mae: 1.6511 - 8ms/epoch - 8ms/step\n",
            "Epoch 296/300\n",
            "1/1 - 0s - loss: 2.5067 - mae: 2.5067 - 12ms/epoch - 12ms/step\n",
            "Epoch 297/300\n",
            "1/1 - 0s - loss: 0.6487 - mae: 0.6487 - 10ms/epoch - 10ms/step\n",
            "Epoch 298/300\n",
            "1/1 - 0s - loss: 3.0860 - mae: 3.0860 - 14ms/epoch - 14ms/step\n",
            "Epoch 299/300\n",
            "1/1 - 0s - loss: 0.5322 - mae: 0.5322 - 12ms/epoch - 12ms/step\n",
            "Epoch 300/300\n",
            "1/1 - 0s - loss: 3.2702 - mae: 3.2702 - 13ms/epoch - 13ms/step\n"
          ]
        },
        {
          "output_type": "execute_result",
          "data": {
            "text/plain": [
              "<keras.callbacks.History at 0x7fb88384ead0>"
            ]
          },
          "metadata": {},
          "execution_count": 22
        }
      ]
    },
    {
      "cell_type": "code",
      "source": [
        "# New model\n",
        "# 1. Create a model\n",
        "model = tf.keras.Sequential([\n",
        "    tf.keras.layers.Dense(100, activation=\"relu\"),\n",
        "    tf.keras.layers.Dense(1)\n",
        "])\n",
        "# 2. Compile a model\n",
        "model.compile(loss=\"mae\",\n",
        "              optimizer=tf.keras.optimizers.SGD(),\n",
        "              metrics=[\"mae\"])\n",
        "\n",
        "# 3. Fit the model\n",
        "model.fit(tf.expand_dims(X, axis=-1), y, epochs=100)"
      ],
      "metadata": {
        "colab": {
          "base_uri": "https://localhost:8080/"
        },
        "id": "iZ9DNM17sbeh",
        "outputId": "b00acbad-a76d-43ea-ff8a-461e9d3e0da3"
      },
      "execution_count": 23,
      "outputs": [
        {
          "output_type": "stream",
          "name": "stdout",
          "text": [
            "Epoch 1/100\n",
            "1/1 [==============================] - 0s 425ms/step - loss: 12.7339 - mae: 12.7339\n",
            "Epoch 2/100\n",
            "1/1 [==============================] - 0s 11ms/step - loss: 12.2088 - mae: 12.2088\n",
            "Epoch 3/100\n",
            "1/1 [==============================] - 0s 11ms/step - loss: 11.6861 - mae: 11.6861\n",
            "Epoch 4/100\n",
            "1/1 [==============================] - 0s 8ms/step - loss: 11.1615 - mae: 11.1615\n",
            "Epoch 5/100\n",
            "1/1 [==============================] - 0s 8ms/step - loss: 10.6118 - mae: 10.6118\n",
            "Epoch 6/100\n",
            "1/1 [==============================] - 0s 8ms/step - loss: 10.0388 - mae: 10.0388\n",
            "Epoch 7/100\n",
            "1/1 [==============================] - 0s 8ms/step - loss: 9.4399 - mae: 9.4399\n",
            "Epoch 8/100\n",
            "1/1 [==============================] - 0s 8ms/step - loss: 8.8100 - mae: 8.8100\n",
            "Epoch 9/100\n",
            "1/1 [==============================] - 0s 8ms/step - loss: 8.1464 - mae: 8.1464\n",
            "Epoch 10/100\n",
            "1/1 [==============================] - 0s 8ms/step - loss: 7.4413 - mae: 7.4413\n",
            "Epoch 11/100\n",
            "1/1 [==============================] - 0s 14ms/step - loss: 6.6796 - mae: 6.6796\n",
            "Epoch 12/100\n",
            "1/1 [==============================] - 0s 9ms/step - loss: 5.8587 - mae: 5.8587\n",
            "Epoch 13/100\n",
            "1/1 [==============================] - 0s 9ms/step - loss: 4.9722 - mae: 4.9722\n",
            "Epoch 14/100\n",
            "1/1 [==============================] - 0s 9ms/step - loss: 4.1661 - mae: 4.1661\n",
            "Epoch 15/100\n",
            "1/1 [==============================] - 0s 14ms/step - loss: 4.0374 - mae: 4.0374\n",
            "Epoch 16/100\n",
            "1/1 [==============================] - 0s 10ms/step - loss: 3.9411 - mae: 3.9411\n",
            "Epoch 17/100\n",
            "1/1 [==============================] - 0s 8ms/step - loss: 3.9415 - mae: 3.9415\n",
            "Epoch 18/100\n",
            "1/1 [==============================] - 0s 9ms/step - loss: 3.9232 - mae: 3.9232\n",
            "Epoch 19/100\n",
            "1/1 [==============================] - 0s 12ms/step - loss: 3.9527 - mae: 3.9527\n",
            "Epoch 20/100\n",
            "1/1 [==============================] - 0s 6ms/step - loss: 3.8979 - mae: 3.8979\n",
            "Epoch 21/100\n",
            "1/1 [==============================] - 0s 7ms/step - loss: 3.9597 - mae: 3.9597\n",
            "Epoch 22/100\n",
            "1/1 [==============================] - 0s 9ms/step - loss: 3.8929 - mae: 3.8929\n",
            "Epoch 23/100\n",
            "1/1 [==============================] - 0s 7ms/step - loss: 3.9454 - mae: 3.9454\n",
            "Epoch 24/100\n",
            "1/1 [==============================] - 0s 8ms/step - loss: 3.8998 - mae: 3.8998\n",
            "Epoch 25/100\n",
            "1/1 [==============================] - 0s 6ms/step - loss: 3.9221 - mae: 3.9221\n",
            "Epoch 26/100\n",
            "1/1 [==============================] - 0s 8ms/step - loss: 3.9144 - mae: 3.9144\n",
            "Epoch 27/100\n",
            "1/1 [==============================] - 0s 8ms/step - loss: 3.9019 - mae: 3.9019\n",
            "Epoch 28/100\n",
            "1/1 [==============================] - 0s 8ms/step - loss: 3.9215 - mae: 3.9215\n",
            "Epoch 29/100\n",
            "1/1 [==============================] - 0s 9ms/step - loss: 3.8765 - mae: 3.8765\n",
            "Epoch 30/100\n",
            "1/1 [==============================] - 0s 11ms/step - loss: 3.9287 - mae: 3.9287\n",
            "Epoch 31/100\n",
            "1/1 [==============================] - 0s 7ms/step - loss: 3.8624 - mae: 3.8624\n",
            "Epoch 32/100\n",
            "1/1 [==============================] - 0s 6ms/step - loss: 3.9235 - mae: 3.9235\n",
            "Epoch 33/100\n",
            "1/1 [==============================] - 0s 6ms/step - loss: 3.8695 - mae: 3.8695\n",
            "Epoch 34/100\n",
            "1/1 [==============================] - 0s 6ms/step - loss: 3.9051 - mae: 3.9051\n",
            "Epoch 35/100\n",
            "1/1 [==============================] - 0s 12ms/step - loss: 3.8843 - mae: 3.8843\n",
            "Epoch 36/100\n",
            "1/1 [==============================] - 0s 7ms/step - loss: 3.8795 - mae: 3.8795\n",
            "Epoch 37/100\n",
            "1/1 [==============================] - 0s 7ms/step - loss: 3.8916 - mae: 3.8916\n",
            "Epoch 38/100\n",
            "1/1 [==============================] - 0s 6ms/step - loss: 3.8538 - mae: 3.8538\n",
            "Epoch 39/100\n",
            "1/1 [==============================] - 0s 10ms/step - loss: 3.8990 - mae: 3.8990\n",
            "Epoch 40/100\n",
            "1/1 [==============================] - 0s 14ms/step - loss: 3.8331 - mae: 3.8331\n",
            "Epoch 41/100\n",
            "1/1 [==============================] - 0s 13ms/step - loss: 3.9004 - mae: 3.9004\n",
            "Epoch 42/100\n",
            "1/1 [==============================] - 0s 13ms/step - loss: 3.8448 - mae: 3.8448\n",
            "Epoch 43/100\n",
            "1/1 [==============================] - 0s 14ms/step - loss: 3.8816 - mae: 3.8816\n",
            "Epoch 44/100\n",
            "1/1 [==============================] - 0s 11ms/step - loss: 3.8554 - mae: 3.8554\n",
            "Epoch 45/100\n",
            "1/1 [==============================] - 0s 6ms/step - loss: 3.8558 - mae: 3.8558\n",
            "Epoch 46/100\n",
            "1/1 [==============================] - 0s 6ms/step - loss: 3.8628 - mae: 3.8628\n",
            "Epoch 47/100\n",
            "1/1 [==============================] - 0s 10ms/step - loss: 3.8298 - mae: 3.8298\n",
            "Epoch 48/100\n",
            "1/1 [==============================] - 0s 7ms/step - loss: 3.8705 - mae: 3.8705\n",
            "Epoch 49/100\n",
            "1/1 [==============================] - 0s 7ms/step - loss: 3.8049 - mae: 3.8049\n",
            "Epoch 50/100\n",
            "1/1 [==============================] - 0s 12ms/step - loss: 3.8783 - mae: 3.8783\n",
            "Epoch 51/100\n",
            "1/1 [==============================] - 0s 6ms/step - loss: 3.8200 - mae: 3.8200\n",
            "Epoch 52/100\n",
            "1/1 [==============================] - 0s 6ms/step - loss: 3.8569 - mae: 3.8569\n",
            "Epoch 53/100\n",
            "1/1 [==============================] - 0s 7ms/step - loss: 3.8275 - mae: 3.8275\n",
            "Epoch 54/100\n",
            "1/1 [==============================] - 0s 11ms/step - loss: 3.8308 - mae: 3.8308\n",
            "Epoch 55/100\n",
            "1/1 [==============================] - 0s 7ms/step - loss: 3.8353 - mae: 3.8353\n",
            "Epoch 56/100\n",
            "1/1 [==============================] - 0s 7ms/step - loss: 3.8046 - mae: 3.8046\n",
            "Epoch 57/100\n",
            "1/1 [==============================] - 0s 6ms/step - loss: 3.8431 - mae: 3.8431\n",
            "Epoch 58/100\n",
            "1/1 [==============================] - 0s 11ms/step - loss: 3.7782 - mae: 3.7782\n",
            "Epoch 59/100\n",
            "1/1 [==============================] - 0s 6ms/step - loss: 3.8572 - mae: 3.8572\n",
            "Epoch 60/100\n",
            "1/1 [==============================] - 0s 7ms/step - loss: 3.7930 - mae: 3.7930\n",
            "Epoch 61/100\n",
            "1/1 [==============================] - 0s 6ms/step - loss: 3.8310 - mae: 3.8310\n",
            "Epoch 62/100\n",
            "1/1 [==============================] - 0s 6ms/step - loss: 3.8008 - mae: 3.8008\n",
            "Epoch 63/100\n",
            "1/1 [==============================] - 0s 12ms/step - loss: 3.8045 - mae: 3.8045\n",
            "Epoch 64/100\n",
            "1/1 [==============================] - 0s 7ms/step - loss: 3.8087 - mae: 3.8087\n",
            "Epoch 65/100\n",
            "1/1 [==============================] - 0s 6ms/step - loss: 3.7780 - mae: 3.7780\n",
            "Epoch 66/100\n",
            "1/1 [==============================] - 0s 6ms/step - loss: 3.8168 - mae: 3.8168\n",
            "Epoch 67/100\n",
            "1/1 [==============================] - 0s 87ms/step - loss: 3.7558 - mae: 3.7558\n",
            "Epoch 68/100\n",
            "1/1 [==============================] - 0s 5ms/step - loss: 3.8302 - mae: 3.8302\n",
            "Epoch 69/100\n",
            "1/1 [==============================] - 0s 62ms/step - loss: 3.7672 - mae: 3.7672\n",
            "Epoch 70/100\n",
            "1/1 [==============================] - 0s 11ms/step - loss: 3.8036 - mae: 3.8036\n",
            "Epoch 71/100\n",
            "1/1 [==============================] - 0s 15ms/step - loss: 3.7752 - mae: 3.7752\n",
            "Epoch 72/100\n",
            "1/1 [==============================] - 0s 9ms/step - loss: 3.7769 - mae: 3.7769\n",
            "Epoch 73/100\n",
            "1/1 [==============================] - 0s 7ms/step - loss: 3.7833 - mae: 3.7833\n",
            "Epoch 74/100\n",
            "1/1 [==============================] - 0s 11ms/step - loss: 3.7501 - mae: 3.7501\n",
            "Epoch 75/100\n",
            "1/1 [==============================] - 0s 6ms/step - loss: 3.7925 - mae: 3.7925\n",
            "Epoch 76/100\n",
            "1/1 [==============================] - 0s 6ms/step - loss: 3.7343 - mae: 3.7343\n",
            "Epoch 77/100\n",
            "1/1 [==============================] - 0s 6ms/step - loss: 3.8019 - mae: 3.8019\n",
            "Epoch 78/100\n",
            "1/1 [==============================] - 0s 11ms/step - loss: 3.7424 - mae: 3.7424\n",
            "Epoch 79/100\n",
            "1/1 [==============================] - 0s 6ms/step - loss: 3.7750 - mae: 3.7750\n",
            "Epoch 80/100\n",
            "1/1 [==============================] - 0s 6ms/step - loss: 3.7506 - mae: 3.7506\n",
            "Epoch 81/100\n",
            "1/1 [==============================] - 0s 7ms/step - loss: 3.7480 - mae: 3.7480\n",
            "Epoch 82/100\n",
            "1/1 [==============================] - 0s 6ms/step - loss: 3.7589 - mae: 3.7589\n",
            "Epoch 83/100\n",
            "1/1 [==============================] - 0s 11ms/step - loss: 3.7209 - mae: 3.7209\n",
            "Epoch 84/100\n",
            "1/1 [==============================] - 0s 7ms/step - loss: 3.7726 - mae: 3.7726\n",
            "Epoch 85/100\n",
            "1/1 [==============================] - 0s 7ms/step - loss: 3.7103 - mae: 3.7103\n",
            "Epoch 86/100\n",
            "1/1 [==============================] - 0s 6ms/step - loss: 3.7723 - mae: 3.7723\n",
            "Epoch 87/100\n",
            "1/1 [==============================] - 0s 10ms/step - loss: 3.7186 - mae: 3.7186\n",
            "Epoch 88/100\n",
            "1/1 [==============================] - 0s 7ms/step - loss: 3.7450 - mae: 3.7450\n",
            "Epoch 89/100\n",
            "1/1 [==============================] - 0s 7ms/step - loss: 3.7270 - mae: 3.7270\n",
            "Epoch 90/100\n",
            "1/1 [==============================] - 0s 7ms/step - loss: 3.7178 - mae: 3.7178\n",
            "Epoch 91/100\n",
            "1/1 [==============================] - 0s 11ms/step - loss: 3.7355 - mae: 3.7355\n",
            "Epoch 92/100\n",
            "1/1 [==============================] - 0s 7ms/step - loss: 3.6929 - mae: 3.6929\n",
            "Epoch 93/100\n",
            "1/1 [==============================] - 0s 7ms/step - loss: 3.7515 - mae: 3.7515\n",
            "Epoch 94/100\n",
            "1/1 [==============================] - 0s 6ms/step - loss: 3.6873 - mae: 3.6873\n",
            "Epoch 95/100\n",
            "1/1 [==============================] - 0s 6ms/step - loss: 3.7413 - mae: 3.7413\n",
            "Epoch 96/100\n",
            "1/1 [==============================] - 0s 9ms/step - loss: 3.6958 - mae: 3.6958\n",
            "Epoch 97/100\n",
            "1/1 [==============================] - 0s 7ms/step - loss: 3.7138 - mae: 3.7138\n",
            "Epoch 98/100\n",
            "1/1 [==============================] - 0s 9ms/step - loss: 3.7044 - mae: 3.7044\n",
            "Epoch 99/100\n",
            "1/1 [==============================] - 0s 7ms/step - loss: 3.6862 - mae: 3.6862\n",
            "Epoch 100/100\n",
            "1/1 [==============================] - 0s 12ms/step - loss: 3.7131 - mae: 3.7131\n"
          ]
        },
        {
          "output_type": "execute_result",
          "data": {
            "text/plain": [
              "<keras.callbacks.History at 0x7fb883fdf850>"
            ]
          },
          "metadata": {},
          "execution_count": 23
        }
      ]
    },
    {
      "cell_type": "code",
      "source": [
        "# Check data"
      ],
      "metadata": {
        "id": "wgYo7v4bwiyO"
      },
      "execution_count": 24,
      "outputs": []
    },
    {
      "cell_type": "code",
      "source": [
        "X, y"
      ],
      "metadata": {
        "colab": {
          "base_uri": "https://localhost:8080/"
        },
        "id": "nJvmTSrvwo_z",
        "outputId": "90200db6-3b1b-4c2f-9c3d-89872e3eca12"
      },
      "execution_count": 25,
      "outputs": [
        {
          "output_type": "execute_result",
          "data": {
            "text/plain": [
              "(<tf.Tensor: shape=(8,), dtype=float32, numpy=array([-7., -4., -1.,  2.,  5.,  8., 11., 14.], dtype=float32)>,\n",
              " <tf.Tensor: shape=(8,), dtype=float32, numpy=array([ 3.,  6.,  9., 12., 15., 18., 21., 24.], dtype=float32)>)"
            ]
          },
          "metadata": {},
          "execution_count": 25
        }
      ]
    },
    {
      "cell_type": "code",
      "source": [
        "# Make a prediction\n",
        "\n",
        "argument = tf.constant([17.0])\n",
        "\n",
        "model.predict(argument)"
      ],
      "metadata": {
        "colab": {
          "base_uri": "https://localhost:8080/"
        },
        "id": "eHrGLCMhwtT6",
        "outputId": "c892184c-1668-4e4e-9f03-adff446a2a80"
      },
      "execution_count": 26,
      "outputs": [
        {
          "output_type": "stream",
          "name": "stdout",
          "text": [
            "1/1 [==============================] - 0s 51ms/step\n"
          ]
        },
        {
          "output_type": "execute_result",
          "data": {
            "text/plain": [
              "array([[31.85688]], dtype=float32)"
            ]
          },
          "metadata": {},
          "execution_count": 26
        }
      ]
    },
    {
      "cell_type": "code",
      "source": [
        "# New model\n",
        "# 1. Create a model\n",
        "model = tf.keras.Sequential([\n",
        "    tf.keras.layers.Dense(10, activation=\"relu\"),\n",
        "    tf.keras.layers.Dense(20, activation=\"relu\"),\n",
        "    tf.keras.layers.Dense(60, activation=\"relu\"),\n",
        "    tf.keras.layers.Dense(20, activation=\"relu\"),\n",
        "    tf.keras.layers.Dense(1)\n",
        "])\n",
        "# 2. Compile a model\n",
        "model.compile(loss=\"mae\",\n",
        "              optimizer=tf.keras.optimizers.Adam(lr=0.01),\n",
        "              metrics=[\"mae\"])\n",
        "\n",
        "# 3. Fit the model\n",
        "model.fit(tf.expand_dims(X, axis=-1), y, epochs=100)"
      ],
      "metadata": {
        "colab": {
          "base_uri": "https://localhost:8080/"
        },
        "id": "vq6t8iy6sgyA",
        "outputId": "baf78707-bedc-4bab-c480-0fc4493e002d"
      },
      "execution_count": 27,
      "outputs": [
        {
          "output_type": "stream",
          "name": "stdout",
          "text": [
            "Epoch 1/100\n"
          ]
        },
        {
          "output_type": "stream",
          "name": "stderr",
          "text": [
            "/usr/local/lib/python3.7/dist-packages/keras/optimizers/optimizer_v2/adam.py:110: UserWarning: The `lr` argument is deprecated, use `learning_rate` instead.\n",
            "  super(Adam, self).__init__(name, **kwargs)\n"
          ]
        },
        {
          "output_type": "stream",
          "name": "stdout",
          "text": [
            "1/1 [==============================] - 1s 535ms/step - loss: 13.4343 - mae: 13.4343\n",
            "Epoch 2/100\n",
            "1/1 [==============================] - 0s 9ms/step - loss: 12.5038 - mae: 12.5038\n",
            "Epoch 3/100\n",
            "1/1 [==============================] - 0s 11ms/step - loss: 11.8637 - mae: 11.8637\n",
            "Epoch 4/100\n",
            "1/1 [==============================] - 0s 14ms/step - loss: 11.3507 - mae: 11.3507\n",
            "Epoch 5/100\n",
            "1/1 [==============================] - 0s 10ms/step - loss: 10.7205 - mae: 10.7205\n",
            "Epoch 6/100\n",
            "1/1 [==============================] - 0s 11ms/step - loss: 9.9413 - mae: 9.9413\n",
            "Epoch 7/100\n",
            "1/1 [==============================] - 0s 14ms/step - loss: 8.9703 - mae: 8.9703\n",
            "Epoch 8/100\n",
            "1/1 [==============================] - 0s 12ms/step - loss: 7.7648 - mae: 7.7648\n",
            "Epoch 9/100\n",
            "1/1 [==============================] - 0s 9ms/step - loss: 6.4649 - mae: 6.4649\n",
            "Epoch 10/100\n",
            "1/1 [==============================] - 0s 8ms/step - loss: 4.7645 - mae: 4.7645\n",
            "Epoch 11/100\n",
            "1/1 [==============================] - 0s 11ms/step - loss: 4.2380 - mae: 4.2380\n",
            "Epoch 12/100\n",
            "1/1 [==============================] - 0s 12ms/step - loss: 5.0705 - mae: 5.0705\n",
            "Epoch 13/100\n",
            "1/1 [==============================] - 0s 9ms/step - loss: 5.3003 - mae: 5.3003\n",
            "Epoch 14/100\n",
            "1/1 [==============================] - 0s 7ms/step - loss: 5.0005 - mae: 5.0005\n",
            "Epoch 15/100\n",
            "1/1 [==============================] - 0s 8ms/step - loss: 4.5929 - mae: 4.5929\n",
            "Epoch 16/100\n",
            "1/1 [==============================] - 0s 8ms/step - loss: 3.9647 - mae: 3.9647\n",
            "Epoch 17/100\n",
            "1/1 [==============================] - 0s 7ms/step - loss: 3.3377 - mae: 3.3377\n",
            "Epoch 18/100\n",
            "1/1 [==============================] - 0s 9ms/step - loss: 3.1788 - mae: 3.1788\n",
            "Epoch 19/100\n",
            "1/1 [==============================] - 0s 8ms/step - loss: 3.5154 - mae: 3.5154\n",
            "Epoch 20/100\n",
            "1/1 [==============================] - 0s 10ms/step - loss: 3.6670 - mae: 3.6670\n",
            "Epoch 21/100\n",
            "1/1 [==============================] - 0s 9ms/step - loss: 3.2906 - mae: 3.2906\n",
            "Epoch 22/100\n",
            "1/1 [==============================] - 0s 9ms/step - loss: 3.0149 - mae: 3.0149\n",
            "Epoch 23/100\n",
            "1/1 [==============================] - 0s 9ms/step - loss: 2.9058 - mae: 2.9058\n",
            "Epoch 24/100\n",
            "1/1 [==============================] - 0s 9ms/step - loss: 2.9294 - mae: 2.9294\n",
            "Epoch 25/100\n",
            "1/1 [==============================] - 0s 10ms/step - loss: 2.9898 - mae: 2.9898\n",
            "Epoch 26/100\n",
            "1/1 [==============================] - 0s 11ms/step - loss: 2.8600 - mae: 2.8600\n",
            "Epoch 27/100\n",
            "1/1 [==============================] - 0s 12ms/step - loss: 2.6316 - mae: 2.6316\n",
            "Epoch 28/100\n",
            "1/1 [==============================] - 0s 15ms/step - loss: 2.4983 - mae: 2.4983\n",
            "Epoch 29/100\n",
            "1/1 [==============================] - 0s 13ms/step - loss: 2.3577 - mae: 2.3577\n",
            "Epoch 30/100\n",
            "1/1 [==============================] - 0s 12ms/step - loss: 2.3681 - mae: 2.3681\n",
            "Epoch 31/100\n",
            "1/1 [==============================] - 0s 14ms/step - loss: 2.3160 - mae: 2.3160\n",
            "Epoch 32/100\n",
            "1/1 [==============================] - 0s 9ms/step - loss: 2.1936 - mae: 2.1936\n",
            "Epoch 33/100\n",
            "1/1 [==============================] - 0s 10ms/step - loss: 1.9824 - mae: 1.9824\n",
            "Epoch 34/100\n",
            "1/1 [==============================] - 0s 19ms/step - loss: 1.9312 - mae: 1.9312\n",
            "Epoch 35/100\n",
            "1/1 [==============================] - 0s 8ms/step - loss: 1.9699 - mae: 1.9699\n",
            "Epoch 36/100\n",
            "1/1 [==============================] - 0s 7ms/step - loss: 1.9402 - mae: 1.9402\n",
            "Epoch 37/100\n",
            "1/1 [==============================] - 0s 7ms/step - loss: 1.6481 - mae: 1.6481\n",
            "Epoch 38/100\n",
            "1/1 [==============================] - 0s 13ms/step - loss: 1.4587 - mae: 1.4587\n",
            "Epoch 39/100\n",
            "1/1 [==============================] - 0s 7ms/step - loss: 1.4867 - mae: 1.4867\n",
            "Epoch 40/100\n",
            "1/1 [==============================] - 0s 8ms/step - loss: 1.6201 - mae: 1.6201\n",
            "Epoch 41/100\n",
            "1/1 [==============================] - 0s 8ms/step - loss: 1.2170 - mae: 1.2170\n",
            "Epoch 42/100\n",
            "1/1 [==============================] - 0s 13ms/step - loss: 0.9902 - mae: 0.9902\n",
            "Epoch 43/100\n",
            "1/1 [==============================] - 0s 9ms/step - loss: 1.0046 - mae: 1.0046\n",
            "Epoch 44/100\n",
            "1/1 [==============================] - 0s 8ms/step - loss: 0.9420 - mae: 0.9420\n",
            "Epoch 45/100\n",
            "1/1 [==============================] - 0s 12ms/step - loss: 0.6794 - mae: 0.6794\n",
            "Epoch 46/100\n",
            "1/1 [==============================] - 0s 8ms/step - loss: 0.4366 - mae: 0.4366\n",
            "Epoch 47/100\n",
            "1/1 [==============================] - 0s 8ms/step - loss: 0.6989 - mae: 0.6989\n",
            "Epoch 48/100\n",
            "1/1 [==============================] - 0s 8ms/step - loss: 0.5035 - mae: 0.5035\n",
            "Epoch 49/100\n",
            "1/1 [==============================] - 0s 13ms/step - loss: 0.6125 - mae: 0.6125\n",
            "Epoch 50/100\n",
            "1/1 [==============================] - 0s 7ms/step - loss: 0.7880 - mae: 0.7880\n",
            "Epoch 51/100\n",
            "1/1 [==============================] - 0s 7ms/step - loss: 0.2613 - mae: 0.2613\n",
            "Epoch 52/100\n",
            "1/1 [==============================] - 0s 7ms/step - loss: 0.6621 - mae: 0.6621\n",
            "Epoch 53/100\n",
            "1/1 [==============================] - 0s 8ms/step - loss: 0.6013 - mae: 0.6013\n",
            "Epoch 54/100\n",
            "1/1 [==============================] - 0s 8ms/step - loss: 0.2521 - mae: 0.2521\n",
            "Epoch 55/100\n",
            "1/1 [==============================] - 0s 8ms/step - loss: 0.3277 - mae: 0.3277\n",
            "Epoch 56/100\n",
            "1/1 [==============================] - 0s 8ms/step - loss: 0.4328 - mae: 0.4328\n",
            "Epoch 57/100\n",
            "1/1 [==============================] - 0s 9ms/step - loss: 0.3898 - mae: 0.3898\n",
            "Epoch 58/100\n",
            "1/1 [==============================] - 0s 8ms/step - loss: 0.3672 - mae: 0.3672\n",
            "Epoch 59/100\n",
            "1/1 [==============================] - 0s 9ms/step - loss: 0.2826 - mae: 0.2826\n",
            "Epoch 60/100\n",
            "1/1 [==============================] - 0s 8ms/step - loss: 0.3778 - mae: 0.3778\n",
            "Epoch 61/100\n",
            "1/1 [==============================] - 0s 8ms/step - loss: 0.3357 - mae: 0.3357\n",
            "Epoch 62/100\n",
            "1/1 [==============================] - 0s 8ms/step - loss: 0.2275 - mae: 0.2275\n",
            "Epoch 63/100\n",
            "1/1 [==============================] - 0s 14ms/step - loss: 0.2232 - mae: 0.2232\n",
            "Epoch 64/100\n",
            "1/1 [==============================] - 0s 8ms/step - loss: 0.2570 - mae: 0.2570\n",
            "Epoch 65/100\n",
            "1/1 [==============================] - 0s 8ms/step - loss: 0.1788 - mae: 0.1788\n",
            "Epoch 66/100\n",
            "1/1 [==============================] - 0s 8ms/step - loss: 0.1194 - mae: 0.1194\n",
            "Epoch 67/100\n",
            "1/1 [==============================] - 0s 8ms/step - loss: 0.1962 - mae: 0.1962\n",
            "Epoch 68/100\n",
            "1/1 [==============================] - 0s 8ms/step - loss: 0.2541 - mae: 0.2541\n",
            "Epoch 69/100\n",
            "1/1 [==============================] - 0s 8ms/step - loss: 0.1431 - mae: 0.1431\n",
            "Epoch 70/100\n",
            "1/1 [==============================] - 0s 8ms/step - loss: 0.2027 - mae: 0.2027\n",
            "Epoch 71/100\n",
            "1/1 [==============================] - 0s 8ms/step - loss: 0.1653 - mae: 0.1653\n",
            "Epoch 72/100\n",
            "1/1 [==============================] - 0s 15ms/step - loss: 0.1326 - mae: 0.1326\n",
            "Epoch 73/100\n",
            "1/1 [==============================] - 0s 8ms/step - loss: 0.1722 - mae: 0.1722\n",
            "Epoch 74/100\n",
            "1/1 [==============================] - 0s 8ms/step - loss: 0.1086 - mae: 0.1086\n",
            "Epoch 75/100\n",
            "1/1 [==============================] - 0s 8ms/step - loss: 0.3383 - mae: 0.3383\n",
            "Epoch 76/100\n",
            "1/1 [==============================] - 0s 8ms/step - loss: 0.1716 - mae: 0.1716\n",
            "Epoch 77/100\n",
            "1/1 [==============================] - 0s 9ms/step - loss: 0.5198 - mae: 0.5198\n",
            "Epoch 78/100\n",
            "1/1 [==============================] - 0s 9ms/step - loss: 0.5390 - mae: 0.5390\n",
            "Epoch 79/100\n",
            "1/1 [==============================] - 0s 9ms/step - loss: 0.2764 - mae: 0.2764\n",
            "Epoch 80/100\n",
            "1/1 [==============================] - 0s 9ms/step - loss: 0.7115 - mae: 0.7115\n",
            "Epoch 81/100\n",
            "1/1 [==============================] - 0s 9ms/step - loss: 0.8375 - mae: 0.8375\n",
            "Epoch 82/100\n",
            "1/1 [==============================] - 0s 9ms/step - loss: 0.4120 - mae: 0.4120\n",
            "Epoch 83/100\n",
            "1/1 [==============================] - 0s 8ms/step - loss: 0.4455 - mae: 0.4455\n",
            "Epoch 84/100\n",
            "1/1 [==============================] - 0s 15ms/step - loss: 0.7292 - mae: 0.7292\n",
            "Epoch 85/100\n",
            "1/1 [==============================] - 0s 8ms/step - loss: 0.5447 - mae: 0.5447\n",
            "Epoch 86/100\n",
            "1/1 [==============================] - 0s 10ms/step - loss: 0.1720 - mae: 0.1720\n",
            "Epoch 87/100\n",
            "1/1 [==============================] - 0s 8ms/step - loss: 0.3203 - mae: 0.3203\n",
            "Epoch 88/100\n",
            "1/1 [==============================] - 0s 8ms/step - loss: 0.1252 - mae: 0.1252\n",
            "Epoch 89/100\n",
            "1/1 [==============================] - 0s 8ms/step - loss: 0.5722 - mae: 0.5722\n",
            "Epoch 90/100\n",
            "1/1 [==============================] - 0s 8ms/step - loss: 0.7465 - mae: 0.7465\n",
            "Epoch 91/100\n",
            "1/1 [==============================] - 0s 8ms/step - loss: 0.5665 - mae: 0.5665\n",
            "Epoch 92/100\n",
            "1/1 [==============================] - 0s 8ms/step - loss: 0.0816 - mae: 0.0816\n",
            "Epoch 93/100\n",
            "1/1 [==============================] - 0s 9ms/step - loss: 0.8012 - mae: 0.8012\n",
            "Epoch 94/100\n",
            "1/1 [==============================] - 0s 9ms/step - loss: 1.1529 - mae: 1.1529\n",
            "Epoch 95/100\n",
            "1/1 [==============================] - 0s 9ms/step - loss: 1.0728 - mae: 1.0728\n",
            "Epoch 96/100\n",
            "1/1 [==============================] - 0s 8ms/step - loss: 0.6005 - mae: 0.6005\n",
            "Epoch 97/100\n",
            "1/1 [==============================] - 0s 8ms/step - loss: 0.2366 - mae: 0.2366\n",
            "Epoch 98/100\n",
            "1/1 [==============================] - 0s 9ms/step - loss: 0.5097 - mae: 0.5097\n",
            "Epoch 99/100\n",
            "1/1 [==============================] - 0s 8ms/step - loss: 0.4942 - mae: 0.4942\n",
            "Epoch 100/100\n",
            "1/1 [==============================] - 0s 8ms/step - loss: 0.1738 - mae: 0.1738\n"
          ]
        },
        {
          "output_type": "execute_result",
          "data": {
            "text/plain": [
              "<keras.callbacks.History at 0x7fb883e85990>"
            ]
          },
          "metadata": {},
          "execution_count": 27
        }
      ]
    },
    {
      "cell_type": "code",
      "source": [
        "arg = tf.constant([1.0])\n",
        "model.predict(arg)"
      ],
      "metadata": {
        "colab": {
          "base_uri": "https://localhost:8080/"
        },
        "id": "e3UkooIxxpm4",
        "outputId": "eb9b9173-230a-4149-f14a-d81b95a37981"
      },
      "execution_count": 28,
      "outputs": [
        {
          "output_type": "stream",
          "name": "stdout",
          "text": [
            "1/1 [==============================] - 0s 62ms/step\n"
          ]
        },
        {
          "output_type": "execute_result",
          "data": {
            "text/plain": [
              "array([[11.306608]], dtype=float32)"
            ]
          },
          "metadata": {},
          "execution_count": 28
        }
      ]
    },
    {
      "cell_type": "code",
      "source": [
        "# Optimal model\n",
        "# 1. Create a model\n",
        "model = tf.keras.Sequential([\n",
        "    tf.keras.layers.Dense(100, activation=None),\n",
        "    tf.keras.layers.Dense(1)\n",
        "])\n",
        "\n",
        "# 2. Compile the model\n",
        "model.compile(loss=\"mae\",\n",
        "              optimizer=tf.keras.optimizers.Adam(lr=0.01),\n",
        "              metrics=[\"mae\"])\n",
        "\n",
        "# 3. Fit the model\n",
        "model.fit(tf.expand_dims(X, axis=-1), y, epochs=100)"
      ],
      "metadata": {
        "colab": {
          "base_uri": "https://localhost:8080/"
        },
        "id": "00elKo4wxtfG",
        "outputId": "0aab18ac-1bf3-4441-8fb8-7328c9ea8614"
      },
      "execution_count": 29,
      "outputs": [
        {
          "output_type": "stream",
          "name": "stdout",
          "text": [
            "Epoch 1/100\n",
            "1/1 [==============================] - 0s 397ms/step - loss: 13.4281 - mae: 13.4281\n",
            "Epoch 2/100\n",
            "1/1 [==============================] - 0s 8ms/step - loss: 12.4047 - mae: 12.4047\n",
            "Epoch 3/100\n",
            "1/1 [==============================] - 0s 10ms/step - loss: 11.3876 - mae: 11.3876\n",
            "Epoch 4/100\n",
            "1/1 [==============================] - 0s 13ms/step - loss: 10.3730 - mae: 10.3730\n",
            "Epoch 5/100\n",
            "1/1 [==============================] - 0s 8ms/step - loss: 9.3564 - mae: 9.3564\n",
            "Epoch 6/100\n",
            "1/1 [==============================] - 0s 9ms/step - loss: 8.3310 - mae: 8.3310\n",
            "Epoch 7/100\n",
            "1/1 [==============================] - 0s 12ms/step - loss: 7.2892 - mae: 7.2892\n",
            "Epoch 8/100\n",
            "1/1 [==============================] - 0s 10ms/step - loss: 6.7866 - mae: 6.7866\n",
            "Epoch 9/100\n",
            "1/1 [==============================] - 0s 9ms/step - loss: 7.3197 - mae: 7.3197\n",
            "Epoch 10/100\n",
            "1/1 [==============================] - 0s 10ms/step - loss: 7.8987 - mae: 7.8987\n",
            "Epoch 11/100\n",
            "1/1 [==============================] - 0s 8ms/step - loss: 8.1328 - mae: 8.1328\n",
            "Epoch 12/100\n",
            "1/1 [==============================] - 0s 8ms/step - loss: 8.0385 - mae: 8.0385\n",
            "Epoch 13/100\n",
            "1/1 [==============================] - 0s 10ms/step - loss: 7.7127 - mae: 7.7127\n",
            "Epoch 14/100\n",
            "1/1 [==============================] - 0s 12ms/step - loss: 7.2218 - mae: 7.2218\n",
            "Epoch 15/100\n",
            "1/1 [==============================] - 0s 8ms/step - loss: 6.7728 - mae: 6.7728\n",
            "Epoch 16/100\n",
            "1/1 [==============================] - 0s 8ms/step - loss: 6.3839 - mae: 6.3839\n",
            "Epoch 17/100\n",
            "1/1 [==============================] - 0s 14ms/step - loss: 6.1273 - mae: 6.1273\n",
            "Epoch 18/100\n",
            "1/1 [==============================] - 0s 9ms/step - loss: 6.0933 - mae: 6.0933\n",
            "Epoch 19/100\n",
            "1/1 [==============================] - 0s 13ms/step - loss: 6.2565 - mae: 6.2565\n",
            "Epoch 20/100\n",
            "1/1 [==============================] - 0s 8ms/step - loss: 6.2709 - mae: 6.2709\n",
            "Epoch 21/100\n",
            "1/1 [==============================] - 0s 9ms/step - loss: 6.1584 - mae: 6.1584\n",
            "Epoch 22/100\n",
            "1/1 [==============================] - 0s 9ms/step - loss: 5.9346 - mae: 5.9346\n",
            "Epoch 23/100\n",
            "1/1 [==============================] - 0s 8ms/step - loss: 5.6108 - mae: 5.6108\n",
            "Epoch 24/100\n",
            "1/1 [==============================] - 0s 16ms/step - loss: 5.4486 - mae: 5.4486\n",
            "Epoch 25/100\n",
            "1/1 [==============================] - 0s 10ms/step - loss: 5.3345 - mae: 5.3345\n",
            "Epoch 26/100\n",
            "1/1 [==============================] - 0s 9ms/step - loss: 5.3478 - mae: 5.3478\n",
            "Epoch 27/100\n",
            "1/1 [==============================] - 0s 15ms/step - loss: 5.3036 - mae: 5.3036\n",
            "Epoch 28/100\n",
            "1/1 [==============================] - 0s 10ms/step - loss: 5.2060 - mae: 5.2060\n",
            "Epoch 29/100\n",
            "1/1 [==============================] - 0s 11ms/step - loss: 5.0590 - mae: 5.0590\n",
            "Epoch 30/100\n",
            "1/1 [==============================] - 0s 13ms/step - loss: 4.8663 - mae: 4.8663\n",
            "Epoch 31/100\n",
            "1/1 [==============================] - 0s 9ms/step - loss: 4.6315 - mae: 4.6315\n",
            "Epoch 32/100\n",
            "1/1 [==============================] - 0s 8ms/step - loss: 4.4139 - mae: 4.4139\n",
            "Epoch 33/100\n",
            "1/1 [==============================] - 0s 9ms/step - loss: 4.2837 - mae: 4.2837\n",
            "Epoch 34/100\n",
            "1/1 [==============================] - 0s 11ms/step - loss: 4.1413 - mae: 4.1413\n",
            "Epoch 35/100\n",
            "1/1 [==============================] - 0s 7ms/step - loss: 3.9896 - mae: 3.9896\n",
            "Epoch 36/100\n",
            "1/1 [==============================] - 0s 7ms/step - loss: 3.7774 - mae: 3.7774\n",
            "Epoch 37/100\n",
            "1/1 [==============================] - 0s 11ms/step - loss: 3.5706 - mae: 3.5706\n",
            "Epoch 38/100\n",
            "1/1 [==============================] - 0s 9ms/step - loss: 3.3668 - mae: 3.3668\n",
            "Epoch 39/100\n",
            "1/1 [==============================] - 0s 8ms/step - loss: 3.1896 - mae: 3.1896\n",
            "Epoch 40/100\n",
            "1/1 [==============================] - 0s 10ms/step - loss: 2.9446 - mae: 2.9446\n",
            "Epoch 41/100\n",
            "1/1 [==============================] - 0s 10ms/step - loss: 2.6968 - mae: 2.6968\n",
            "Epoch 42/100\n",
            "1/1 [==============================] - 0s 7ms/step - loss: 2.4606 - mae: 2.4606\n",
            "Epoch 43/100\n",
            "1/1 [==============================] - 0s 7ms/step - loss: 2.2483 - mae: 2.2483\n",
            "Epoch 44/100\n",
            "1/1 [==============================] - 0s 8ms/step - loss: 1.9169 - mae: 1.9169\n",
            "Epoch 45/100\n",
            "1/1 [==============================] - 0s 9ms/step - loss: 1.6096 - mae: 1.6096\n",
            "Epoch 46/100\n",
            "1/1 [==============================] - 0s 9ms/step - loss: 1.3730 - mae: 1.3730\n",
            "Epoch 47/100\n",
            "1/1 [==============================] - 0s 12ms/step - loss: 1.0522 - mae: 1.0522\n",
            "Epoch 48/100\n",
            "1/1 [==============================] - 0s 9ms/step - loss: 0.6350 - mae: 0.6350\n",
            "Epoch 49/100\n",
            "1/1 [==============================] - 0s 7ms/step - loss: 0.4696 - mae: 0.4696\n",
            "Epoch 50/100\n",
            "1/1 [==============================] - 0s 10ms/step - loss: 0.4151 - mae: 0.4151\n",
            "Epoch 51/100\n",
            "1/1 [==============================] - 0s 10ms/step - loss: 0.5584 - mae: 0.5584\n",
            "Epoch 52/100\n",
            "1/1 [==============================] - 0s 8ms/step - loss: 0.8860 - mae: 0.8860\n",
            "Epoch 53/100\n",
            "1/1 [==============================] - 0s 9ms/step - loss: 0.8966 - mae: 0.8966\n",
            "Epoch 54/100\n",
            "1/1 [==============================] - 0s 8ms/step - loss: 1.0907 - mae: 1.0907\n",
            "Epoch 55/100\n",
            "1/1 [==============================] - 0s 10ms/step - loss: 1.1925 - mae: 1.1925\n",
            "Epoch 56/100\n",
            "1/1 [==============================] - 0s 10ms/step - loss: 1.0161 - mae: 1.0161\n",
            "Epoch 57/100\n",
            "1/1 [==============================] - 0s 7ms/step - loss: 0.9639 - mae: 0.9639\n",
            "Epoch 58/100\n",
            "1/1 [==============================] - 0s 10ms/step - loss: 0.8928 - mae: 0.8928\n",
            "Epoch 59/100\n",
            "1/1 [==============================] - 0s 7ms/step - loss: 0.6322 - mae: 0.6322\n",
            "Epoch 60/100\n",
            "1/1 [==============================] - 0s 10ms/step - loss: 0.6118 - mae: 0.6118\n",
            "Epoch 61/100\n",
            "1/1 [==============================] - 0s 7ms/step - loss: 0.3966 - mae: 0.3966\n",
            "Epoch 62/100\n",
            "1/1 [==============================] - 0s 7ms/step - loss: 0.2060 - mae: 0.2060\n",
            "Epoch 63/100\n",
            "1/1 [==============================] - 0s 9ms/step - loss: 0.2883 - mae: 0.2883\n",
            "Epoch 64/100\n",
            "1/1 [==============================] - 0s 8ms/step - loss: 0.3687 - mae: 0.3687\n",
            "Epoch 65/100\n",
            "1/1 [==============================] - 0s 8ms/step - loss: 0.4945 - mae: 0.4945\n",
            "Epoch 66/100\n",
            "1/1 [==============================] - 0s 10ms/step - loss: 0.4261 - mae: 0.4261\n",
            "Epoch 67/100\n",
            "1/1 [==============================] - 0s 7ms/step - loss: 0.5130 - mae: 0.5130\n",
            "Epoch 68/100\n",
            "1/1 [==============================] - 0s 8ms/step - loss: 0.4378 - mae: 0.4378\n",
            "Epoch 69/100\n",
            "1/1 [==============================] - 0s 9ms/step - loss: 0.4199 - mae: 0.4199\n",
            "Epoch 70/100\n",
            "1/1 [==============================] - 0s 11ms/step - loss: 0.3531 - mae: 0.3531\n",
            "Epoch 71/100\n",
            "1/1 [==============================] - 0s 8ms/step - loss: 0.1048 - mae: 0.1048\n",
            "Epoch 72/100\n",
            "1/1 [==============================] - 0s 7ms/step - loss: 0.0960 - mae: 0.0960\n",
            "Epoch 73/100\n",
            "1/1 [==============================] - 0s 9ms/step - loss: 0.2203 - mae: 0.2203\n",
            "Epoch 74/100\n",
            "1/1 [==============================] - 0s 7ms/step - loss: 0.2256 - mae: 0.2256\n",
            "Epoch 75/100\n",
            "1/1 [==============================] - 0s 7ms/step - loss: 0.2417 - mae: 0.2417\n",
            "Epoch 76/100\n",
            "1/1 [==============================] - 0s 8ms/step - loss: 0.1985 - mae: 0.1985\n",
            "Epoch 77/100\n",
            "1/1 [==============================] - 0s 13ms/step - loss: 0.2252 - mae: 0.2252\n",
            "Epoch 78/100\n",
            "1/1 [==============================] - 0s 7ms/step - loss: 0.0663 - mae: 0.0663\n",
            "Epoch 79/100\n",
            "1/1 [==============================] - 0s 7ms/step - loss: 0.2903 - mae: 0.2903\n",
            "Epoch 80/100\n",
            "1/1 [==============================] - 0s 11ms/step - loss: 0.3459 - mae: 0.3459\n",
            "Epoch 81/100\n",
            "1/1 [==============================] - 0s 7ms/step - loss: 0.2385 - mae: 0.2385\n",
            "Epoch 82/100\n",
            "1/1 [==============================] - 0s 7ms/step - loss: 0.3000 - mae: 0.3000\n",
            "Epoch 83/100\n",
            "1/1 [==============================] - 0s 7ms/step - loss: 0.2206 - mae: 0.2206\n",
            "Epoch 84/100\n",
            "1/1 [==============================] - 0s 9ms/step - loss: 0.2218 - mae: 0.2218\n",
            "Epoch 85/100\n",
            "1/1 [==============================] - 0s 8ms/step - loss: 0.0810 - mae: 0.0810\n",
            "Epoch 86/100\n",
            "1/1 [==============================] - 0s 8ms/step - loss: 0.1034 - mae: 0.1034\n",
            "Epoch 87/100\n",
            "1/1 [==============================] - 0s 13ms/step - loss: 0.2407 - mae: 0.2407\n",
            "Epoch 88/100\n",
            "1/1 [==============================] - 0s 9ms/step - loss: 0.2499 - mae: 0.2499\n",
            "Epoch 89/100\n",
            "1/1 [==============================] - 0s 7ms/step - loss: 0.2470 - mae: 0.2470\n",
            "Epoch 90/100\n",
            "1/1 [==============================] - 0s 7ms/step - loss: 0.1595 - mae: 0.1595\n",
            "Epoch 91/100\n",
            "1/1 [==============================] - 0s 10ms/step - loss: 0.2565 - mae: 0.2565\n",
            "Epoch 92/100\n",
            "1/1 [==============================] - 0s 8ms/step - loss: 0.2263 - mae: 0.2263\n",
            "Epoch 93/100\n",
            "1/1 [==============================] - 0s 9ms/step - loss: 0.1738 - mae: 0.1738\n",
            "Epoch 94/100\n",
            "1/1 [==============================] - 0s 8ms/step - loss: 0.2222 - mae: 0.2222\n",
            "Epoch 95/100\n",
            "1/1 [==============================] - 0s 8ms/step - loss: 0.0858 - mae: 0.0858\n",
            "Epoch 96/100\n",
            "1/1 [==============================] - 0s 8ms/step - loss: 0.2245 - mae: 0.2245\n",
            "Epoch 97/100\n",
            "1/1 [==============================] - 0s 8ms/step - loss: 0.0510 - mae: 0.0510\n",
            "Epoch 98/100\n",
            "1/1 [==============================] - 0s 8ms/step - loss: 0.4231 - mae: 0.4231\n",
            "Epoch 99/100\n",
            "1/1 [==============================] - 0s 8ms/step - loss: 0.4861 - mae: 0.4861\n",
            "Epoch 100/100\n",
            "1/1 [==============================] - 0s 8ms/step - loss: 0.1947 - mae: 0.1947\n"
          ]
        },
        {
          "output_type": "execute_result",
          "data": {
            "text/plain": [
              "<keras.callbacks.History at 0x7fb883d5e210>"
            ]
          },
          "metadata": {},
          "execution_count": 29
        }
      ]
    },
    {
      "cell_type": "code",
      "source": [
        "arg = tf.constant([17.0])\n",
        "model.predict(arg)"
      ],
      "metadata": {
        "colab": {
          "base_uri": "https://localhost:8080/"
        },
        "id": "LJQ3OgtzJ6bx",
        "outputId": "1ea6b9d8-b880-496b-f3d9-aa680d5533c3"
      },
      "execution_count": 30,
      "outputs": [
        {
          "output_type": "stream",
          "name": "stderr",
          "text": [
            "WARNING:tensorflow:5 out of the last 6 calls to <function Model.make_predict_function.<locals>.predict_function at 0x7fb883cd13b0> triggered tf.function retracing. Tracing is expensive and the excessive number of tracings could be due to (1) creating @tf.function repeatedly in a loop, (2) passing tensors with different shapes, (3) passing Python objects instead of tensors. For (1), please define your @tf.function outside of the loop. For (2), @tf.function has reduce_retracing=True option that can avoid unnecessary retracing. For (3), please refer to https://www.tensorflow.org/guide/function#controlling_retracing and https://www.tensorflow.org/api_docs/python/tf/function for  more details.\n"
          ]
        },
        {
          "output_type": "stream",
          "name": "stdout",
          "text": [
            "1/1 [==============================] - 0s 47ms/step\n"
          ]
        },
        {
          "output_type": "execute_result",
          "data": {
            "text/plain": [
              "array([[28.117695]], dtype=float32)"
            ]
          },
          "metadata": {},
          "execution_count": 30
        }
      ]
    },
    {
      "cell_type": "markdown",
      "source": [
        "## Evalutaing a model\n",
        "\n",
        "```\n",
        "Build a model -> fit -> evaluate -> tweak -> fit -> evaluate -> tweak -> fit -> evaluate ...\n",
        "```"
      ],
      "metadata": {
        "id": "yoT_OFfJKlt5"
      }
    },
    {
      "cell_type": "markdown",
      "source": [
        "Evaluation:\n",
        "> Visualization\n",
        "\n",
        "It's a good idea to visualize:\n",
        "* The data - what data are we working with? What does it look like?\n",
        "* The model itself - what does our model look like?\n",
        "* The training of a model - how does a model perform while it learnms?\n",
        "* The predictions of the model - how do the predictions of a model line up against the ground truth"
      ],
      "metadata": {
        "id": "SA85A7njLJ2j"
      }
    },
    {
      "cell_type": "code",
      "source": [
        "# Make a bigger dataset\n",
        "X = tf.range(-100, 100, 4)\n",
        "X"
      ],
      "metadata": {
        "id": "DN-0mnmr5LpK",
        "outputId": "65e86bc1-1d1e-423c-d014-b2f83c5252ab",
        "colab": {
          "base_uri": "https://localhost:8080/"
        }
      },
      "execution_count": 31,
      "outputs": [
        {
          "output_type": "execute_result",
          "data": {
            "text/plain": [
              "<tf.Tensor: shape=(50,), dtype=int32, numpy=\n",
              "array([-100,  -96,  -92,  -88,  -84,  -80,  -76,  -72,  -68,  -64,  -60,\n",
              "        -56,  -52,  -48,  -44,  -40,  -36,  -32,  -28,  -24,  -20,  -16,\n",
              "        -12,   -8,   -4,    0,    4,    8,   12,   16,   20,   24,   28,\n",
              "         32,   36,   40,   44,   48,   52,   56,   60,   64,   68,   72,\n",
              "         76,   80,   84,   88,   92,   96], dtype=int32)>"
            ]
          },
          "metadata": {},
          "execution_count": 31
        }
      ]
    },
    {
      "cell_type": "code",
      "source": [
        "# Make labels for the dataset\n",
        "y = X + 10"
      ],
      "metadata": {
        "id": "8mxQy8EX6AZd"
      },
      "execution_count": 32,
      "outputs": []
    },
    {
      "cell_type": "code",
      "source": [
        "# Visualize the data\n",
        "import matplotlib.pyplot as plt\n",
        "\n",
        "plt.scatter(X, y)"
      ],
      "metadata": {
        "id": "456vSq6V6CX0",
        "outputId": "b6367cf4-4ce5-4820-f476-5bf507c5867f",
        "colab": {
          "base_uri": "https://localhost:8080/",
          "height": 0
        }
      },
      "execution_count": 33,
      "outputs": [
        {
          "output_type": "execute_result",
          "data": {
            "text/plain": [
              "<matplotlib.collections.PathCollection at 0x7fb883cb4690>"
            ]
          },
          "metadata": {},
          "execution_count": 33
        },
        {
          "output_type": "display_data",
          "data": {
            "text/plain": [
              "<Figure size 432x288 with 1 Axes>"
            ],
            "image/png": "[encoded data removed]"
          },
          "metadata": {
            "needs_background": "light"
          }
        }
      ]
    },
    {
      "cell_type": "markdown",
      "source": [
        "## The 3 sets:\n",
        "**Training set** - model learns from this data, typically 70-80% of the available data\n",
        "\n",
        "**Validation set** - model gets tuned/tweaked on this dataset, this is typically 10-15% of the data available\n",
        "\n",
        "**Test set** - the model gets evaluated on this data to test what it has learned, typically 10-15% of available data\n"
      ],
      "metadata": {
        "id": "Iu7p3Z3D6Myc"
      }
    },
    {
      "cell_type": "code",
      "source": [
        "# Split the data into train and test sets\n",
        "X_train = X[:40] # first 40 training samples (80% of the data)\n",
        "y_train = y[:40]\n",
        "\n",
        "X_test = X[40:] # last 10 are testing samples (20% of the data)\n",
        "y_test = y[40:]\n",
        "\n",
        "len(X_train), len(X_test), len(y_train), len(y_test)"
      ],
      "metadata": {
        "id": "b_U4pEsS6rgk",
        "outputId": "02b0a469-52c1-49ab-8f7b-dec6c4c1b2aa",
        "colab": {
          "base_uri": "https://localhost:8080/"
        }
      },
      "execution_count": 34,
      "outputs": [
        {
          "output_type": "execute_result",
          "data": {
            "text/plain": [
              "(40, 10, 40, 10)"
            ]
          },
          "metadata": {},
          "execution_count": 34
        }
      ]
    },
    {
      "cell_type": "code",
      "source": [
        "# Visualizing the data\n",
        "\n",
        "plt.figure(figsize=(10, 7))\n",
        "\n",
        "# Plot training data in blue\n",
        "plt.scatter(X_train, y_train, c='b', label='Training data')\n",
        "# Plot test data in green\n",
        "plt.scatter(X_test, y_test, c='g', label='Test data')\n",
        "# Show a legent\n",
        "plt.legend();"
      ],
      "metadata": {
        "id": "_MzA29Sh8QbQ",
        "outputId": "af8fdd64-0593-468b-893c-ef99eccd7b9d",
        "colab": {
          "base_uri": "https://localhost:8080/",
          "height": 428
        }
      },
      "execution_count": 35,
      "outputs": [
        {
          "output_type": "display_data",
          "data": {
            "text/plain": [
              "<Figure size 720x504 with 1 Axes>"
            ],
            "image/png": "[encoded data removed]"
          },
          "metadata": {
            "needs_background": "light"
          }
        }
      ]
    },
    {
      "cell_type": "code",
      "source": [
        "from numpy.core.fromnumeric import shape\n",
        "# 1. Create a model (define input shape)\n",
        "model = tf.keras.Sequential([\n",
        "    tf.keras.layers.Dense(1)\n",
        "])\n",
        "\n",
        "# 2. Compile a model\n",
        "model.compile(loss=tf.keras.losses.mae,\n",
        "              optimizer=tf.keras.optimizers.SGD(),\n",
        "              metrics=[\"mae\"])\n",
        "\n",
        "\n",
        "# 3. Fit the model\n",
        "# model.fit(tf.expand_dims(X_train, axis=-1), y, epochs=100)"
      ],
      "metadata": {
        "id": "_JtIZ_an8gxw"
      },
      "execution_count": 36,
      "outputs": []
    },
    {
      "cell_type": "markdown",
      "source": [
        "## Visualizing the model"
      ],
      "metadata": {
        "id": "rXaHjly3-hXE"
      }
    },
    {
      "cell_type": "code",
      "source": [
        "# model.summary() - generates an error right now"
      ],
      "metadata": {
        "id": "VGTJA0Wd-j62"
      },
      "execution_count": 37,
      "outputs": []
    },
    {
      "cell_type": "code",
      "source": [
        "# Let's create a model which builds automatically\n",
        "tf.random.set_seed(42)\n",
        "\n",
        "# 1. Create a model - input_shape is [1] - one number to predict one number (scalars)\n",
        "model = tf.keras.Sequential([\n",
        "    tf.keras.layers.Dense(10, input_shape=[1], name=\"input_layer\"),\n",
        "    tf.keras.layers.Dense(1, name=\"output_layer\")\n",
        "], name=\"model_1\")\n",
        "\n",
        "# 2. Compile a model\n",
        "model.compile(loss=tf.keras.losses.mae,\n",
        "              optimizer=tf.keras.optimizers.SGD(),\n",
        "              metrics=[\"mae\"])"
      ],
      "metadata": {
        "id": "UjxS2E19-ksr"
      },
      "execution_count": 38,
      "outputs": []
    },
    {
      "cell_type": "markdown",
      "source": [
        "* Total params - total number of parameters in the model\n",
        "* Trainable parameters - these are the parameters (patterns) the model can update as it trains\n",
        "* Non-trainable params - these parameters aren't updated during training (this is typical when you pring in already learn patters from other models during **transfer learning**)"
      ],
      "metadata": {
        "id": "NYMyd9ic_euy"
      }
    },
    {
      "cell_type": "code",
      "source": [
        "model.fit(X_train, y_train, epochs=100, verbose=0)"
      ],
      "metadata": {
        "id": "Xtn1595mKyg7",
        "outputId": "1d578ff3-adad-475e-c3b3-9af7880976dd",
        "colab": {
          "base_uri": "https://localhost:8080/"
        }
      },
      "execution_count": 39,
      "outputs": [
        {
          "output_type": "execute_result",
          "data": {
            "text/plain": [
              "<keras.callbacks.History at 0x7fb883567d90>"
            ]
          },
          "metadata": {},
          "execution_count": 39
        }
      ]
    },
    {
      "cell_type": "code",
      "source": [
        "arg = tf.constant([17])\n",
        "\n",
        "model.predict(arg)"
      ],
      "metadata": {
        "id": "an57yzdRQpmc",
        "outputId": "fe79dcb6-4201-42f8-fd0d-7dab8caa9752",
        "colab": {
          "base_uri": "https://localhost:8080/"
        }
      },
      "execution_count": 40,
      "outputs": [
        {
          "output_type": "stream",
          "name": "stderr",
          "text": [
            "WARNING:tensorflow:6 out of the last 7 calls to <function Model.make_predict_function.<locals>.predict_function at 0x7fb883c56b00> triggered tf.function retracing. Tracing is expensive and the excessive number of tracings could be due to (1) creating @tf.function repeatedly in a loop, (2) passing tensors with different shapes, (3) passing Python objects instead of tensors. For (1), please define your @tf.function outside of the loop. For (2), @tf.function has reduce_retracing=True option that can avoid unnecessary retracing. For (3), please refer to https://www.tensorflow.org/guide/function#controlling_retracing and https://www.tensorflow.org/api_docs/python/tf/function for  more details.\n"
          ]
        },
        {
          "output_type": "stream",
          "name": "stdout",
          "text": [
            "1/1 [==============================] - 0s 49ms/step\n"
          ]
        },
        {
          "output_type": "execute_result",
          "data": {
            "text/plain": [
              "array([[21.23416]], dtype=float32)"
            ]
          },
          "metadata": {},
          "execution_count": 40
        }
      ]
    },
    {
      "cell_type": "code",
      "source": [
        "# Get a summary\n",
        "model.summary()"
      ],
      "metadata": {
        "id": "1em9k1WXRQoy",
        "outputId": "cfecfd2b-ae03-4e85-ee4b-905feeb7c777",
        "colab": {
          "base_uri": "https://localhost:8080/"
        }
      },
      "execution_count": 41,
      "outputs": [
        {
          "output_type": "stream",
          "name": "stdout",
          "text": [
            "Model: \"model_1\"\n",
            "_________________________________________________________________\n",
            " Layer (type)                Output Shape              Param #   \n",
            "=================================================================\n",
            " input_layer (Dense)         (None, 10)                20        \n",
            "                                                                 \n",
            " output_layer (Dense)        (None, 1)                 11        \n",
            "                                                                 \n",
            "=================================================================\n",
            "Total params: 31\n",
            "Trainable params: 31\n",
            "Non-trainable params: 0\n",
            "_________________________________________________________________\n"
          ]
        }
      ]
    },
    {
      "cell_type": "code",
      "source": [
        "from tensorflow.keras.utils import plot_model\n",
        "\n",
        "plot_model(model=model, show_shapes=True)"
      ],
      "metadata": {
        "id": "tGhgISr5YPPs",
        "outputId": "93746af4-8b6b-4af6-cbb2-41300b9e1564",
        "colab": {
          "base_uri": "https://localhost:8080/",
          "height": 312
        }
      },
      "execution_count": 42,
      "outputs": [
        {
          "output_type": "execute_result",
          "data": {
            "image/png": "[encoded data removed]",
            "text/plain": [
              "<IPython.core.display.Image object>"
            ]
          },
          "metadata": {},
          "execution_count": 42
        }
      ]
    },
    {
      "cell_type": "markdown",
      "source": [
        "## Visualizing model predictions\n",
        "\n",
        "Plot predictions against the ground truth labels.\n",
        "\n",
        "Often seen in form `y_test`, `y_true` or `y_pred`."
      ],
      "metadata": {
        "id": "l5zeJfJ0Ywr6"
      }
    },
    {
      "cell_type": "code",
      "source": [
        "# Make some predictions\n",
        "y_pred = model.predict(X_test)\n",
        "y_pred"
      ],
      "metadata": {
        "id": "40uyhyB6yDQF",
        "outputId": "79dda293-b964-4ad5-f53d-af09b5a67f2a",
        "colab": {
          "base_uri": "https://localhost:8080/"
        }
      },
      "execution_count": 43,
      "outputs": [
        {
          "output_type": "stream",
          "name": "stdout",
          "text": [
            "1/1 [==============================] - 0s 25ms/step\n"
          ]
        },
        {
          "output_type": "execute_result",
          "data": {
            "text/plain": [
              "array([[ 70.552185],\n",
              "       [ 75.13991 ],\n",
              "       [ 79.72764 ],\n",
              "       [ 84.315346],\n",
              "       [ 88.90308 ],\n",
              "       [ 93.49081 ],\n",
              "       [ 98.07852 ],\n",
              "       [102.666245],\n",
              "       [107.253975],\n",
              "       [111.84169 ]], dtype=float32)"
            ]
          },
          "metadata": {},
          "execution_count": 43
        }
      ]
    },
    {
      "cell_type": "code",
      "source": [
        "y_test"
      ],
      "metadata": {
        "id": "oVIl3WrAybuo",
        "outputId": "24ac5edc-38b9-4b57-e61e-39862c8b0771",
        "colab": {
          "base_uri": "https://localhost:8080/"
        }
      },
      "execution_count": 44,
      "outputs": [
        {
          "output_type": "execute_result",
          "data": {
            "text/plain": [
              "<tf.Tensor: shape=(10,), dtype=int32, numpy=array([ 70,  74,  78,  82,  86,  90,  94,  98, 102, 106], dtype=int32)>"
            ]
          },
          "metadata": {},
          "execution_count": 44
        }
      ]
    },
    {
      "cell_type": "code",
      "source": [
        "# Plotting function\n",
        "def plot_predictions(train_data=X_train,\n",
        "                     train_labels=y_train,\n",
        "                     test_data=X_test,\n",
        "                     test_labels=y_test,\n",
        "                     predictions=y_pred):\n",
        "  \"\"\"\n",
        "  Plots training data, test data and compares predictions to ground truth labels\n",
        "  \"\"\"\n",
        "  plt.figure(figsize=(10, 7))\n",
        "  # Plot training data in blue\n",
        "  plt.scatter(train_data, train_labels, c=\"b\", label=\"Training data\")\n",
        "  # Plot testing data in green\n",
        "  plt.scatter(test_data, test_labels, c=\"g\", label=\"Testing data\")\n",
        "  # Plot model's predictions in red\n",
        "  plt.scatter(test_data, predictions, c=\"r\", label=\"Predictions\")\n",
        "  # Show the legend\n",
        "  plt.legend();"
      ],
      "metadata": {
        "id": "9m9fFK5-y18O"
      },
      "execution_count": 47,
      "outputs": []
    },
    {
      "cell_type": "code",
      "source": [
        "plot_predictions(train_data=X_train,\n",
        "                 train_labels=y_train,\n",
        "                 test_data=X_test,\n",
        "                 test_labels=y_test,\n",
        "                 predictions=y_pred)"
      ],
      "metadata": {
        "id": "8t5BZC0DzatW",
        "outputId": "45c4fff0-046a-480e-fc58-48c1222c7b72",
        "colab": {
          "base_uri": "https://localhost:8080/",
          "height": 428
        }
      },
      "execution_count": 49,
      "outputs": [
        {
          "output_type": "display_data",
          "data": {
            "text/plain": [
              "<Figure size 720x504 with 1 Axes>"
            ],
            "image/png": "[encoded data removed]"
          },
          "metadata": {
            "needs_background": "light"
          }
        }
      ]
    },
    {
      "cell_type": "markdown",
      "source": [
        "### Evaluating model's predictions - regression evaluation metrics\n",
        "\n",
        "MAE - mean absolute error - on average how wrong is each prediction\n",
        "\n",
        "MSE - MAE ^ 2\n",
        "\n",
        "Huber"
      ],
      "metadata": {
        "id": "cICyUe240ASb"
      }
    },
    {
      "cell_type": "code",
      "source": [
        "# Evaluate the model on the test\n",
        "model.evaluate(X_test, y_test)"
      ],
      "metadata": {
        "id": "kUQbgPK32Y8x",
        "outputId": "fbc81658-6bb6-4e7b-95b5-d5b935ffe8fd",
        "colab": {
          "base_uri": "https://localhost:8080/"
        }
      },
      "execution_count": 50,
      "outputs": [
        {
          "output_type": "stream",
          "name": "stdout",
          "text": [
            "1/1 [==============================] - 0s 296ms/step - loss: 3.1969 - mae: 3.1969\n"
          ]
        },
        {
          "output_type": "execute_result",
          "data": {
            "text/plain": [
              "[3.1969382762908936, 3.1969382762908936]"
            ]
          },
          "metadata": {},
          "execution_count": 50
        }
      ]
    },
    {
      "cell_type": "code",
      "source": [
        " y_pred"
      ],
      "metadata": {
        "id": "_ipI2T_D2enG",
        "outputId": "6e07555d-bfc8-4367-f1f5-dc5ce66dbebf",
        "colab": {
          "base_uri": "https://localhost:8080/"
        }
      },
      "execution_count": 51,
      "outputs": [
        {
          "output_type": "execute_result",
          "data": {
            "text/plain": [
              "array([[ 70.552185],\n",
              "       [ 75.13991 ],\n",
              "       [ 79.72764 ],\n",
              "       [ 84.315346],\n",
              "       [ 88.90308 ],\n",
              "       [ 93.49081 ],\n",
              "       [ 98.07852 ],\n",
              "       [102.666245],\n",
              "       [107.253975],\n",
              "       [111.84169 ]], dtype=float32)"
            ]
          },
          "metadata": {},
          "execution_count": 51
        }
      ]
    },
    {
      "cell_type": "code",
      "source": [
        "y_test"
      ],
      "metadata": {
        "id": "FnAm1s5q50N3",
        "outputId": "2922db28-5fa7-4c0f-b1cb-ebae7be4cec2",
        "colab": {
          "base_uri": "https://localhost:8080/"
        }
      },
      "execution_count": 52,
      "outputs": [
        {
          "output_type": "execute_result",
          "data": {
            "text/plain": [
              "<tf.Tensor: shape=(10,), dtype=int32, numpy=array([ 70,  74,  78,  82,  86,  90,  94,  98, 102, 106], dtype=int32)>"
            ]
          },
          "metadata": {},
          "execution_count": 52
        }
      ]
    },
    {
      "cell_type": "code",
      "source": [
        "tf.reshape(y_pred, (10,))"
      ],
      "metadata": {
        "id": "7g8mFAdD6XWx",
        "outputId": "0c35e287-6e58-4aed-967c-760a1368851f",
        "colab": {
          "base_uri": "https://localhost:8080/"
        }
      },
      "execution_count": 62,
      "outputs": [
        {
          "output_type": "execute_result",
          "data": {
            "text/plain": [
              "<tf.Tensor: shape=(10,), dtype=float32, numpy=\n",
              "array([ 70.552185,  75.13991 ,  79.72764 ,  84.315346,  88.90308 ,\n",
              "        93.49081 ,  98.07852 , 102.666245, 107.253975, 111.84169 ],\n",
              "      dtype=float32)>"
            ]
          },
          "metadata": {},
          "execution_count": 62
        }
      ]
    },
    {
      "cell_type": "code",
      "source": [
        "y_pred_reshaped = y_pred.reshape(10,)\n",
        "y_pred_reshaped"
      ],
      "metadata": {
        "id": "xiyUdMX250-X",
        "outputId": "85b8f1a7-47d9-40cd-9fef-e1310b1b5d6b",
        "colab": {
          "base_uri": "https://localhost:8080/"
        }
      },
      "execution_count": 63,
      "outputs": [
        {
          "output_type": "execute_result",
          "data": {
            "text/plain": [
              "array([ 70.552185,  75.13991 ,  79.72764 ,  84.315346,  88.90308 ,\n",
              "        93.49081 ,  98.07852 , 102.666245, 107.253975, 111.84169 ],\n",
              "      dtype=float32)"
            ]
          },
          "metadata": {},
          "execution_count": 63
        }
      ]
    },
    {
      "cell_type": "code",
      "source": [
        "y_pred = tf.constant(y_pred)"
      ],
      "metadata": {
        "id": "_Xtka19OAWkE"
      },
      "execution_count": 75,
      "outputs": []
    },
    {
      "cell_type": "code",
      "source": [
        "y_pred_sq = tf.squeeze(y_pred)\n",
        "y_pred_sq"
      ],
      "metadata": {
        "id": "-41VjUJiAhuL",
        "outputId": "8f0a201b-67a9-47b7-a7a1-17abea7efec6",
        "colab": {
          "base_uri": "https://localhost:8080/"
        }
      },
      "execution_count": 79,
      "outputs": [
        {
          "output_type": "execute_result",
          "data": {
            "text/plain": [
              "<tf.Tensor: shape=(10,), dtype=float32, numpy=\n",
              "array([ 70.552185,  75.13991 ,  79.72764 ,  84.315346,  88.90308 ,\n",
              "        93.49081 ,  98.07852 , 102.666245, 107.253975, 111.84169 ],\n",
              "      dtype=float32)>"
            ]
          },
          "metadata": {},
          "execution_count": 79
        }
      ]
    },
    {
      "cell_type": "code",
      "source": [
        "y_test.dtype"
      ],
      "metadata": {
        "id": "5Ne7Z33pAw9C",
        "outputId": "4b4a2cbd-9172-4951-8176-9531497c3555",
        "colab": {
          "base_uri": "https://localhost:8080/"
        }
      },
      "execution_count": 81,
      "outputs": [
        {
          "output_type": "execute_result",
          "data": {
            "text/plain": [
              "<tf.Tensor: shape=(10,), dtype=int32, numpy=array([ 70,  74,  78,  82,  86,  90,  94,  98, 102, 106], dtype=int32)>"
            ]
          },
          "metadata": {},
          "execution_count": 81
        }
      ]
    },
    {
      "cell_type": "code",
      "source": [
        "# Calculate the mean absolute error\n",
        "mae = tf.metrics.mean_absolute_error(y_test, y_pred)\n",
        "mae"
      ],
      "metadata": {
        "id": "Ai-pSkU_6AN2",
        "outputId": "1fffb99b-05a5-449c-9b27-f7c500160920",
        "colab": {
          "base_uri": "https://localhost:8080/"
        }
      },
      "execution_count": 72,
      "outputs": [
        {
          "output_type": "execute_result",
          "data": {
            "text/plain": [
              "<tf.Tensor: shape=(10,), dtype=float32, numpy=\n",
              "array([17.558252 , 14.1160555, 11.708944 , 10.336931 , 10.       ,\n",
              "       10.698161 , 12.447113 , 15.332995 , 19.253975 , 23.84169  ],\n",
              "      dtype=float32)>"
            ]
          },
          "metadata": {},
          "execution_count": 72
        }
      ]
    },
    {
      "cell_type": "code",
      "source": [
        "# Calculate the mean absolute error\n",
        "mae = tf.metrics.mean_absolute_error(y_true=y_test,\n",
        "                                     y_pred=tf.squeeze(y_pred))"
      ],
      "metadata": {
        "id": "C_OOHKql-RXF"
      },
      "execution_count": 82,
      "outputs": []
    },
    {
      "cell_type": "code",
      "source": [
        "mae"
      ],
      "metadata": {
        "id": "Hqq5X7xDGVA8",
        "outputId": "cdc6374d-7766-4499-bd4c-c3e803294b54",
        "colab": {
          "base_uri": "https://localhost:8080/"
        }
      },
      "execution_count": 83,
      "outputs": [
        {
          "output_type": "execute_result",
          "data": {
            "text/plain": [
              "<tf.Tensor: shape=(), dtype=float32, numpy=3.19694>"
            ]
          },
          "metadata": {},
          "execution_count": 83
        }
      ]
    },
    {
      "cell_type": "code",
      "source": [
        "# Mean squared error\n",
        "mse = tf.metrics.mean_squared_error(y_true=y_test,\n",
        "                                    y_pred=tf.squeeze(y_pred))\n",
        "mse"
      ],
      "metadata": {
        "id": "m-xvVopXGWIM",
        "outputId": "e51c5725-c34e-47cc-b4f1-5b935dd9833e",
        "colab": {
          "base_uri": "https://localhost:8080/"
        }
      },
      "execution_count": 84,
      "outputs": [
        {
          "output_type": "execute_result",
          "data": {
            "text/plain": [
              "<tf.Tensor: shape=(), dtype=float32, numpy=13.070127>"
            ]
          },
          "metadata": {},
          "execution_count": 84
        }
      ]
    },
    {
      "cell_type": "code",
      "source": [
        "# Make some functions to reuse MAE and MSE\n",
        "def mae(y_true, y_pred):\n",
        "  return tf.metrics.mean_absolute_error(y_true=y_true,\n",
        "                                        y_pred=y_pred)\n",
        "  \n",
        "def mse(y_true, y_pred):\n",
        "  return tf.metrics.mean_squared_error(y_true=y_true,\n",
        "                                       y_pred=y_pred)"
      ],
      "metadata": {
        "id": "wYyh5q19Gi37"
      },
      "execution_count": 85,
      "outputs": []
    },
    {
      "cell_type": "markdown",
      "source": [
        "### Running experiments to improve our model\n",
        "\n",
        "```Build a model -> fit -> evaluate -> tweak -> fit -> evaluate ... ```\n",
        "\n",
        "1. Get more data - get more examples for your model to train on\n",
        "2. Make model larger (using a more complex model) - more layers or more hidden units each layer\n",
        "3. Train for longer - give model more chances to find patterns in data\n",
        "\n",
        "Let's do 3 modelling experiments:\n",
        "1. `model_1` - same as the original model, 1 layer, trained for 100 epochs.\n",
        "2. `model_2` - 2 layers, trained for 100 epochs (increased **layers**)\n",
        "3. `model_3` - 2 layers, trained for 500 epochs (increased **epochs**)\n",
        "\n",
        "** Build `model_1`**"
      ],
      "metadata": {
        "id": "njGfTh4pHssi"
      }
    },
    {
      "cell_type": "code",
      "source": [
        "# Set random seed\n",
        "tf.random.set_seed(42)\n",
        "\n",
        "# 1. Create the model\n",
        "model_1 = tf.keras.Sequential([\n",
        "    tf.keras.layers.Dense(1)\n",
        "])\n",
        "\n",
        "# 2. Compile the model\n",
        "model_1.compile(loss=tf.keras.losses.mae,\n",
        "                optimizer=tf.keras.optimizers.SGD(),\n",
        "                metrics=[\"mae\"])\n",
        "\n",
        "# 3. Fit the model\n",
        "model_1.fit(tf.expand_dims(X_train, axis=1), y_train, epochs=100, verbose=0)\n",
        "model_1.evaluate(X_train, y_train)"
      ],
      "metadata": {
        "id": "LSlt1AqCIhWH",
        "outputId": "d53b4287-1385-49a1-85e4-c0db0ee4f0f5",
        "colab": {
          "base_uri": "https://localhost:8080/"
        }
      },
      "execution_count": 92,
      "outputs": [
        {
          "output_type": "stream",
          "name": "stdout",
          "text": [
            "2/2 [==============================] - 0s 6ms/step - loss: 6.8224 - mae: 6.8224\n"
          ]
        },
        {
          "output_type": "execute_result",
          "data": {
            "text/plain": [
              "[6.822429656982422, 6.822429656982422]"
            ]
          },
          "metadata": {},
          "execution_count": 92
        }
      ]
    },
    {
      "cell_type": "code",
      "source": [
        "# Make and plot predictions for model_1\n",
        "y_preds_1 = model_1.predict(X_test)\n",
        "plot_predictions(predictions=y_preds_1)"
      ],
      "metadata": {
        "id": "HIxIpwXnKb4r",
        "outputId": "39c7c834-063f-4e02-a5b0-4c2e1b35c35e",
        "colab": {
          "base_uri": "https://localhost:8080/",
          "height": 445
        }
      },
      "execution_count": 94,
      "outputs": [
        {
          "output_type": "stream",
          "name": "stdout",
          "text": [
            "1/1 [==============================] - 0s 16ms/step\n"
          ]
        },
        {
          "output_type": "display_data",
          "data": {
            "text/plain": [
              "<Figure size 720x504 with 1 Axes>"
            ],
            "image/png": "[encoded data removed]"
          },
          "metadata": {
            "needs_background": "light"
          }
        }
      ]
    },
    {
      "cell_type": "code",
      "source": [],
      "metadata": {
        "id": "nziWdS5EKqur"
      },
      "execution_count": null,
      "outputs": []
    }
  ]
}