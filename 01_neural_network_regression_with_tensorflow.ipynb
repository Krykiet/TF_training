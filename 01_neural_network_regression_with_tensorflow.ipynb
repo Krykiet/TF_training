{
  "nbformat": 4,
  "nbformat_minor": 0,
  "metadata": {
    "colab": {
      "provenance": [],
      "authorship_tag": "ABX9TyO1yGalx/72khTqEXC8aNI+",
      "include_colab_link": true
    },
    "kernelspec": {
      "name": "python3",
      "display_name": "Python 3"
    },
    "language_info": {
      "name": "python"
    }
  },
  "cells": [
    {
      "cell_type": "markdown",
      "metadata": {
        "id": "view-in-github",
        "colab_type": "text"
      },
      "source": [
        "<a href=\"https://colab.research.google.com/github/Krykiet/TF_training/blob/main/01_neural_network_regression_with_tensorflow.ipynb\" target=\"_parent\"><img src=\"https://colab.research.google.com/assets/colab-badge.svg\" alt=\"Open In Colab\"/></a>"
      ]
    },
    {
      "cell_type": "markdown",
      "source": [
        "# Regression with Neural Networks in TF\n",
        "\n",
        "Simplified: predicting a number based on other numbers"
      ],
      "metadata": {
        "id": "XCPOjd3m9B9i"
      }
    },
    {
      "cell_type": "code",
      "source": [
        "# Import TensorFlow\n",
        "import tensorflow as tf\n",
        "print(tf.__version__)"
      ],
      "metadata": {
        "colab": {
          "base_uri": "https://localhost:8080/"
        },
        "id": "y9wYOieO_Qzs",
        "outputId": "849d4e3b-8abb-49a6-a0d3-692dc8225b10"
      },
      "execution_count": 1,
      "outputs": [
        {
          "output_type": "stream",
          "name": "stdout",
          "text": [
            "2.9.2\n"
          ]
        }
      ]
    },
    {
      "cell_type": "markdown",
      "source": [
        "## Creating some data to view and fit"
      ],
      "metadata": {
        "id": "q30n5-iI_UcM"
      }
    },
    {
      "cell_type": "code",
      "source": [
        "import numpy as np\n",
        "import matplotlib.pyplot as plt\n",
        "\n",
        "# Create features\n",
        "X = np.array([-7.0, -4.0, -1.0, 2.0, 5.0, 8.0, 11.0, 14.0])\n",
        "\n",
        "# Create labels\n",
        "y = np.array([3.0, 6.0, 9.0, 12.0, 15.0, 18.0, 21.0, 24.0])\n",
        "\n",
        "# Visualize it\n",
        "plt.scatter(X, y)"
      ],
      "metadata": {
        "colab": {
          "base_uri": "https://localhost:8080/",
          "height": 286
        },
        "id": "HlIdCE31_lsb",
        "outputId": "e584a5ae-46cf-4881-faab-7fb70bf9ae9d"
      },
      "execution_count": 2,
      "outputs": [
        {
          "output_type": "execute_result",
          "data": {
            "text/plain": [
              "<matplotlib.collections.PathCollection at 0x7f5a1e44fc90>"
            ]
          },
          "metadata": {},
          "execution_count": 2
        },
        {
          "output_type": "display_data",
          "data": {
            "text/plain": [
              "<Figure size 432x288 with 1 Axes>"
            ],
            "image/png": "[encoded data removed]"
          },
          "metadata": {
            "needs_background": "light"
          }
        }
      ]
    },
    {
      "cell_type": "code",
      "source": [
        "y == X + 10"
      ],
      "metadata": {
        "colab": {
          "base_uri": "https://localhost:8080/"
        },
        "id": "S1sHTew8_67t",
        "outputId": "a7f1c1b4-c598-4778-8f69-c62b2d7790f8"
      },
      "execution_count": 3,
      "outputs": [
        {
          "output_type": "execute_result",
          "data": {
            "text/plain": [
              "array([ True,  True,  True,  True,  True,  True,  True,  True])"
            ]
          },
          "metadata": {},
          "execution_count": 3
        }
      ]
    },
    {
      "cell_type": "markdown",
      "source": [
        "## Input and output shapes\n",
        "\n",
        "Shapes will vary depending on the problem"
      ],
      "metadata": {
        "id": "yBPoCbmyANMj"
      }
    },
    {
      "cell_type": "code",
      "source": [
        "# Create a demo tensor for price prediction problem\n",
        "house_info = tf.constant([\"bedroom\", \"bathroom\", \"garage\"])\n",
        "house_price = tf.constant([939700])\n",
        "house_info, house_price"
      ],
      "metadata": {
        "colab": {
          "base_uri": "https://localhost:8080/"
        },
        "id": "0FDFJyNAAVbb",
        "outputId": "a56e92fa-af03-42f8-80d5-5e1a5db1c4c3"
      },
      "execution_count": 6,
      "outputs": [
        {
          "output_type": "execute_result",
          "data": {
            "text/plain": [
              "(<tf.Tensor: shape=(3,), dtype=string, numpy=array([b'bedroom', b'bathroom', b'garage'], dtype=object)>,\n",
              " <tf.Tensor: shape=(1,), dtype=int32, numpy=array([939700], dtype=int32)>)"
            ]
          },
          "metadata": {},
          "execution_count": 6
        }
      ]
    },
    {
      "cell_type": "code",
      "source": [
        "input_shape= X[0].shape\n",
        "output_shape = y[0].shape\n",
        "input_shape, output_shape"
      ],
      "metadata": {
        "colab": {
          "base_uri": "https://localhost:8080/"
        },
        "id": "QYLXnl9hAwyE",
        "outputId": "db01fafa-97c6-4407-e996-0aa40ab3fe25"
      },
      "execution_count": 9,
      "outputs": [
        {
          "output_type": "execute_result",
          "data": {
            "text/plain": [
              "((), ())"
            ]
          },
          "metadata": {},
          "execution_count": 9
        }
      ]
    },
    {
      "cell_type": "markdown",
      "source": [
        "These are scalars, rank 0 tensors - no shape"
      ],
      "metadata": {
        "id": "I_uafpFFA998"
      }
    },
    {
      "cell_type": "code",
      "source": [
        "X[0].ndim"
      ],
      "metadata": {
        "colab": {
          "base_uri": "https://localhost:8080/"
        },
        "id": "qRSpT07NBbis",
        "outputId": "0564f98a-13df-441c-e048-ee11d20ae3a1"
      },
      "execution_count": 11,
      "outputs": [
        {
          "output_type": "execute_result",
          "data": {
            "text/plain": [
              "0"
            ]
          },
          "metadata": {},
          "execution_count": 11
        }
      ]
    },
    {
      "cell_type": "code",
      "source": [
        "X_reshaped = X.reshape(-1, 1)\n",
        "X_reshaped, X_reshaped.ndim"
      ],
      "metadata": {
        "colab": {
          "base_uri": "https://localhost:8080/"
        },
        "id": "VPRDum67Be3U",
        "outputId": "9fb26e4d-7b4b-4e6e-b494-afc9e2042eda"
      },
      "execution_count": 25,
      "outputs": [
        {
          "output_type": "execute_result",
          "data": {
            "text/plain": [
              "(array([[-7.],\n",
              "        [-4.],\n",
              "        [-1.],\n",
              "        [ 2.],\n",
              "        [ 5.],\n",
              "        [ 8.],\n",
              "        [11.],\n",
              "        [14.]]), 2)"
            ]
          },
          "metadata": {},
          "execution_count": 25
        }
      ]
    },
    {
      "cell_type": "code",
      "source": [
        "# Turn NumPy arrays into tensors\n",
        "X = tf.cast(tf.constant(X), dtype=tf.float32)\n",
        "y = tf.cast(tf.constant(y), dtype=tf.float32)\n",
        "X, y"
      ],
      "metadata": {
        "colab": {
          "base_uri": "https://localhost:8080/"
        },
        "id": "GAIw9nGhCNWM",
        "outputId": "dac91a1e-809a-48e1-cdeb-e2600e0d63e2"
      },
      "execution_count": 33,
      "outputs": [
        {
          "output_type": "execute_result",
          "data": {
            "text/plain": [
              "(<tf.Tensor: shape=(8,), dtype=float32, numpy=array([-7., -4., -1.,  2.,  5.,  8., 11., 14.], dtype=float32)>,\n",
              " <tf.Tensor: shape=(8,), dtype=float32, numpy=array([ 3.,  6.,  9., 12., 15., 18., 21., 24.], dtype=float32)>)"
            ]
          },
          "metadata": {},
          "execution_count": 33
        }
      ]
    },
    {
      "cell_type": "code",
      "source": [
        "input_shape = X[0].shape\n",
        "output_shape = y[0].shape\n",
        "input_shape, output_shape"
      ],
      "metadata": {
        "colab": {
          "base_uri": "https://localhost:8080/"
        },
        "id": "UhuKCTirDFet",
        "outputId": "73cc2fa1-a031-47f4-bbec-5be40ab71d3a"
      },
      "execution_count": 34,
      "outputs": [
        {
          "output_type": "execute_result",
          "data": {
            "text/plain": [
              "(TensorShape([]), TensorShape([]))"
            ]
          },
          "metadata": {},
          "execution_count": 34
        }
      ]
    },
    {
      "cell_type": "code",
      "source": [
        "plt.scatter(X, y)"
      ],
      "metadata": {
        "colab": {
          "base_uri": "https://localhost:8080/",
          "height": 286
        },
        "id": "uDr2wYH-DNy8",
        "outputId": "ba31d268-b19b-41a0-9b8b-2b34c7fe1725"
      },
      "execution_count": 29,
      "outputs": [
        {
          "output_type": "execute_result",
          "data": {
            "text/plain": [
              "<matplotlib.collections.PathCollection at 0x7f5a17608410>"
            ]
          },
          "metadata": {},
          "execution_count": 29
        },
        {
          "output_type": "display_data",
          "data": {
            "text/plain": [
              "<Figure size 432x288 with 1 Axes>"
            ],
            "image/png": "[encoded data removed]"
          },
          "metadata": {
            "needs_background": "light"
          }
        }
      ]
    },
    {
      "cell_type": "markdown",
      "source": [
        "## Steps in modellling with TensorFlow\n",
        "\n",
        "1. **Creating a model** - define the input and output layers, as well as the hidden layers of a deep learning model.\n",
        "2. **Compiling a mode**l - define the loss function (how wrong the model is) and optimizer (tells model how to improve the patters its learning) and evaluation metrics(what we can use to interpret the performance of our model).\n",
        "3. **Fitting a model** - letting the model try to find patterns between X & y"
      ],
      "metadata": {
        "id": "1tZA_ctIDT6E"
      }
    },
    {
      "cell_type": "code",
      "source": [
        "# Set random seed\n",
        "tf.random.set_seed(42)\n",
        "\n",
        "# 1. Create a model using the Sequential API\n",
        "# model = tf.keras.Sequential([\n",
        "#     tf.keras.layers.Dense(1)\n",
        "# ])\n",
        "\n",
        "model = tf.keras.Sequential()\n",
        "model.add(tf.keras.layers.Dense(1))\n",
        "\n",
        "# 2. Compile the model\n",
        "model.compile(loss=tf.keras.losses.mae, # mae = mean absolute error \n",
        "              optimizer=tf.keras.optimizers.SGD(), # SGD = stochastic gradient descent\n",
        "              metrics=[\"mae\"])\n",
        "\n",
        "# 3. Fit the model\n",
        "model.fit(tf.expand_dims(X, axis=-1), y, epochs=200)"
      ],
      "metadata": {
        "colab": {
          "base_uri": "https://localhost:8080/"
        },
        "id": "hT0TNCvkDufE",
        "outputId": "f34d971e-de60-41a3-b8d5-df493b27a46c"
      },
      "execution_count": 48,
      "outputs": [
        {
          "output_type": "stream",
          "name": "stdout",
          "text": [
            "Epoch 1/200\n",
            "1/1 [==============================] - 1s 546ms/step - loss: 11.5048 - mae: 11.5048\n",
            "Epoch 2/200\n",
            "1/1 [==============================] - 0s 18ms/step - loss: 11.3723 - mae: 11.3723\n",
            "Epoch 3/200\n",
            "1/1 [==============================] - 0s 20ms/step - loss: 11.2398 - mae: 11.2398\n",
            "Epoch 4/200\n",
            "1/1 [==============================] - 0s 12ms/step - loss: 11.1073 - mae: 11.1073\n",
            "Epoch 5/200\n",
            "1/1 [==============================] - 0s 12ms/step - loss: 10.9748 - mae: 10.9748\n",
            "Epoch 6/200\n",
            "1/1 [==============================] - 0s 9ms/step - loss: 10.8423 - mae: 10.8423\n",
            "Epoch 7/200\n",
            "1/1 [==============================] - 0s 11ms/step - loss: 10.7098 - mae: 10.7098\n",
            "Epoch 8/200\n",
            "1/1 [==============================] - 0s 14ms/step - loss: 10.5773 - mae: 10.5773\n",
            "Epoch 9/200\n",
            "1/1 [==============================] - 0s 15ms/step - loss: 10.4448 - mae: 10.4448\n",
            "Epoch 10/200\n",
            "1/1 [==============================] - 0s 10ms/step - loss: 10.3123 - mae: 10.3123\n",
            "Epoch 11/200\n",
            "1/1 [==============================] - 0s 8ms/step - loss: 10.1798 - mae: 10.1798\n",
            "Epoch 12/200\n",
            "1/1 [==============================] - 0s 7ms/step - loss: 10.0473 - mae: 10.0473\n",
            "Epoch 13/200\n",
            "1/1 [==============================] - 0s 27ms/step - loss: 9.9148 - mae: 9.9148\n",
            "Epoch 14/200\n",
            "1/1 [==============================] - 0s 10ms/step - loss: 9.7823 - mae: 9.7823\n",
            "Epoch 15/200\n",
            "1/1 [==============================] - 0s 9ms/step - loss: 9.6498 - mae: 9.6498\n",
            "Epoch 16/200\n",
            "1/1 [==============================] - 0s 9ms/step - loss: 9.5173 - mae: 9.5173\n",
            "Epoch 17/200\n",
            "1/1 [==============================] - 0s 11ms/step - loss: 9.3848 - mae: 9.3848\n",
            "Epoch 18/200\n",
            "1/1 [==============================] - 0s 11ms/step - loss: 9.2523 - mae: 9.2523\n",
            "Epoch 19/200\n",
            "1/1 [==============================] - 0s 15ms/step - loss: 9.1198 - mae: 9.1198\n",
            "Epoch 20/200\n",
            "1/1 [==============================] - 0s 11ms/step - loss: 8.9873 - mae: 8.9873\n",
            "Epoch 21/200\n",
            "1/1 [==============================] - 0s 12ms/step - loss: 8.8548 - mae: 8.8548\n",
            "Epoch 22/200\n",
            "1/1 [==============================] - 0s 11ms/step - loss: 8.7223 - mae: 8.7223\n",
            "Epoch 23/200\n",
            "1/1 [==============================] - 0s 26ms/step - loss: 8.5898 - mae: 8.5898\n",
            "Epoch 24/200\n",
            "1/1 [==============================] - 0s 10ms/step - loss: 8.4573 - mae: 8.4573\n",
            "Epoch 25/200\n",
            "1/1 [==============================] - 0s 19ms/step - loss: 8.3248 - mae: 8.3248\n",
            "Epoch 26/200\n",
            "1/1 [==============================] - 0s 13ms/step - loss: 8.1923 - mae: 8.1923\n",
            "Epoch 27/200\n",
            "1/1 [==============================] - 0s 24ms/step - loss: 8.0598 - mae: 8.0598\n",
            "Epoch 28/200\n",
            "1/1 [==============================] - 0s 20ms/step - loss: 7.9273 - mae: 7.9273\n",
            "Epoch 29/200\n",
            "1/1 [==============================] - 0s 26ms/step - loss: 7.7948 - mae: 7.7948\n",
            "Epoch 30/200\n",
            "1/1 [==============================] - 0s 10ms/step - loss: 7.6623 - mae: 7.6623\n",
            "Epoch 31/200\n",
            "1/1 [==============================] - 0s 10ms/step - loss: 7.5298 - mae: 7.5298\n",
            "Epoch 32/200\n",
            "1/1 [==============================] - 0s 11ms/step - loss: 7.3973 - mae: 7.3973\n",
            "Epoch 33/200\n",
            "1/1 [==============================] - 0s 10ms/step - loss: 7.2648 - mae: 7.2648\n",
            "Epoch 34/200\n",
            "1/1 [==============================] - 0s 15ms/step - loss: 7.2525 - mae: 7.2525\n",
            "Epoch 35/200\n",
            "1/1 [==============================] - 0s 18ms/step - loss: 7.2469 - mae: 7.2469\n",
            "Epoch 36/200\n",
            "1/1 [==============================] - 0s 15ms/step - loss: 7.2413 - mae: 7.2413\n",
            "Epoch 37/200\n",
            "1/1 [==============================] - 0s 19ms/step - loss: 7.2356 - mae: 7.2356\n",
            "Epoch 38/200\n",
            "1/1 [==============================] - 0s 15ms/step - loss: 7.2300 - mae: 7.2300\n",
            "Epoch 39/200\n",
            "1/1 [==============================] - 0s 22ms/step - loss: 7.2244 - mae: 7.2244\n",
            "Epoch 40/200\n",
            "1/1 [==============================] - 0s 31ms/step - loss: 7.2188 - mae: 7.2188\n",
            "Epoch 41/200\n",
            "1/1 [==============================] - 0s 18ms/step - loss: 7.2131 - mae: 7.2131\n",
            "Epoch 42/200\n",
            "1/1 [==============================] - 0s 17ms/step - loss: 7.2075 - mae: 7.2075\n",
            "Epoch 43/200\n",
            "1/1 [==============================] - 0s 15ms/step - loss: 7.2019 - mae: 7.2019\n",
            "Epoch 44/200\n",
            "1/1 [==============================] - 0s 15ms/step - loss: 7.1963 - mae: 7.1963\n",
            "Epoch 45/200\n",
            "1/1 [==============================] - 0s 32ms/step - loss: 7.1906 - mae: 7.1906\n",
            "Epoch 46/200\n",
            "1/1 [==============================] - 0s 11ms/step - loss: 7.1850 - mae: 7.1850\n",
            "Epoch 47/200\n",
            "1/1 [==============================] - 0s 16ms/step - loss: 7.1794 - mae: 7.1794\n",
            "Epoch 48/200\n",
            "1/1 [==============================] - 0s 21ms/step - loss: 7.1738 - mae: 7.1738\n",
            "Epoch 49/200\n",
            "1/1 [==============================] - 0s 19ms/step - loss: 7.1681 - mae: 7.1681\n",
            "Epoch 50/200\n",
            "1/1 [==============================] - 0s 13ms/step - loss: 7.1625 - mae: 7.1625\n",
            "Epoch 51/200\n",
            "1/1 [==============================] - 0s 11ms/step - loss: 7.1569 - mae: 7.1569\n",
            "Epoch 52/200\n",
            "1/1 [==============================] - 0s 27ms/step - loss: 7.1512 - mae: 7.1512\n",
            "Epoch 53/200\n",
            "1/1 [==============================] - 0s 13ms/step - loss: 7.1456 - mae: 7.1456\n",
            "Epoch 54/200\n",
            "1/1 [==============================] - 0s 14ms/step - loss: 7.1400 - mae: 7.1400\n",
            "Epoch 55/200\n",
            "1/1 [==============================] - 0s 60ms/step - loss: 7.1344 - mae: 7.1344\n",
            "Epoch 56/200\n",
            "1/1 [==============================] - 0s 9ms/step - loss: 7.1287 - mae: 7.1287\n",
            "Epoch 57/200\n",
            "1/1 [==============================] - 0s 10ms/step - loss: 7.1231 - mae: 7.1231\n",
            "Epoch 58/200\n",
            "1/1 [==============================] - 0s 14ms/step - loss: 7.1175 - mae: 7.1175\n",
            "Epoch 59/200\n",
            "1/1 [==============================] - 0s 10ms/step - loss: 7.1119 - mae: 7.1119\n",
            "Epoch 60/200\n",
            "1/1 [==============================] - 0s 14ms/step - loss: 7.1063 - mae: 7.1063\n",
            "Epoch 61/200\n",
            "1/1 [==============================] - 0s 13ms/step - loss: 7.1006 - mae: 7.1006\n",
            "Epoch 62/200\n",
            "1/1 [==============================] - 0s 8ms/step - loss: 7.0950 - mae: 7.0950\n",
            "Epoch 63/200\n",
            "1/1 [==============================] - 0s 10ms/step - loss: 7.0894 - mae: 7.0894\n",
            "Epoch 64/200\n",
            "1/1 [==============================] - 0s 7ms/step - loss: 7.0838 - mae: 7.0838\n",
            "Epoch 65/200\n",
            "1/1 [==============================] - 0s 10ms/step - loss: 7.0781 - mae: 7.0781\n",
            "Epoch 66/200\n",
            "1/1 [==============================] - 0s 7ms/step - loss: 7.0725 - mae: 7.0725\n",
            "Epoch 67/200\n",
            "1/1 [==============================] - 0s 10ms/step - loss: 7.0669 - mae: 7.0669\n",
            "Epoch 68/200\n",
            "1/1 [==============================] - 0s 7ms/step - loss: 7.0613 - mae: 7.0613\n",
            "Epoch 69/200\n",
            "1/1 [==============================] - 0s 12ms/step - loss: 7.0556 - mae: 7.0556\n",
            "Epoch 70/200\n",
            "1/1 [==============================] - 0s 7ms/step - loss: 7.0500 - mae: 7.0500\n",
            "Epoch 71/200\n",
            "1/1 [==============================] - 0s 8ms/step - loss: 7.0444 - mae: 7.0444\n",
            "Epoch 72/200\n",
            "1/1 [==============================] - 0s 7ms/step - loss: 7.0388 - mae: 7.0388\n",
            "Epoch 73/200\n",
            "1/1 [==============================] - 0s 10ms/step - loss: 7.0331 - mae: 7.0331\n",
            "Epoch 74/200\n",
            "1/1 [==============================] - 0s 8ms/step - loss: 7.0275 - mae: 7.0275\n",
            "Epoch 75/200\n",
            "1/1 [==============================] - 0s 9ms/step - loss: 7.0219 - mae: 7.0219\n",
            "Epoch 76/200\n",
            "1/1 [==============================] - 0s 11ms/step - loss: 7.0163 - mae: 7.0163\n",
            "Epoch 77/200\n",
            "1/1 [==============================] - 0s 9ms/step - loss: 7.0106 - mae: 7.0106\n",
            "Epoch 78/200\n",
            "1/1 [==============================] - 0s 12ms/step - loss: 7.0050 - mae: 7.0050\n",
            "Epoch 79/200\n",
            "1/1 [==============================] - 0s 13ms/step - loss: 6.9994 - mae: 6.9994\n",
            "Epoch 80/200\n",
            "1/1 [==============================] - 0s 7ms/step - loss: 6.9938 - mae: 6.9938\n",
            "Epoch 81/200\n",
            "1/1 [==============================] - 0s 10ms/step - loss: 6.9881 - mae: 6.9881\n",
            "Epoch 82/200\n",
            "1/1 [==============================] - 0s 9ms/step - loss: 6.9825 - mae: 6.9825\n",
            "Epoch 83/200\n",
            "1/1 [==============================] - 0s 12ms/step - loss: 6.9769 - mae: 6.9769\n",
            "Epoch 84/200\n",
            "1/1 [==============================] - 0s 11ms/step - loss: 6.9713 - mae: 6.9713\n",
            "Epoch 85/200\n",
            "1/1 [==============================] - 0s 13ms/step - loss: 6.9656 - mae: 6.9656\n",
            "Epoch 86/200\n",
            "1/1 [==============================] - 0s 8ms/step - loss: 6.9600 - mae: 6.9600\n",
            "Epoch 87/200\n",
            "1/1 [==============================] - 0s 7ms/step - loss: 6.9544 - mae: 6.9544\n",
            "Epoch 88/200\n",
            "1/1 [==============================] - 0s 11ms/step - loss: 6.9488 - mae: 6.9488\n",
            "Epoch 89/200\n",
            "1/1 [==============================] - 0s 8ms/step - loss: 6.9431 - mae: 6.9431\n",
            "Epoch 90/200\n",
            "1/1 [==============================] - 0s 8ms/step - loss: 6.9375 - mae: 6.9375\n",
            "Epoch 91/200\n",
            "1/1 [==============================] - 0s 7ms/step - loss: 6.9319 - mae: 6.9319\n",
            "Epoch 92/200\n",
            "1/1 [==============================] - 0s 7ms/step - loss: 6.9263 - mae: 6.9263\n",
            "Epoch 93/200\n",
            "1/1 [==============================] - 0s 9ms/step - loss: 6.9206 - mae: 6.9206\n",
            "Epoch 94/200\n",
            "1/1 [==============================] - 0s 7ms/step - loss: 6.9150 - mae: 6.9150\n",
            "Epoch 95/200\n",
            "1/1 [==============================] - 0s 6ms/step - loss: 6.9094 - mae: 6.9094\n",
            "Epoch 96/200\n",
            "1/1 [==============================] - 0s 7ms/step - loss: 6.9038 - mae: 6.9038\n",
            "Epoch 97/200\n",
            "1/1 [==============================] - 0s 8ms/step - loss: 6.8981 - mae: 6.8981\n",
            "Epoch 98/200\n",
            "1/1 [==============================] - 0s 10ms/step - loss: 6.8925 - mae: 6.8925\n",
            "Epoch 99/200\n",
            "1/1 [==============================] - 0s 7ms/step - loss: 6.8869 - mae: 6.8869\n",
            "Epoch 100/200\n",
            "1/1 [==============================] - 0s 7ms/step - loss: 6.8813 - mae: 6.8813\n",
            "Epoch 101/200\n",
            "1/1 [==============================] - 0s 8ms/step - loss: 6.8756 - mae: 6.8756\n",
            "Epoch 102/200\n",
            "1/1 [==============================] - 0s 7ms/step - loss: 6.8700 - mae: 6.8700\n",
            "Epoch 103/200\n",
            "1/1 [==============================] - 0s 6ms/step - loss: 6.8644 - mae: 6.8644\n",
            "Epoch 104/200\n",
            "1/1 [==============================] - 0s 6ms/step - loss: 6.8588 - mae: 6.8588\n",
            "Epoch 105/200\n",
            "1/1 [==============================] - 0s 7ms/step - loss: 6.8531 - mae: 6.8531\n",
            "Epoch 106/200\n",
            "1/1 [==============================] - 0s 6ms/step - loss: 6.8475 - mae: 6.8475\n",
            "Epoch 107/200\n",
            "1/1 [==============================] - 0s 6ms/step - loss: 6.8419 - mae: 6.8419\n",
            "Epoch 108/200\n",
            "1/1 [==============================] - 0s 5ms/step - loss: 6.8363 - mae: 6.8363\n",
            "Epoch 109/200\n",
            "1/1 [==============================] - 0s 6ms/step - loss: 6.8306 - mae: 6.8306\n",
            "Epoch 110/200\n",
            "1/1 [==============================] - 0s 6ms/step - loss: 6.8250 - mae: 6.8250\n",
            "Epoch 111/200\n",
            "1/1 [==============================] - 0s 6ms/step - loss: 6.8194 - mae: 6.8194\n",
            "Epoch 112/200\n",
            "1/1 [==============================] - 0s 5ms/step - loss: 6.8138 - mae: 6.8138\n",
            "Epoch 113/200\n",
            "1/1 [==============================] - 0s 6ms/step - loss: 6.8081 - mae: 6.8081\n",
            "Epoch 114/200\n",
            "1/1 [==============================] - 0s 11ms/step - loss: 6.8025 - mae: 6.8025\n",
            "Epoch 115/200\n",
            "1/1 [==============================] - 0s 7ms/step - loss: 6.7969 - mae: 6.7969\n",
            "Epoch 116/200\n",
            "1/1 [==============================] - 0s 8ms/step - loss: 6.7913 - mae: 6.7913\n",
            "Epoch 117/200\n",
            "1/1 [==============================] - 0s 13ms/step - loss: 6.7856 - mae: 6.7856\n",
            "Epoch 118/200\n",
            "1/1 [==============================] - 0s 6ms/step - loss: 6.7800 - mae: 6.7800\n",
            "Epoch 119/200\n",
            "1/1 [==============================] - 0s 6ms/step - loss: 6.7744 - mae: 6.7744\n",
            "Epoch 120/200\n",
            "1/1 [==============================] - 0s 5ms/step - loss: 6.7688 - mae: 6.7688\n",
            "Epoch 121/200\n",
            "1/1 [==============================] - 0s 6ms/step - loss: 6.7631 - mae: 6.7631\n",
            "Epoch 122/200\n",
            "1/1 [==============================] - 0s 6ms/step - loss: 6.7575 - mae: 6.7575\n",
            "Epoch 123/200\n",
            "1/1 [==============================] - 0s 6ms/step - loss: 6.7519 - mae: 6.7519\n",
            "Epoch 124/200\n",
            "1/1 [==============================] - 0s 6ms/step - loss: 6.7463 - mae: 6.7463\n",
            "Epoch 125/200\n",
            "1/1 [==============================] - 0s 6ms/step - loss: 6.7406 - mae: 6.7406\n",
            "Epoch 126/200\n",
            "1/1 [==============================] - 0s 9ms/step - loss: 6.7350 - mae: 6.7350\n",
            "Epoch 127/200\n",
            "1/1 [==============================] - 0s 6ms/step - loss: 6.7294 - mae: 6.7294\n",
            "Epoch 128/200\n",
            "1/1 [==============================] - 0s 5ms/step - loss: 6.7238 - mae: 6.7238\n",
            "Epoch 129/200\n",
            "1/1 [==============================] - 0s 6ms/step - loss: 6.7181 - mae: 6.7181\n",
            "Epoch 130/200\n",
            "1/1 [==============================] - 0s 5ms/step - loss: 6.7125 - mae: 6.7125\n",
            "Epoch 131/200\n",
            "1/1 [==============================] - 0s 6ms/step - loss: 6.7069 - mae: 6.7069\n",
            "Epoch 132/200\n",
            "1/1 [==============================] - 0s 5ms/step - loss: 6.7013 - mae: 6.7013\n",
            "Epoch 133/200\n",
            "1/1 [==============================] - 0s 5ms/step - loss: 6.6956 - mae: 6.6956\n",
            "Epoch 134/200\n",
            "1/1 [==============================] - 0s 5ms/step - loss: 6.6900 - mae: 6.6900\n",
            "Epoch 135/200\n",
            "1/1 [==============================] - 0s 6ms/step - loss: 6.6844 - mae: 6.6844\n",
            "Epoch 136/200\n",
            "1/1 [==============================] - 0s 6ms/step - loss: 6.6788 - mae: 6.6788\n",
            "Epoch 137/200\n",
            "1/1 [==============================] - 0s 6ms/step - loss: 6.6731 - mae: 6.6731\n",
            "Epoch 138/200\n",
            "1/1 [==============================] - 0s 6ms/step - loss: 6.6675 - mae: 6.6675\n",
            "Epoch 139/200\n",
            "1/1 [==============================] - 0s 6ms/step - loss: 6.6619 - mae: 6.6619\n",
            "Epoch 140/200\n",
            "1/1 [==============================] - 0s 6ms/step - loss: 6.6562 - mae: 6.6562\n",
            "Epoch 141/200\n",
            "1/1 [==============================] - 0s 5ms/step - loss: 6.6506 - mae: 6.6506\n",
            "Epoch 142/200\n",
            "1/1 [==============================] - 0s 5ms/step - loss: 6.6450 - mae: 6.6450\n",
            "Epoch 143/200\n",
            "1/1 [==============================] - 0s 5ms/step - loss: 6.6394 - mae: 6.6394\n",
            "Epoch 144/200\n",
            "1/1 [==============================] - 0s 5ms/step - loss: 6.6337 - mae: 6.6337\n",
            "Epoch 145/200\n",
            "1/1 [==============================] - 0s 5ms/step - loss: 6.6281 - mae: 6.6281\n",
            "Epoch 146/200\n",
            "1/1 [==============================] - 0s 6ms/step - loss: 6.6225 - mae: 6.6225\n",
            "Epoch 147/200\n",
            "1/1 [==============================] - 0s 5ms/step - loss: 6.6169 - mae: 6.6169\n",
            "Epoch 148/200\n",
            "1/1 [==============================] - 0s 6ms/step - loss: 6.6112 - mae: 6.6112\n",
            "Epoch 149/200\n",
            "1/1 [==============================] - 0s 6ms/step - loss: 6.6056 - mae: 6.6056\n",
            "Epoch 150/200\n",
            "1/1 [==============================] - 0s 7ms/step - loss: 6.6000 - mae: 6.6000\n",
            "Epoch 151/200\n",
            "1/1 [==============================] - 0s 6ms/step - loss: 6.5944 - mae: 6.5944\n",
            "Epoch 152/200\n",
            "1/1 [==============================] - 0s 6ms/step - loss: 6.5887 - mae: 6.5887\n",
            "Epoch 153/200\n",
            "1/1 [==============================] - 0s 6ms/step - loss: 6.5831 - mae: 6.5831\n",
            "Epoch 154/200\n",
            "1/1 [==============================] - 0s 6ms/step - loss: 6.5775 - mae: 6.5775\n",
            "Epoch 155/200\n",
            "1/1 [==============================] - 0s 6ms/step - loss: 6.5719 - mae: 6.5719\n",
            "Epoch 156/200\n",
            "1/1 [==============================] - 0s 6ms/step - loss: 6.5662 - mae: 6.5662\n",
            "Epoch 157/200\n",
            "1/1 [==============================] - 0s 6ms/step - loss: 6.5606 - mae: 6.5606\n",
            "Epoch 158/200\n",
            "1/1 [==============================] - 0s 7ms/step - loss: 6.5550 - mae: 6.5550\n",
            "Epoch 159/200\n",
            "1/1 [==============================] - 0s 5ms/step - loss: 6.5494 - mae: 6.5494\n",
            "Epoch 160/200\n",
            "1/1 [==============================] - 0s 6ms/step - loss: 6.5437 - mae: 6.5437\n",
            "Epoch 161/200\n",
            "1/1 [==============================] - 0s 6ms/step - loss: 6.5381 - mae: 6.5381\n",
            "Epoch 162/200\n",
            "1/1 [==============================] - 0s 7ms/step - loss: 6.5325 - mae: 6.5325\n",
            "Epoch 163/200\n",
            "1/1 [==============================] - 0s 5ms/step - loss: 6.5269 - mae: 6.5269\n",
            "Epoch 164/200\n",
            "1/1 [==============================] - 0s 6ms/step - loss: 6.5212 - mae: 6.5212\n",
            "Epoch 165/200\n",
            "1/1 [==============================] - 0s 5ms/step - loss: 6.5156 - mae: 6.5156\n",
            "Epoch 166/200\n",
            "1/1 [==============================] - 0s 5ms/step - loss: 6.5100 - mae: 6.5100\n",
            "Epoch 167/200\n",
            "1/1 [==============================] - 0s 6ms/step - loss: 6.5044 - mae: 6.5044\n",
            "Epoch 168/200\n",
            "1/1 [==============================] - 0s 7ms/step - loss: 6.4987 - mae: 6.4987\n",
            "Epoch 169/200\n",
            "1/1 [==============================] - 0s 6ms/step - loss: 6.4931 - mae: 6.4931\n",
            "Epoch 170/200\n",
            "1/1 [==============================] - 0s 6ms/step - loss: 6.4875 - mae: 6.4875\n",
            "Epoch 171/200\n",
            "1/1 [==============================] - 0s 7ms/step - loss: 6.4819 - mae: 6.4819\n",
            "Epoch 172/200\n",
            "1/1 [==============================] - 0s 6ms/step - loss: 6.4762 - mae: 6.4762\n",
            "Epoch 173/200\n",
            "1/1 [==============================] - 0s 6ms/step - loss: 6.4706 - mae: 6.4706\n",
            "Epoch 174/200\n",
            "1/1 [==============================] - 0s 6ms/step - loss: 6.4650 - mae: 6.4650\n",
            "Epoch 175/200\n",
            "1/1 [==============================] - 0s 7ms/step - loss: 6.4594 - mae: 6.4594\n",
            "Epoch 176/200\n",
            "1/1 [==============================] - 0s 10ms/step - loss: 6.4537 - mae: 6.4537\n",
            "Epoch 177/200\n",
            "1/1 [==============================] - 0s 12ms/step - loss: 6.4481 - mae: 6.4481\n",
            "Epoch 178/200\n",
            "1/1 [==============================] - 0s 9ms/step - loss: 6.4425 - mae: 6.4425\n",
            "Epoch 179/200\n",
            "1/1 [==============================] - 0s 11ms/step - loss: 6.4369 - mae: 6.4369\n",
            "Epoch 180/200\n",
            "1/1 [==============================] - 0s 11ms/step - loss: 6.4312 - mae: 6.4312\n",
            "Epoch 181/200\n",
            "1/1 [==============================] - 0s 5ms/step - loss: 6.4256 - mae: 6.4256\n",
            "Epoch 182/200\n",
            "1/1 [==============================] - 0s 6ms/step - loss: 6.4200 - mae: 6.4200\n",
            "Epoch 183/200\n",
            "1/1 [==============================] - 0s 5ms/step - loss: 6.4144 - mae: 6.4144\n",
            "Epoch 184/200\n",
            "1/1 [==============================] - 0s 5ms/step - loss: 6.4087 - mae: 6.4087\n",
            "Epoch 185/200\n",
            "1/1 [==============================] - 0s 6ms/step - loss: 6.4031 - mae: 6.4031\n",
            "Epoch 186/200\n",
            "1/1 [==============================] - 0s 6ms/step - loss: 6.3975 - mae: 6.3975\n",
            "Epoch 187/200\n",
            "1/1 [==============================] - 0s 7ms/step - loss: 6.3919 - mae: 6.3919\n",
            "Epoch 188/200\n",
            "1/1 [==============================] - 0s 6ms/step - loss: 6.3862 - mae: 6.3862\n",
            "Epoch 189/200\n",
            "1/1 [==============================] - 0s 10ms/step - loss: 6.3806 - mae: 6.3806\n",
            "Epoch 190/200\n",
            "1/1 [==============================] - 0s 16ms/step - loss: 6.3750 - mae: 6.3750\n",
            "Epoch 191/200\n",
            "1/1 [==============================] - 0s 11ms/step - loss: 6.3694 - mae: 6.3694\n",
            "Epoch 192/200\n",
            "1/1 [==============================] - 0s 16ms/step - loss: 6.3637 - mae: 6.3637\n",
            "Epoch 193/200\n",
            "1/1 [==============================] - 0s 13ms/step - loss: 6.3581 - mae: 6.3581\n",
            "Epoch 194/200\n",
            "1/1 [==============================] - 0s 17ms/step - loss: 6.3525 - mae: 6.3525\n",
            "Epoch 195/200\n",
            "1/1 [==============================] - 0s 10ms/step - loss: 6.3469 - mae: 6.3469\n",
            "Epoch 196/200\n",
            "1/1 [==============================] - 0s 13ms/step - loss: 6.3412 - mae: 6.3412\n",
            "Epoch 197/200\n",
            "1/1 [==============================] - 0s 15ms/step - loss: 6.3356 - mae: 6.3356\n",
            "Epoch 198/200\n",
            "1/1 [==============================] - 0s 14ms/step - loss: 6.3300 - mae: 6.3300\n",
            "Epoch 199/200\n",
            "1/1 [==============================] - 0s 8ms/step - loss: 6.3244 - mae: 6.3244\n",
            "Epoch 200/200\n",
            "1/1 [==============================] - 0s 8ms/step - loss: 6.3187 - mae: 6.3187\n"
          ]
        },
        {
          "output_type": "execute_result",
          "data": {
            "text/plain": [
              "<keras.callbacks.History at 0x7f5a15cfe050>"
            ]
          },
          "metadata": {},
          "execution_count": 48
        }
      ]
    },
    {
      "cell_type": "code",
      "source": [
        "# Check out X and y\n",
        "X, y"
      ],
      "metadata": {
        "colab": {
          "base_uri": "https://localhost:8080/"
        },
        "id": "1KaP1rjnTFEX",
        "outputId": "8d3aefa6-4a45-44d5-d513-d5d2875d4f9f"
      },
      "execution_count": 49,
      "outputs": [
        {
          "output_type": "execute_result",
          "data": {
            "text/plain": [
              "(<tf.Tensor: shape=(8,), dtype=float32, numpy=array([-7., -4., -1.,  2.,  5.,  8., 11., 14.], dtype=float32)>,\n",
              " <tf.Tensor: shape=(8,), dtype=float32, numpy=array([ 3.,  6.,  9., 12., 15., 18., 21., 24.], dtype=float32)>)"
            ]
          },
          "metadata": {},
          "execution_count": 49
        }
      ]
    },
    {
      "cell_type": "code",
      "source": [
        "# Make a prediction\n",
        "y_pred = model.predict([17.0])"
      ],
      "metadata": {
        "colab": {
          "base_uri": "https://localhost:8080/"
        },
        "id": "KDC7bjlST8Zf",
        "outputId": "07b71398-8c4c-4afe-8566-be469f9898c9"
      },
      "execution_count": 50,
      "outputs": [
        {
          "output_type": "stream",
          "name": "stdout",
          "text": [
            "1/1 [==============================] - 0s 59ms/step\n"
          ]
        }
      ]
    },
    {
      "cell_type": "code",
      "source": [
        "y_pred"
      ],
      "metadata": {
        "colab": {
          "base_uri": "https://localhost:8080/"
        },
        "id": "5u3aNJccULbH",
        "outputId": "79042b1d-7102-4a41-d689-ff63dfd5bc07"
      },
      "execution_count": 51,
      "outputs": [
        {
          "output_type": "execute_result",
          "data": {
            "text/plain": [
              "array([[30.908516]], dtype=float32)"
            ]
          },
          "metadata": {},
          "execution_count": 51
        }
      ]
    },
    {
      "cell_type": "code",
      "source": [],
      "metadata": {
        "id": "e6XCaZwjUXBf"
      },
      "execution_count": null,
      "outputs": []
    }
  ]
}